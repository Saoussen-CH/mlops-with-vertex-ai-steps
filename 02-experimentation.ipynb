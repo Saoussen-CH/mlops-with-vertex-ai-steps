{
 "cells": [
  {
   "cell_type": "markdown",
   "id": "1eae86f7",
   "metadata": {},
   "source": [
    "# 02 - ML Experimentation with Custom Model\n",
    "\n",
    "The purpose of this notebook is to use [custom training](https://cloud.google.com/ai-platform-unified/docs/training/custom-training) to train a keras classifier to predict whether a given trip will result in a tip > 20%. The notebook covers the following tasks:\n",
    "1. Preprocess the data locally using Apache Beam.\n",
    "2. Train and test custom model locally using a Keras implementation.\n",
    "3. Submit a Dataflow job to preprocess the data at scale.\n",
    "4. Submit a custom training job to Vertex AI using a [pre-built container](https://cloud.google.com/ai-platform-unified/docs/training/pre-built-containers).\n",
    "5. Upload the trained model to Vertex AI.\n",
    "6. Track experiment parameters from [Vertex AI Metadata](https://cloud.google.com/vertex-ai/docs/ml-metadata/introduction).\n",
    "7. Submit a [hyperparameter tuning job](https://cloud.google.com/vertex-ai/docs/training/hyperparameter-tuning-overview) to Vertex AI.\n",
    "\n",
    "We use [Vertex TensorBoard](https://cloud.google.com/vertex-ai/docs/experiments/tensorboard-overview) \n",
    "and [Vertex ML Metadata](https://cloud.google.com/vertex-ai/docs/ml-metadata/introduction) to  track, visualize, and compare ML experiments."
   ]
  },
  {
   "cell_type": "markdown",
   "id": "b5205917",
   "metadata": {},
   "source": [
    "## Setup"
   ]
  },
  {
   "cell_type": "markdown",
   "id": "624c6cfe",
   "metadata": {},
   "source": [
    "### Import libraries"
   ]
  },
  {
   "cell_type": "code",
<<<<<<< HEAD
   "execution_count": null,
   "id": "4171d42a",
   "metadata": {},
   "outputs": [],
=======
   "execution_count": 1,
   "id": "4171d42a",
   "metadata": {
    "tags": []
   },
   "outputs": [
    {
     "name": "stderr",
     "output_type": "stream",
     "text": [
      "2024-01-23 21:19:48.355253: I tensorflow/core/platform/cpu_feature_guard.cc:182] This TensorFlow binary is optimized to use available CPU instructions in performance-critical operations.\n",
      "To enable the following instructions: AVX2 FMA, in other operations, rebuild TensorFlow with the appropriate compiler flags.\n",
      "/opt/conda/lib/python3.10/site-packages/tensorflow_io/python/ops/__init__.py:98: UserWarning: unable to load libtensorflow_io_plugins.so: unable to open file: libtensorflow_io_plugins.so, from paths: ['/opt/conda/lib/python3.10/site-packages/tensorflow_io/python/ops/libtensorflow_io_plugins.so']\n",
      "caused by: ['/opt/conda/lib/python3.10/site-packages/tensorflow_io/python/ops/libtensorflow_io_plugins.so: undefined symbol: _ZN3tsl6Status12empty_stringB5cxx11Ev']\n",
      "  warnings.warn(f\"unable to load libtensorflow_io_plugins.so: {e}\")\n",
      "/opt/conda/lib/python3.10/site-packages/tensorflow_io/python/ops/__init__.py:104: UserWarning: file system plugins are not loaded: unable to open file: libtensorflow_io.so, from paths: ['/opt/conda/lib/python3.10/site-packages/tensorflow_io/python/ops/libtensorflow_io.so']\n",
      "caused by: ['/opt/conda/lib/python3.10/site-packages/tensorflow_io/python/ops/libtensorflow_io.so: undefined symbol: _ZNK10tensorflow4data11DatasetBase8FinalizeEPNS_15OpKernelContextESt8functionIFN3tsl8StatusOrISt10unique_ptrIS1_NS5_4core15RefCountDeleterEEEEvEE']\n",
      "  warnings.warn(f\"file system plugins are not loaded: {e}\")\n"
     ]
    },
    {
     "name": "stdout",
     "output_type": "stream",
     "text": [
      "TensorFlow: 2.13.1\n",
      "TensorFlow Transform: 1.14.0\n"
     ]
    }
   ],
>>>>>>> 811e3c7 (update code to work with tfx 1.14)
   "source": [
    "import os\n",
    "import logging\n",
    "from datetime import datetime\n",
    "import numpy as np\n",
    "\n",
    "import tensorflow as tf\n",
    "import tensorflow_transform as tft\n",
    "import tensorflow.keras as keras\n",
    "\n",
    "from google.cloud import aiplatform as vertex_ai\n",
    "from google.cloud.aiplatform import hyperparameter_tuning as hp_tuning\n",
    "\n",
    "from src.common import features, datasource_utils\n",
    "from src.model_training import data, model, defaults, trainer, exporter\n",
    "from src.preprocessing import etl\n",
    "\n",
    "logging.getLogger().setLevel(logging.INFO)\n",
    "tf.get_logger().setLevel('INFO')\n",
    "\n",
    "print(f\"TensorFlow: {tf.__version__}\")\n",
    "print(f\"TensorFlow Transform: {tft.__version__}\")"
   ]
  },
  {
   "cell_type": "markdown",
   "id": "fde361cf",
   "metadata": {},
   "source": [
    "### Setup Google Cloud project"
   ]
  },
  {
   "cell_type": "code",
<<<<<<< HEAD
   "execution_count": null,
=======
   "execution_count": 2,
>>>>>>> 811e3c7 (update code to work with tfx 1.14)
   "id": "31fce242",
   "metadata": {},
   "outputs": [],
   "source": [
    "PROJECT = '[your-project-id]' # Change to your project id.\n",
    "REGION = 'us-central1' # Change to your region.\n",
    "BUCKET = '[your-bucket-name]' # Change to your bucket name.\n",
    "SERVICE_ACCOUNT = \"[your-service-account]\"\n",
    "\n",
    "if PROJECT == \"\" or PROJECT is None or PROJECT == \"[your-project-id]\":\n",
    "    # Get your GCP project id from gcloud\n",
    "    shell_output = !gcloud config list --format 'value(core.project)' 2>/dev/null\n",
    "    PROJECT = shell_output[0]\n",
    "    \n",
    "if SERVICE_ACCOUNT == \"\" or SERVICE_ACCOUNT is None or SERVICE_ACCOUNT == \"[your-service-account]\":\n",
    "    # Get your GCP project id from gcloud\n",
    "    shell_output = !gcloud config list --format 'value(core.account)' 2>/dev/null\n",
    "    SERVICE_ACCOUNT = shell_output[0]\n",
    "    \n",
    "if BUCKET == \"\" or BUCKET is None or BUCKET == \"[your-bucket-name]\":\n",
    "    # Get your bucket name to GCP projet id\n",
    "    BUCKET = PROJECT\n",
    "    # Try to create the bucket if it doesn'exists\n",
    "    ! gsutil mb -l $REGION gs://$BUCKET\n",
    "    print(\"\")\n",
    "    \n",
    "PARENT = f\"projects/{PROJECT}/locations/{REGION}\"\n",
    "    \n",
    "print(\"Project ID:\", PROJECT)\n",
    "print(\"Region:\", REGION)\n",
    "print(\"Bucket name:\", BUCKET)\n",
    "print(\"Service Account:\", SERVICE_ACCOUNT)\n",
    "print(\"Vertex API Parent URI:\", PARENT)"
   ]
  },
  {
   "cell_type": "markdown",
   "id": "26cfd33f",
   "metadata": {},
   "source": [
    "### Set configurations"
   ]
  },
  {
   "cell_type": "code",
<<<<<<< HEAD
   "execution_count": null,
=======
   "execution_count": 3,
>>>>>>> 811e3c7 (update code to work with tfx 1.14)
   "id": "b363e822",
   "metadata": {},
   "outputs": [],
   "source": [
    "VERSION = 'v01'\n",
    "DATASET_DISPLAY_NAME = 'chicago-taxi-tips'\n",
    "MODEL_DISPLAY_NAME = f'{DATASET_DISPLAY_NAME}-classifier-{VERSION}'\n",
    "\n",
    "WORKSPACE = f'gs://{BUCKET}/{DATASET_DISPLAY_NAME}'\n",
    "EXPERIMENT_ARTIFACTS_DIR = os.path.join(WORKSPACE, 'experiments')\n",
    "RAW_SCHEMA_LOCATION = 'src/raw_schema/schema.pbtxt'\n",
    "\n",
    "TENSORBOARD_DISPLAY_NAME = f'tb-{DATASET_DISPLAY_NAME}'\n",
    "EXPERIMENT_NAME = f'{MODEL_DISPLAY_NAME}'"
   ]
  },
  {
   "cell_type": "markdown",
   "id": "e2cf63d9",
   "metadata": {},
   "source": [
    "## Create Vertex TensorBoard instance "
   ]
  },
  {
   "cell_type": "code",
<<<<<<< HEAD
   "execution_count": null,
   "id": "1cf8ef5c",
   "metadata": {},
   "outputs": [],
=======
   "execution_count": 4,
   "id": "1cf8ef5c",
   "metadata": {
    "tags": []
   },
   "outputs": [
    {
     "name": "stdout",
     "output_type": "stream",
     "text": [
      "Creating Tensorboard\n",
      "Create Tensorboard backing LRO: projects/13110252891/locations/us-central1/tensorboards/3760439718156697600/operations/1742222284979961856\n",
      "Tensorboard created. Resource name: projects/13110252891/locations/us-central1/tensorboards/3760439718156697600\n",
      "To use this Tensorboard in another session:\n",
      "tb = aiplatform.Tensorboard('projects/13110252891/locations/us-central1/tensorboards/3760439718156697600')\n",
      "TensorBoard resource name: projects/13110252891/locations/us-central1/tensorboards/3760439718156697600\n"
     ]
    }
   ],
>>>>>>> 811e3c7 (update code to work with tfx 1.14)
   "source": [
    "tensorboard_resource = vertex_ai.Tensorboard.create(display_name=TENSORBOARD_DISPLAY_NAME)\n",
    "tensorboard_resource_name = tensorboard_resource.gca_resource.name\n",
    "print(\"TensorBoard resource name:\", tensorboard_resource_name)"
   ]
  },
  {
   "cell_type": "markdown",
   "id": "670a3859",
   "metadata": {},
   "source": [
    "## Initialize workspace"
   ]
  },
  {
   "cell_type": "code",
<<<<<<< HEAD
   "execution_count": null,
   "id": "7d03fba1",
   "metadata": {},
   "outputs": [],
=======
   "execution_count": 5,
   "id": "7d03fba1",
   "metadata": {
    "tags": []
   },
   "outputs": [
    {
     "name": "stdout",
     "output_type": "stream",
     "text": [
      "Creating new experiment artifacts directory...\n",
      "Workspace is ready.\n",
      "Experiment directory: gs://stellar-orb-408015/chicago-taxi-tips/experiments\n"
     ]
    }
   ],
>>>>>>> 811e3c7 (update code to work with tfx 1.14)
   "source": [
    "REMOVE_EXPERIMENT_ARTIFACTS = False\n",
    "\n",
    "if tf.io.gfile.exists(EXPERIMENT_ARTIFACTS_DIR) and REMOVE_EXPERIMENT_ARTIFACTS:\n",
    "    print(\"Removing previous experiment artifacts...\")\n",
    "    tf.io.gfile.rmtree(EXPERIMENT_ARTIFACTS_DIR)\n",
    "\n",
    "if not tf.io.gfile.exists(EXPERIMENT_ARTIFACTS_DIR):\n",
    "    print(\"Creating new experiment artifacts directory...\")\n",
    "    tf.io.gfile.mkdir(EXPERIMENT_ARTIFACTS_DIR)\n",
    "\n",
    "print(\"Workspace is ready.\")\n",
    "print(\"Experiment directory:\", EXPERIMENT_ARTIFACTS_DIR)"
   ]
  },
  {
   "cell_type": "markdown",
   "id": "bd08e503",
   "metadata": {},
   "source": [
    "## Initialize Vertex AI experiment"
   ]
  },
  {
   "cell_type": "code",
<<<<<<< HEAD
   "execution_count": null,
   "id": "f3aefc2c",
   "metadata": {},
   "outputs": [],
=======
   "execution_count": 6,
   "id": "f3aefc2c",
   "metadata": {
    "tags": []
   },
   "outputs": [
    {
     "name": "stdout",
     "output_type": "stream",
     "text": [
      "Associating projects/13110252891/locations/us-central1/metadataStores/default/contexts/chicago-taxi-tips-classifier--v01-run-local-20240123211958 to Experiment: chicago-taxi-tips-classifier--v01\n",
      "Experiment run directory: gs://stellar-orb-408015/chicago-taxi-tips/experiments/chicago-taxi-tips-classifier--v01/run-local-20240123211958\n"
     ]
    }
   ],
>>>>>>> 811e3c7 (update code to work with tfx 1.14)
   "source": [
    "vertex_ai.init(\n",
    "    project=PROJECT,\n",
    "    location=REGION,\n",
    "    staging_bucket=BUCKET,\n",
    "    experiment=EXPERIMENT_NAME\n",
    ")\n",
    "\n",
    "run_id = f\"run-local-{datetime.now().strftime('%Y%m%d%H%M%S')}\"\n",
    "vertex_ai.start_run(run_id)\n",
    "\n",
    "EXPERIMENT_RUN_DIR = os.path.join(EXPERIMENT_ARTIFACTS_DIR, EXPERIMENT_NAME, run_id)\n",
    "print(\"Experiment run directory:\", EXPERIMENT_RUN_DIR)"
   ]
  },
  {
   "cell_type": "markdown",
   "id": "f9c8cee2",
   "metadata": {},
   "source": [
    "## 1. Preprocess the data using Apache Beam\n",
    "\n",
    "The Apache Beam pipeline of data preprocessing is implemented in the [preprocessing](src/preprocessing) directory."
   ]
  },
  {
   "cell_type": "code",
   "execution_count": 7,
   "id": "84a613a2",
   "metadata": {},
   "outputs": [],
   "source": [
    "EXPORTED_DATA_PREFIX = os.path.join(EXPERIMENT_RUN_DIR, 'exported_data')\n",
    "TRANSFORMED_DATA_PREFIX = os.path.join(EXPERIMENT_RUN_DIR, 'transformed_data')\n",
    "TRANSFORM_ARTIFACTS_DIR = os.path.join(EXPERIMENT_RUN_DIR, 'transform_artifacts')"
   ]
  },
  {
   "cell_type": "markdown",
   "id": "264b81f3",
   "metadata": {},
   "source": [
    "### Get Source Query from Managed Dataset"
   ]
  },
  {
   "cell_type": "code",
   "execution_count": 8,
   "id": "c9b8ad0f",
<<<<<<< HEAD
   "metadata": {},
   "outputs": [],
=======
   "metadata": {
    "tags": []
   },
   "outputs": [
    {
     "name": "stdout",
     "output_type": "stream",
     "text": [
      "\n",
      "    SELECT \n",
      "        IF(trip_month IS NULL, -1, trip_month) trip_month,\n",
      "        IF(trip_day IS NULL, -1, trip_day) trip_day,\n",
      "        IF(trip_day_of_week IS NULL, -1, trip_day_of_week) trip_day_of_week,\n",
      "        IF(trip_hour IS NULL, -1, trip_hour) trip_hour,\n",
      "        IF(trip_seconds IS NULL, -1, trip_seconds) trip_seconds,\n",
      "        IF(trip_miles IS NULL, -1, trip_miles) trip_miles,\n",
      "        IF(payment_type IS NULL, 'NA', payment_type) payment_type,\n",
      "        IF(pickup_grid IS NULL, 'NA', pickup_grid) pickup_grid,\n",
      "        IF(dropoff_grid IS NULL, 'NA', dropoff_grid) dropoff_grid,\n",
      "        IF(euclidean IS NULL, -1, euclidean) euclidean,\n",
      "        IF(loc_cross IS NULL, 'NA', loc_cross) loc_cross,\n",
      "        tip_bin\n",
      "    FROM playground_us.chicago_taxitrips_final \n",
      "    WHERE ML_use = 'UNASSIGNED'\n",
      "    LIMIT 5120\n"
     ]
    }
   ],
>>>>>>> 811e3c7 (update code to work with tfx 1.14)
   "source": [
    "ML_USE = 'UNASSIGNED'\n",
    "LIMIT = 5120\n",
    "\n",
    "raw_data_query = datasource_utils.get_training_source_query(\n",
    "    project=PROJECT, \n",
    "    region=REGION, \n",
    "    dataset_display_name=DATASET_DISPLAY_NAME, \n",
    "    ml_use=ML_USE, \n",
    "    limit=LIMIT\n",
    ")\n",
    "\n",
    "print(raw_data_query)"
   ]
  },
  {
   "cell_type": "markdown",
   "id": "6047eac1",
   "metadata": {},
   "source": [
    "### Test Data Preprocessing Locally"
   ]
  },
  {
   "cell_type": "code",
   "execution_count": 9,
   "id": "ac9b5b05",
   "metadata": {},
   "outputs": [],
   "source": [
    "args = {\n",
    "    'runner': 'DirectRunner',\n",
    "    'raw_data_query': raw_data_query,\n",
    "    'write_raw_data': True,\n",
    "    'exported_data_prefix': EXPORTED_DATA_PREFIX,\n",
    "    'transformed_data_prefix': TRANSFORMED_DATA_PREFIX,\n",
    "    'transform_artifact_dir': TRANSFORM_ARTIFACTS_DIR,\n",
    "    'temporary_dir': os.path.join(WORKSPACE, 'tmp'),\n",
    "    'gcs_location': f'gs://{BUCKET}/bq_tmp',\n",
    "    'project': PROJECT\n",
    "}"
   ]
  },
  {
   "cell_type": "code",
   "execution_count": 10,
   "id": "6c225f37",
   "metadata": {},
   "outputs": [],
   "source": [
    "vertex_ai.log_params(args)"
   ]
  },
  {
   "cell_type": "code",
   "execution_count": 11,
   "id": "56ece730",
<<<<<<< HEAD
   "metadata": {},
   "outputs": [],
=======
   "metadata": {
    "tags": []
   },
   "outputs": [
    {
     "name": "stderr",
     "output_type": "stream",
     "text": [
      "INFO:absl:Feature trip_month has a shape dim {\n",
      "  size: 1\n",
      "}\n",
      ". Setting to DenseTensor.\n",
      "INFO:absl:Feature trip_day has a shape dim {\n",
      "  size: 1\n",
      "}\n",
      ". Setting to DenseTensor.\n",
      "INFO:absl:Feature trip_day_of_week has a shape dim {\n",
      "  size: 1\n",
      "}\n",
      ". Setting to DenseTensor.\n",
      "INFO:absl:Feature trip_hour has a shape dim {\n",
      "  size: 1\n",
      "}\n",
      ". Setting to DenseTensor.\n",
      "INFO:absl:Feature trip_seconds has a shape dim {\n",
      "  size: 1\n",
      "}\n",
      ". Setting to DenseTensor.\n",
      "INFO:absl:Feature trip_miles has a shape dim {\n",
      "  size: 1\n",
      "}\n",
      ". Setting to DenseTensor.\n",
      "INFO:absl:Feature payment_type has a shape dim {\n",
      "  size: 1\n",
      "}\n",
      ". Setting to DenseTensor.\n",
      "INFO:absl:Feature pickup_grid has a shape dim {\n",
      "  size: 1\n",
      "}\n",
      ". Setting to DenseTensor.\n",
      "INFO:absl:Feature dropoff_grid has a shape dim {\n",
      "  size: 1\n",
      "}\n",
      ". Setting to DenseTensor.\n",
      "INFO:absl:Feature euclidean has a shape dim {\n",
      "  size: 1\n",
      "}\n",
      ". Setting to DenseTensor.\n",
      "INFO:absl:Feature loc_cross has a shape dim {\n",
      "  size: 1\n",
      "}\n",
      ". Setting to DenseTensor.\n",
      "INFO:absl:Feature tip_bin has a shape dim {\n",
      "  size: 1\n",
      "}\n",
      ". Setting to DenseTensor.\n"
     ]
    },
    {
     "name": "stdout",
     "output_type": "stream",
     "text": [
      "Data preprocessing started...\n"
     ]
    },
    {
     "name": "stderr",
     "output_type": "stream",
     "text": [
      "WARNING:apache_beam.runners.interactive.interactive_environment:Dependencies required for Interactive Beam PCollection visualization are not available, please use: `pip install apache-beam[interactive]` to install necessary dependencies to enable all data visualization features.\n"
     ]
    },
    {
     "data": {
      "application/javascript": [
       "\n",
       "        if (typeof window.interactive_beam_jquery == 'undefined') {\n",
       "          var jqueryScript = document.createElement('script');\n",
       "          jqueryScript.src = 'https://code.jquery.com/jquery-3.4.1.slim.min.js';\n",
       "          jqueryScript.type = 'text/javascript';\n",
       "          jqueryScript.onload = function() {\n",
       "            var datatableScript = document.createElement('script');\n",
       "            datatableScript.src = 'https://cdn.datatables.net/1.10.20/js/jquery.dataTables.min.js';\n",
       "            datatableScript.type = 'text/javascript';\n",
       "            datatableScript.onload = function() {\n",
       "              window.interactive_beam_jquery = jQuery.noConflict(true);\n",
       "              window.interactive_beam_jquery(document).ready(function($){\n",
       "                \n",
       "              });\n",
       "            }\n",
       "            document.head.appendChild(datatableScript);\n",
       "          };\n",
       "          document.head.appendChild(jqueryScript);\n",
       "        } else {\n",
       "          window.interactive_beam_jquery(document).ready(function($){\n",
       "            \n",
       "          });\n",
       "        }"
      ]
     },
     "metadata": {},
     "output_type": "display_data"
    },
    {
     "name": "stderr",
     "output_type": "stream",
     "text": [
      "/opt/conda/lib/python3.10/site-packages/apache_beam/io/gcp/bigquery.py:2748: BeamDeprecationWarning: options is deprecated since First stable release. References to <pipeline>.options will not be supported\n",
      "  temp_location = pcoll.pipeline.options.view_as(\n",
      "WARNING:absl:You are passing instance dicts and DatasetMetadata to TFT which will not provide optimal performance. Consider following the TFT guide to upgrade to the TFXIO format (Apache Arrow RecordBatch).\n",
      "INFO:absl:Feature dropoff_grid has a shape dim {\n",
      "  size: 1\n",
      "}\n",
      ". Setting to DenseTensor.\n",
      "INFO:absl:Feature euclidean has a shape dim {\n",
      "  size: 1\n",
      "}\n",
      ". Setting to DenseTensor.\n",
      "INFO:absl:Feature loc_cross has a shape dim {\n",
      "  size: 1\n",
      "}\n",
      ". Setting to DenseTensor.\n",
      "INFO:absl:Feature payment_type has a shape dim {\n",
      "  size: 1\n",
      "}\n",
      ". Setting to DenseTensor.\n",
      "INFO:absl:Feature pickup_grid has a shape dim {\n",
      "  size: 1\n",
      "}\n",
      ". Setting to DenseTensor.\n",
      "INFO:absl:Feature tip_bin has a shape dim {\n",
      "  size: 1\n",
      "}\n",
      ". Setting to DenseTensor.\n",
      "INFO:absl:Feature trip_day has a shape dim {\n",
      "  size: 1\n",
      "}\n",
      ". Setting to DenseTensor.\n",
      "INFO:absl:Feature trip_day_of_week has a shape dim {\n",
      "  size: 1\n",
      "}\n",
      ". Setting to DenseTensor.\n",
      "INFO:absl:Feature trip_hour has a shape dim {\n",
      "  size: 1\n",
      "}\n",
      ". Setting to DenseTensor.\n",
      "INFO:absl:Feature trip_miles has a shape dim {\n",
      "  size: 1\n",
      "}\n",
      ". Setting to DenseTensor.\n",
      "INFO:absl:Feature trip_month has a shape dim {\n",
      "  size: 1\n",
      "}\n",
      ". Setting to DenseTensor.\n",
      "INFO:absl:Feature trip_seconds has a shape dim {\n",
      "  size: 1\n",
      "}\n",
      ". Setting to DenseTensor.\n",
      "INFO:absl:Feature dropoff_grid has a shape dim {\n",
      "  size: 1\n",
      "}\n",
      ". Setting to DenseTensor.\n",
      "INFO:absl:Feature euclidean has a shape dim {\n",
      "  size: 1\n",
      "}\n",
      ". Setting to DenseTensor.\n",
      "INFO:absl:Feature loc_cross has a shape dim {\n",
      "  size: 1\n",
      "}\n",
      ". Setting to DenseTensor.\n",
      "INFO:absl:Feature payment_type has a shape dim {\n",
      "  size: 1\n",
      "}\n",
      ". Setting to DenseTensor.\n",
      "INFO:absl:Feature pickup_grid has a shape dim {\n",
      "  size: 1\n",
      "}\n",
      ". Setting to DenseTensor.\n",
      "INFO:absl:Feature tip_bin has a shape dim {\n",
      "  size: 1\n",
      "}\n",
      ". Setting to DenseTensor.\n",
      "INFO:absl:Feature trip_day has a shape dim {\n",
      "  size: 1\n",
      "}\n",
      ". Setting to DenseTensor.\n",
      "INFO:absl:Feature trip_day_of_week has a shape dim {\n",
      "  size: 1\n",
      "}\n",
      ". Setting to DenseTensor.\n",
      "INFO:absl:Feature trip_hour has a shape dim {\n",
      "  size: 1\n",
      "}\n",
      ". Setting to DenseTensor.\n",
      "INFO:absl:Feature trip_miles has a shape dim {\n",
      "  size: 1\n",
      "}\n",
      ". Setting to DenseTensor.\n",
      "INFO:absl:Feature trip_month has a shape dim {\n",
      "  size: 1\n",
      "}\n",
      ". Setting to DenseTensor.\n",
      "INFO:absl:Feature trip_seconds has a shape dim {\n",
      "  size: 1\n",
      "}\n",
      ". Setting to DenseTensor.\n",
      "INFO:absl:Feature dropoff_grid has a shape dim {\n",
      "  size: 1\n",
      "}\n",
      ". Setting to DenseTensor.\n",
      "INFO:absl:Feature euclidean has a shape dim {\n",
      "  size: 1\n",
      "}\n",
      ". Setting to DenseTensor.\n",
      "INFO:absl:Feature loc_cross has a shape dim {\n",
      "  size: 1\n",
      "}\n",
      ". Setting to DenseTensor.\n",
      "INFO:absl:Feature payment_type has a shape dim {\n",
      "  size: 1\n",
      "}\n",
      ". Setting to DenseTensor.\n",
      "INFO:absl:Feature pickup_grid has a shape dim {\n",
      "  size: 1\n",
      "}\n",
      ". Setting to DenseTensor.\n",
      "INFO:absl:Feature tip_bin has a shape dim {\n",
      "  size: 1\n",
      "}\n",
      ". Setting to DenseTensor.\n",
      "INFO:absl:Feature trip_day has a shape dim {\n",
      "  size: 1\n",
      "}\n",
      ". Setting to DenseTensor.\n",
      "INFO:absl:Feature trip_day_of_week has a shape dim {\n",
      "  size: 1\n",
      "}\n",
      ". Setting to DenseTensor.\n",
      "INFO:absl:Feature trip_hour has a shape dim {\n",
      "  size: 1\n",
      "}\n",
      ". Setting to DenseTensor.\n",
      "INFO:absl:Feature trip_miles has a shape dim {\n",
      "  size: 1\n",
      "}\n",
      ". Setting to DenseTensor.\n",
      "INFO:absl:Feature trip_month has a shape dim {\n",
      "  size: 1\n",
      "}\n",
      ". Setting to DenseTensor.\n",
      "INFO:absl:Feature trip_seconds has a shape dim {\n",
      "  size: 1\n",
      "}\n",
      ". Setting to DenseTensor.\n",
      "INFO:apache_beam.typehints.native_type_compatibility:Using Any for unsupported type: typing.Sequence[str]\n",
      "WARNING:absl:You are passing instance dicts and DatasetMetadata to TFT which will not provide optimal performance. Consider following the TFT guide to upgrade to the TFXIO format (Apache Arrow RecordBatch).\n",
      "INFO:absl:Feature dropoff_grid has a shape dim {\n",
      "  size: 1\n",
      "}\n",
      ". Setting to DenseTensor.\n",
      "INFO:absl:Feature euclidean has a shape dim {\n",
      "  size: 1\n",
      "}\n",
      ". Setting to DenseTensor.\n",
      "INFO:absl:Feature loc_cross has a shape dim {\n",
      "  size: 1\n",
      "}\n",
      ". Setting to DenseTensor.\n",
      "INFO:absl:Feature payment_type has a shape dim {\n",
      "  size: 1\n",
      "}\n",
      ". Setting to DenseTensor.\n",
      "INFO:absl:Feature pickup_grid has a shape dim {\n",
      "  size: 1\n",
      "}\n",
      ". Setting to DenseTensor.\n",
      "INFO:absl:Feature tip_bin has a shape dim {\n",
      "  size: 1\n",
      "}\n",
      ". Setting to DenseTensor.\n",
      "INFO:absl:Feature trip_day has a shape dim {\n",
      "  size: 1\n",
      "}\n",
      ". Setting to DenseTensor.\n",
      "INFO:absl:Feature trip_day_of_week has a shape dim {\n",
      "  size: 1\n",
      "}\n",
      ". Setting to DenseTensor.\n",
      "INFO:absl:Feature trip_hour has a shape dim {\n",
      "  size: 1\n",
      "}\n",
      ". Setting to DenseTensor.\n",
      "INFO:absl:Feature trip_miles has a shape dim {\n",
      "  size: 1\n",
      "}\n",
      ". Setting to DenseTensor.\n",
      "INFO:absl:Feature trip_month has a shape dim {\n",
      "  size: 1\n",
      "}\n",
      ". Setting to DenseTensor.\n",
      "INFO:absl:Feature trip_seconds has a shape dim {\n",
      "  size: 1\n",
      "}\n",
      ". Setting to DenseTensor.\n",
      "INFO:absl:Feature dropoff_grid has a shape dim {\n",
      "  size: 1\n",
      "}\n",
      ". Setting to DenseTensor.\n",
      "INFO:absl:Feature euclidean has a shape dim {\n",
      "  size: 1\n",
      "}\n",
      ". Setting to DenseTensor.\n",
      "INFO:absl:Feature loc_cross has a shape dim {\n",
      "  size: 1\n",
      "}\n",
      ". Setting to DenseTensor.\n",
      "INFO:absl:Feature payment_type has a shape dim {\n",
      "  size: 1\n",
      "}\n",
      ". Setting to DenseTensor.\n",
      "INFO:absl:Feature pickup_grid has a shape dim {\n",
      "  size: 1\n",
      "}\n",
      ". Setting to DenseTensor.\n",
      "INFO:absl:Feature tip_bin has a shape dim {\n",
      "  size: 1\n",
      "}\n",
      ". Setting to DenseTensor.\n",
      "INFO:absl:Feature trip_day has a shape dim {\n",
      "  size: 1\n",
      "}\n",
      ". Setting to DenseTensor.\n",
      "INFO:absl:Feature trip_day_of_week has a shape dim {\n",
      "  size: 1\n",
      "}\n",
      ". Setting to DenseTensor.\n",
      "INFO:absl:Feature trip_hour has a shape dim {\n",
      "  size: 1\n",
      "}\n",
      ". Setting to DenseTensor.\n",
      "INFO:absl:Feature trip_miles has a shape dim {\n",
      "  size: 1\n",
      "}\n",
      ". Setting to DenseTensor.\n",
      "INFO:absl:Feature trip_month has a shape dim {\n",
      "  size: 1\n",
      "}\n",
      ". Setting to DenseTensor.\n",
      "INFO:absl:Feature trip_seconds has a shape dim {\n",
      "  size: 1\n",
      "}\n",
      ". Setting to DenseTensor.\n",
      "INFO:absl:Feature dropoff_grid has a shape dim {\n",
      "  size: 1\n",
      "}\n",
      ". Setting to DenseTensor.\n",
      "INFO:absl:Feature euclidean has a shape dim {\n",
      "  size: 1\n",
      "}\n",
      ". Setting to DenseTensor.\n",
      "INFO:absl:Feature loc_cross has a shape dim {\n",
      "  size: 1\n",
      "}\n",
      ". Setting to DenseTensor.\n",
      "INFO:absl:Feature payment_type has a shape dim {\n",
      "  size: 1\n",
      "}\n",
      ". Setting to DenseTensor.\n",
      "INFO:absl:Feature pickup_grid has a shape dim {\n",
      "  size: 1\n",
      "}\n",
      ". Setting to DenseTensor.\n",
      "INFO:absl:Feature tip_bin has a shape dim {\n",
      "  size: 1\n",
      "}\n",
      ". Setting to DenseTensor.\n",
      "INFO:absl:Feature trip_day has a shape dim {\n",
      "  size: 1\n",
      "}\n",
      ". Setting to DenseTensor.\n",
      "INFO:absl:Feature trip_day_of_week has a shape dim {\n",
      "  size: 1\n",
      "}\n",
      ". Setting to DenseTensor.\n",
      "INFO:absl:Feature trip_hour has a shape dim {\n",
      "  size: 1\n",
      "}\n",
      ". Setting to DenseTensor.\n",
      "INFO:absl:Feature trip_miles has a shape dim {\n",
      "  size: 1\n",
      "}\n",
      ". Setting to DenseTensor.\n",
      "INFO:absl:Feature trip_month has a shape dim {\n",
      "  size: 1\n",
      "}\n",
      ". Setting to DenseTensor.\n",
      "INFO:absl:Feature trip_seconds has a shape dim {\n",
      "  size: 1\n",
      "}\n",
      ". Setting to DenseTensor.\n",
      "INFO:apache_beam.typehints.native_type_compatibility:Using Any for unsupported type: typing.Sequence[str]\n",
      "WARNING:absl:You are outputting instance dicts from `TransformDataset` which will not provide optimal performance. Consider setting  `output_record_batches=True` to upgrade to the TFXIO format (Apache Arrow RecordBatch). Encoding functionality in this module works with both formats.\n",
      "INFO:absl:Feature dropoff_grid_xf has a shape . Setting to DenseTensor.\n",
      "INFO:absl:Feature euclidean_xf has a shape . Setting to DenseTensor.\n",
      "INFO:absl:Feature loc_cross_xf has a shape . Setting to DenseTensor.\n",
      "INFO:absl:Feature payment_type_xf has a shape . Setting to DenseTensor.\n",
      "INFO:absl:Feature pickup_grid_xf has a shape . Setting to DenseTensor.\n",
      "INFO:absl:Feature tip_bin has a shape . Setting to DenseTensor.\n",
      "INFO:absl:Feature trip_day_of_week_xf has a shape . Setting to DenseTensor.\n",
      "INFO:absl:Feature trip_day_xf has a shape . Setting to DenseTensor.\n",
      "INFO:absl:Feature trip_hour_xf has a shape . Setting to DenseTensor.\n",
      "INFO:absl:Feature trip_miles_xf has a shape . Setting to DenseTensor.\n",
      "INFO:absl:Feature trip_month_xf has a shape . Setting to DenseTensor.\n",
      "INFO:absl:Feature trip_seconds_xf has a shape . Setting to DenseTensor.\n",
      "INFO:absl:Feature dropoff_grid_xf has a shape . Setting to DenseTensor.\n",
      "INFO:absl:Feature euclidean_xf has a shape . Setting to DenseTensor.\n",
      "INFO:absl:Feature loc_cross_xf has a shape . Setting to DenseTensor.\n",
      "INFO:absl:Feature payment_type_xf has a shape . Setting to DenseTensor.\n",
      "INFO:absl:Feature pickup_grid_xf has a shape . Setting to DenseTensor.\n",
      "INFO:absl:Feature tip_bin has a shape . Setting to DenseTensor.\n",
      "INFO:absl:Feature trip_day_of_week_xf has a shape . Setting to DenseTensor.\n",
      "INFO:absl:Feature trip_day_xf has a shape . Setting to DenseTensor.\n",
      "INFO:absl:Feature trip_hour_xf has a shape . Setting to DenseTensor.\n",
      "INFO:absl:Feature trip_miles_xf has a shape . Setting to DenseTensor.\n",
      "INFO:absl:Feature trip_month_xf has a shape . Setting to DenseTensor.\n",
      "INFO:absl:Feature trip_seconds_xf has a shape . Setting to DenseTensor.\n",
      "INFO:absl:Feature dropoff_grid_xf has a shape . Setting to DenseTensor.\n",
      "INFO:absl:Feature euclidean_xf has a shape . Setting to DenseTensor.\n",
      "INFO:absl:Feature loc_cross_xf has a shape . Setting to DenseTensor.\n",
      "INFO:absl:Feature payment_type_xf has a shape . Setting to DenseTensor.\n",
      "INFO:absl:Feature pickup_grid_xf has a shape . Setting to DenseTensor.\n",
      "INFO:absl:Feature tip_bin has a shape . Setting to DenseTensor.\n",
      "INFO:absl:Feature trip_day_of_week_xf has a shape . Setting to DenseTensor.\n",
      "INFO:absl:Feature trip_day_xf has a shape . Setting to DenseTensor.\n",
      "INFO:absl:Feature trip_hour_xf has a shape . Setting to DenseTensor.\n",
      "INFO:absl:Feature trip_miles_xf has a shape . Setting to DenseTensor.\n",
      "INFO:absl:Feature trip_month_xf has a shape . Setting to DenseTensor.\n",
      "INFO:absl:Feature trip_seconds_xf has a shape . Setting to DenseTensor.\n",
      "INFO:absl:Feature dropoff_grid_xf has a shape . Setting to DenseTensor.\n",
      "INFO:absl:Feature euclidean_xf has a shape . Setting to DenseTensor.\n",
      "INFO:absl:Feature loc_cross_xf has a shape . Setting to DenseTensor.\n",
      "INFO:absl:Feature payment_type_xf has a shape . Setting to DenseTensor.\n",
      "INFO:absl:Feature pickup_grid_xf has a shape . Setting to DenseTensor.\n",
      "INFO:absl:Feature tip_bin has a shape . Setting to DenseTensor.\n",
      "INFO:absl:Feature trip_day_of_week_xf has a shape . Setting to DenseTensor.\n",
      "INFO:absl:Feature trip_day_xf has a shape . Setting to DenseTensor.\n",
      "INFO:absl:Feature trip_hour_xf has a shape . Setting to DenseTensor.\n",
      "INFO:absl:Feature trip_miles_xf has a shape . Setting to DenseTensor.\n",
      "INFO:absl:Feature trip_month_xf has a shape . Setting to DenseTensor.\n",
      "INFO:absl:Feature trip_seconds_xf has a shape . Setting to DenseTensor.\n",
      "INFO:absl:Feature dropoff_grid_xf has a shape . Setting to DenseTensor.\n",
      "INFO:absl:Feature euclidean_xf has a shape . Setting to DenseTensor.\n",
      "INFO:absl:Feature loc_cross_xf has a shape . Setting to DenseTensor.\n",
      "INFO:absl:Feature payment_type_xf has a shape . Setting to DenseTensor.\n",
      "INFO:absl:Feature pickup_grid_xf has a shape . Setting to DenseTensor.\n",
      "INFO:absl:Feature tip_bin has a shape . Setting to DenseTensor.\n",
      "INFO:absl:Feature trip_day_of_week_xf has a shape . Setting to DenseTensor.\n",
      "INFO:absl:Feature trip_day_xf has a shape . Setting to DenseTensor.\n",
      "INFO:absl:Feature trip_hour_xf has a shape . Setting to DenseTensor.\n",
      "INFO:absl:Feature trip_miles_xf has a shape . Setting to DenseTensor.\n",
      "INFO:absl:Feature trip_month_xf has a shape . Setting to DenseTensor.\n",
      "INFO:absl:Feature trip_seconds_xf has a shape . Setting to DenseTensor.\n",
      "WARNING:absl:You are passing instance dicts and DatasetMetadata to TFT which will not provide optimal performance. Consider following the TFT guide to upgrade to the TFXIO format (Apache Arrow RecordBatch).\n",
      "INFO:absl:Feature dropoff_grid has a shape dim {\n",
      "  size: 1\n",
      "}\n",
      ". Setting to DenseTensor.\n",
      "INFO:absl:Feature euclidean has a shape dim {\n",
      "  size: 1\n",
      "}\n",
      ". Setting to DenseTensor.\n",
      "INFO:absl:Feature loc_cross has a shape dim {\n",
      "  size: 1\n",
      "}\n",
      ". Setting to DenseTensor.\n",
      "INFO:absl:Feature payment_type has a shape dim {\n",
      "  size: 1\n",
      "}\n",
      ". Setting to DenseTensor.\n",
      "INFO:absl:Feature pickup_grid has a shape dim {\n",
      "  size: 1\n",
      "}\n",
      ". Setting to DenseTensor.\n",
      "INFO:absl:Feature tip_bin has a shape dim {\n",
      "  size: 1\n",
      "}\n",
      ". Setting to DenseTensor.\n",
      "INFO:absl:Feature trip_day has a shape dim {\n",
      "  size: 1\n",
      "}\n",
      ". Setting to DenseTensor.\n",
      "INFO:absl:Feature trip_day_of_week has a shape dim {\n",
      "  size: 1\n",
      "}\n",
      ". Setting to DenseTensor.\n",
      "INFO:absl:Feature trip_hour has a shape dim {\n",
      "  size: 1\n",
      "}\n",
      ". Setting to DenseTensor.\n",
      "INFO:absl:Feature trip_miles has a shape dim {\n",
      "  size: 1\n",
      "}\n",
      ". Setting to DenseTensor.\n",
      "INFO:absl:Feature trip_month has a shape dim {\n",
      "  size: 1\n",
      "}\n",
      ". Setting to DenseTensor.\n",
      "INFO:absl:Feature trip_seconds has a shape dim {\n",
      "  size: 1\n",
      "}\n",
      ". Setting to DenseTensor.\n",
      "INFO:absl:Feature dropoff_grid has a shape dim {\n",
      "  size: 1\n",
      "}\n",
      ". Setting to DenseTensor.\n",
      "INFO:absl:Feature euclidean has a shape dim {\n",
      "  size: 1\n",
      "}\n",
      ". Setting to DenseTensor.\n",
      "INFO:absl:Feature loc_cross has a shape dim {\n",
      "  size: 1\n",
      "}\n",
      ". Setting to DenseTensor.\n",
      "INFO:absl:Feature payment_type has a shape dim {\n",
      "  size: 1\n",
      "}\n",
      ". Setting to DenseTensor.\n",
      "INFO:absl:Feature pickup_grid has a shape dim {\n",
      "  size: 1\n",
      "}\n",
      ". Setting to DenseTensor.\n",
      "INFO:absl:Feature tip_bin has a shape dim {\n",
      "  size: 1\n",
      "}\n",
      ". Setting to DenseTensor.\n",
      "INFO:absl:Feature trip_day has a shape dim {\n",
      "  size: 1\n",
      "}\n",
      ". Setting to DenseTensor.\n",
      "INFO:absl:Feature trip_day_of_week has a shape dim {\n",
      "  size: 1\n",
      "}\n",
      ". Setting to DenseTensor.\n",
      "INFO:absl:Feature trip_hour has a shape dim {\n",
      "  size: 1\n",
      "}\n",
      ". Setting to DenseTensor.\n",
      "INFO:absl:Feature trip_miles has a shape dim {\n",
      "  size: 1\n",
      "}\n",
      ". Setting to DenseTensor.\n",
      "INFO:absl:Feature trip_month has a shape dim {\n",
      "  size: 1\n",
      "}\n",
      ". Setting to DenseTensor.\n",
      "INFO:absl:Feature trip_seconds has a shape dim {\n",
      "  size: 1\n",
      "}\n",
      ". Setting to DenseTensor.\n",
      "INFO:absl:Feature dropoff_grid has a shape dim {\n",
      "  size: 1\n",
      "}\n",
      ". Setting to DenseTensor.\n",
      "INFO:absl:Feature euclidean has a shape dim {\n",
      "  size: 1\n",
      "}\n",
      ". Setting to DenseTensor.\n",
      "INFO:absl:Feature loc_cross has a shape dim {\n",
      "  size: 1\n",
      "}\n",
      ". Setting to DenseTensor.\n",
      "INFO:absl:Feature payment_type has a shape dim {\n",
      "  size: 1\n",
      "}\n",
      ". Setting to DenseTensor.\n",
      "INFO:absl:Feature pickup_grid has a shape dim {\n",
      "  size: 1\n",
      "}\n",
      ". Setting to DenseTensor.\n",
      "INFO:absl:Feature tip_bin has a shape dim {\n",
      "  size: 1\n",
      "}\n",
      ". Setting to DenseTensor.\n",
      "INFO:absl:Feature trip_day has a shape dim {\n",
      "  size: 1\n",
      "}\n",
      ". Setting to DenseTensor.\n",
      "INFO:absl:Feature trip_day_of_week has a shape dim {\n",
      "  size: 1\n",
      "}\n",
      ". Setting to DenseTensor.\n",
      "INFO:absl:Feature trip_hour has a shape dim {\n",
      "  size: 1\n",
      "}\n",
      ". Setting to DenseTensor.\n",
      "INFO:absl:Feature trip_miles has a shape dim {\n",
      "  size: 1\n",
      "}\n",
      ". Setting to DenseTensor.\n",
      "INFO:absl:Feature trip_month has a shape dim {\n",
      "  size: 1\n",
      "}\n",
      ". Setting to DenseTensor.\n",
      "INFO:absl:Feature trip_seconds has a shape dim {\n",
      "  size: 1\n",
      "}\n",
      ". Setting to DenseTensor.\n",
      "INFO:apache_beam.typehints.native_type_compatibility:Using Any for unsupported type: typing.Sequence[str]\n",
      "WARNING:absl:You are outputting instance dicts from `TransformDataset` which will not provide optimal performance. Consider setting  `output_record_batches=True` to upgrade to the TFXIO format (Apache Arrow RecordBatch). Encoding functionality in this module works with both formats.\n",
      "INFO:absl:Feature dropoff_grid_xf has a shape . Setting to DenseTensor.\n",
      "INFO:absl:Feature euclidean_xf has a shape . Setting to DenseTensor.\n",
      "INFO:absl:Feature loc_cross_xf has a shape . Setting to DenseTensor.\n",
      "INFO:absl:Feature payment_type_xf has a shape . Setting to DenseTensor.\n",
      "INFO:absl:Feature pickup_grid_xf has a shape . Setting to DenseTensor.\n",
      "INFO:absl:Feature tip_bin has a shape . Setting to DenseTensor.\n",
      "INFO:absl:Feature trip_day_of_week_xf has a shape . Setting to DenseTensor.\n",
      "INFO:absl:Feature trip_day_xf has a shape . Setting to DenseTensor.\n",
      "INFO:absl:Feature trip_hour_xf has a shape . Setting to DenseTensor.\n",
      "INFO:absl:Feature trip_miles_xf has a shape . Setting to DenseTensor.\n",
      "INFO:absl:Feature trip_month_xf has a shape . Setting to DenseTensor.\n",
      "INFO:absl:Feature trip_seconds_xf has a shape . Setting to DenseTensor.\n",
      "INFO:absl:Feature dropoff_grid_xf has a shape . Setting to DenseTensor.\n",
      "INFO:absl:Feature euclidean_xf has a shape . Setting to DenseTensor.\n",
      "INFO:absl:Feature loc_cross_xf has a shape . Setting to DenseTensor.\n",
      "INFO:absl:Feature payment_type_xf has a shape . Setting to DenseTensor.\n",
      "INFO:absl:Feature pickup_grid_xf has a shape . Setting to DenseTensor.\n",
      "INFO:absl:Feature tip_bin has a shape . Setting to DenseTensor.\n",
      "INFO:absl:Feature trip_day_of_week_xf has a shape . Setting to DenseTensor.\n",
      "INFO:absl:Feature trip_day_xf has a shape . Setting to DenseTensor.\n",
      "INFO:absl:Feature trip_hour_xf has a shape . Setting to DenseTensor.\n",
      "INFO:absl:Feature trip_miles_xf has a shape . Setting to DenseTensor.\n",
      "INFO:absl:Feature trip_month_xf has a shape . Setting to DenseTensor.\n",
      "INFO:absl:Feature trip_seconds_xf has a shape . Setting to DenseTensor.\n",
      "INFO:absl:Feature dropoff_grid_xf has a shape . Setting to DenseTensor.\n",
      "INFO:absl:Feature euclidean_xf has a shape . Setting to DenseTensor.\n",
      "INFO:absl:Feature loc_cross_xf has a shape . Setting to DenseTensor.\n",
      "INFO:absl:Feature payment_type_xf has a shape . Setting to DenseTensor.\n",
      "INFO:absl:Feature pickup_grid_xf has a shape . Setting to DenseTensor.\n",
      "INFO:absl:Feature tip_bin has a shape . Setting to DenseTensor.\n",
      "INFO:absl:Feature trip_day_of_week_xf has a shape . Setting to DenseTensor.\n",
      "INFO:absl:Feature trip_day_xf has a shape . Setting to DenseTensor.\n",
      "INFO:absl:Feature trip_hour_xf has a shape . Setting to DenseTensor.\n",
      "INFO:absl:Feature trip_miles_xf has a shape . Setting to DenseTensor.\n",
      "INFO:absl:Feature trip_month_xf has a shape . Setting to DenseTensor.\n",
      "INFO:absl:Feature trip_seconds_xf has a shape . Setting to DenseTensor.\n",
      "INFO:absl:Feature dropoff_grid_xf has a shape . Setting to DenseTensor.\n",
      "INFO:absl:Feature euclidean_xf has a shape . Setting to DenseTensor.\n",
      "INFO:absl:Feature loc_cross_xf has a shape . Setting to DenseTensor.\n",
      "INFO:absl:Feature payment_type_xf has a shape . Setting to DenseTensor.\n",
      "INFO:absl:Feature pickup_grid_xf has a shape . Setting to DenseTensor.\n",
      "INFO:absl:Feature tip_bin has a shape . Setting to DenseTensor.\n",
      "INFO:absl:Feature trip_day_of_week_xf has a shape . Setting to DenseTensor.\n",
      "INFO:absl:Feature trip_day_xf has a shape . Setting to DenseTensor.\n",
      "INFO:absl:Feature trip_hour_xf has a shape . Setting to DenseTensor.\n",
      "INFO:absl:Feature trip_miles_xf has a shape . Setting to DenseTensor.\n",
      "INFO:absl:Feature trip_month_xf has a shape . Setting to DenseTensor.\n",
      "INFO:absl:Feature trip_seconds_xf has a shape . Setting to DenseTensor.\n",
      "INFO:absl:Feature dropoff_grid_xf has a shape . Setting to DenseTensor.\n",
      "INFO:absl:Feature euclidean_xf has a shape . Setting to DenseTensor.\n",
      "INFO:absl:Feature loc_cross_xf has a shape . Setting to DenseTensor.\n",
      "INFO:absl:Feature payment_type_xf has a shape . Setting to DenseTensor.\n",
      "INFO:absl:Feature pickup_grid_xf has a shape . Setting to DenseTensor.\n",
      "INFO:absl:Feature tip_bin has a shape . Setting to DenseTensor.\n",
      "INFO:absl:Feature trip_day_of_week_xf has a shape . Setting to DenseTensor.\n",
      "INFO:absl:Feature trip_day_xf has a shape . Setting to DenseTensor.\n",
      "INFO:absl:Feature trip_hour_xf has a shape . Setting to DenseTensor.\n",
      "INFO:absl:Feature trip_miles_xf has a shape . Setting to DenseTensor.\n",
      "INFO:absl:Feature trip_month_xf has a shape . Setting to DenseTensor.\n",
      "INFO:absl:Feature trip_seconds_xf has a shape . Setting to DenseTensor.\n",
      "INFO:absl:Feature dropoff_grid has a shape dim {\n",
      "  size: 1\n",
      "}\n",
      ". Setting to DenseTensor.\n",
      "INFO:absl:Feature euclidean has a shape dim {\n",
      "  size: 1\n",
      "}\n",
      ". Setting to DenseTensor.\n",
      "INFO:absl:Feature loc_cross has a shape dim {\n",
      "  size: 1\n",
      "}\n",
      ". Setting to DenseTensor.\n",
      "INFO:absl:Feature payment_type has a shape dim {\n",
      "  size: 1\n",
      "}\n",
      ". Setting to DenseTensor.\n",
      "INFO:absl:Feature pickup_grid has a shape dim {\n",
      "  size: 1\n",
      "}\n",
      ". Setting to DenseTensor.\n",
      "INFO:absl:Feature tip_bin has a shape dim {\n",
      "  size: 1\n",
      "}\n",
      ". Setting to DenseTensor.\n",
      "INFO:absl:Feature trip_day has a shape dim {\n",
      "  size: 1\n",
      "}\n",
      ". Setting to DenseTensor.\n",
      "INFO:absl:Feature trip_day_of_week has a shape dim {\n",
      "  size: 1\n",
      "}\n",
      ". Setting to DenseTensor.\n",
      "INFO:absl:Feature trip_hour has a shape dim {\n",
      "  size: 1\n",
      "}\n",
      ". Setting to DenseTensor.\n",
      "INFO:absl:Feature trip_miles has a shape dim {\n",
      "  size: 1\n",
      "}\n",
      ". Setting to DenseTensor.\n",
      "INFO:absl:Feature trip_month has a shape dim {\n",
      "  size: 1\n",
      "}\n",
      ". Setting to DenseTensor.\n",
      "INFO:absl:Feature trip_seconds has a shape dim {\n",
      "  size: 1\n",
      "}\n",
      ". Setting to DenseTensor.\n",
      "INFO:absl:Feature dropoff_grid has a shape dim {\n",
      "  size: 1\n",
      "}\n",
      ". Setting to DenseTensor.\n",
      "INFO:absl:Feature euclidean has a shape dim {\n",
      "  size: 1\n",
      "}\n",
      ". Setting to DenseTensor.\n",
      "INFO:absl:Feature loc_cross has a shape dim {\n",
      "  size: 1\n",
      "}\n",
      ". Setting to DenseTensor.\n",
      "INFO:absl:Feature payment_type has a shape dim {\n",
      "  size: 1\n",
      "}\n",
      ". Setting to DenseTensor.\n",
      "INFO:absl:Feature pickup_grid has a shape dim {\n",
      "  size: 1\n",
      "}\n",
      ". Setting to DenseTensor.\n",
      "INFO:absl:Feature tip_bin has a shape dim {\n",
      "  size: 1\n",
      "}\n",
      ". Setting to DenseTensor.\n",
      "INFO:absl:Feature trip_day has a shape dim {\n",
      "  size: 1\n",
      "}\n",
      ". Setting to DenseTensor.\n",
      "INFO:absl:Feature trip_day_of_week has a shape dim {\n",
      "  size: 1\n",
      "}\n",
      ". Setting to DenseTensor.\n",
      "INFO:absl:Feature trip_hour has a shape dim {\n",
      "  size: 1\n",
      "}\n",
      ". Setting to DenseTensor.\n",
      "INFO:absl:Feature trip_miles has a shape dim {\n",
      "  size: 1\n",
      "}\n",
      ". Setting to DenseTensor.\n",
      "INFO:absl:Feature trip_month has a shape dim {\n",
      "  size: 1\n",
      "}\n",
      ". Setting to DenseTensor.\n",
      "INFO:absl:Feature trip_seconds has a shape dim {\n",
      "  size: 1\n",
      "}\n",
      ". Setting to DenseTensor.\n",
      "INFO:absl:Feature dropoff_grid has a shape dim {\n",
      "  size: 1\n",
      "}\n",
      ". Setting to DenseTensor.\n",
      "INFO:absl:Feature euclidean has a shape dim {\n",
      "  size: 1\n",
      "}\n",
      ". Setting to DenseTensor.\n",
      "INFO:absl:Feature loc_cross has a shape dim {\n",
      "  size: 1\n",
      "}\n",
      ". Setting to DenseTensor.\n",
      "INFO:absl:Feature payment_type has a shape dim {\n",
      "  size: 1\n",
      "}\n",
      ". Setting to DenseTensor.\n",
      "INFO:absl:Feature pickup_grid has a shape dim {\n",
      "  size: 1\n",
      "}\n",
      ". Setting to DenseTensor.\n",
      "INFO:absl:Feature tip_bin has a shape dim {\n",
      "  size: 1\n",
      "}\n",
      ". Setting to DenseTensor.\n",
      "INFO:absl:Feature trip_day has a shape dim {\n",
      "  size: 1\n",
      "}\n",
      ". Setting to DenseTensor.\n",
      "INFO:absl:Feature trip_day_of_week has a shape dim {\n",
      "  size: 1\n",
      "}\n",
      ". Setting to DenseTensor.\n",
      "INFO:absl:Feature trip_hour has a shape dim {\n",
      "  size: 1\n",
      "}\n",
      ". Setting to DenseTensor.\n",
      "INFO:absl:Feature trip_miles has a shape dim {\n",
      "  size: 1\n",
      "}\n",
      ". Setting to DenseTensor.\n",
      "INFO:absl:Feature trip_month has a shape dim {\n",
      "  size: 1\n",
      "}\n",
      ". Setting to DenseTensor.\n",
      "INFO:absl:Feature trip_seconds has a shape dim {\n",
      "  size: 1\n",
      "}\n",
      ". Setting to DenseTensor.\n",
      "INFO:absl:Feature dropoff_grid has a shape dim {\n",
      "  size: 1\n",
      "}\n",
      ". Setting to DenseTensor.\n",
      "INFO:absl:Feature euclidean has a shape dim {\n",
      "  size: 1\n",
      "}\n",
      ". Setting to DenseTensor.\n",
      "INFO:absl:Feature loc_cross has a shape dim {\n",
      "  size: 1\n",
      "}\n",
      ". Setting to DenseTensor.\n",
      "INFO:absl:Feature payment_type has a shape dim {\n",
      "  size: 1\n",
      "}\n",
      ". Setting to DenseTensor.\n",
      "INFO:absl:Feature pickup_grid has a shape dim {\n",
      "  size: 1\n",
      "}\n",
      ". Setting to DenseTensor.\n",
      "INFO:absl:Feature tip_bin has a shape dim {\n",
      "  size: 1\n",
      "}\n",
      ". Setting to DenseTensor.\n",
      "INFO:absl:Feature trip_day has a shape dim {\n",
      "  size: 1\n",
      "}\n",
      ". Setting to DenseTensor.\n",
      "INFO:absl:Feature trip_day_of_week has a shape dim {\n",
      "  size: 1\n",
      "}\n",
      ". Setting to DenseTensor.\n",
      "INFO:absl:Feature trip_hour has a shape dim {\n",
      "  size: 1\n",
      "}\n",
      ". Setting to DenseTensor.\n",
      "INFO:absl:Feature trip_miles has a shape dim {\n",
      "  size: 1\n",
      "}\n",
      ". Setting to DenseTensor.\n",
      "INFO:absl:Feature trip_month has a shape dim {\n",
      "  size: 1\n",
      "}\n",
      ". Setting to DenseTensor.\n",
      "INFO:absl:Feature trip_seconds has a shape dim {\n",
      "  size: 1\n",
      "}\n",
      ". Setting to DenseTensor.\n",
      "INFO:absl:Feature dropoff_grid has a shape dim {\n",
      "  size: 1\n",
      "}\n",
      ". Setting to DenseTensor.\n",
      "INFO:absl:Feature euclidean has a shape dim {\n",
      "  size: 1\n",
      "}\n",
      ". Setting to DenseTensor.\n",
      "INFO:absl:Feature loc_cross has a shape dim {\n",
      "  size: 1\n",
      "}\n",
      ". Setting to DenseTensor.\n",
      "INFO:absl:Feature payment_type has a shape dim {\n",
      "  size: 1\n",
      "}\n",
      ". Setting to DenseTensor.\n",
      "INFO:absl:Feature pickup_grid has a shape dim {\n",
      "  size: 1\n",
      "}\n",
      ". Setting to DenseTensor.\n",
      "INFO:absl:Feature tip_bin has a shape dim {\n",
      "  size: 1\n",
      "}\n",
      ". Setting to DenseTensor.\n",
      "INFO:absl:Feature trip_day has a shape dim {\n",
      "  size: 1\n",
      "}\n",
      ". Setting to DenseTensor.\n",
      "INFO:absl:Feature trip_day_of_week has a shape dim {\n",
      "  size: 1\n",
      "}\n",
      ". Setting to DenseTensor.\n",
      "INFO:absl:Feature trip_hour has a shape dim {\n",
      "  size: 1\n",
      "}\n",
      ". Setting to DenseTensor.\n",
      "INFO:absl:Feature trip_miles has a shape dim {\n",
      "  size: 1\n",
      "}\n",
      ". Setting to DenseTensor.\n",
      "INFO:absl:Feature trip_month has a shape dim {\n",
      "  size: 1\n",
      "}\n",
      ". Setting to DenseTensor.\n",
      "INFO:absl:Feature trip_seconds has a shape dim {\n",
      "  size: 1\n",
      "}\n",
      ". Setting to DenseTensor.\n",
      "WARNING:apache_beam.options.pipeline_options:Discarding invalid overrides: {'raw_data_query': \"\\n    SELECT \\n        IF(trip_month IS NULL, -1, trip_month) trip_month,\\n        IF(trip_day IS NULL, -1, trip_day) trip_day,\\n        IF(trip_day_of_week IS NULL, -1, trip_day_of_week) trip_day_of_week,\\n        IF(trip_hour IS NULL, -1, trip_hour) trip_hour,\\n        IF(trip_seconds IS NULL, -1, trip_seconds) trip_seconds,\\n        IF(trip_miles IS NULL, -1, trip_miles) trip_miles,\\n        IF(payment_type IS NULL, 'NA', payment_type) payment_type,\\n        IF(pickup_grid IS NULL, 'NA', pickup_grid) pickup_grid,\\n        IF(dropoff_grid IS NULL, 'NA', dropoff_grid) dropoff_grid,\\n        IF(euclidean IS NULL, -1, euclidean) euclidean,\\n        IF(loc_cross IS NULL, 'NA', loc_cross) loc_cross,\\n        tip_bin\\n    FROM playground_us.chicago_taxitrips_final \\n    WHERE ML_use = 'UNASSIGNED'\\n    LIMIT 5120\", 'write_raw_data': True, 'exported_data_prefix': 'gs://stellar-orb-408015/chicago-taxi-tips/experiments/chicago-taxi-tips-classifier--v01/run-local-20240123211958/exported_data', 'transformed_data_prefix': 'gs://stellar-orb-408015/chicago-taxi-tips/experiments/chicago-taxi-tips-classifier--v01/run-local-20240123211958/transformed_data', 'transform_artifact_dir': 'gs://stellar-orb-408015/chicago-taxi-tips/experiments/chicago-taxi-tips-classifier--v01/run-local-20240123211958/transform_artifacts', 'temporary_dir': 'gs://stellar-orb-408015/chicago-taxi-tips/tmp', 'gcs_location': 'gs://stellar-orb-408015/bq_tmp'}\n",
      "INFO:apache_beam.runners.portability.fn_api_runner.translations:==================== <function annotate_downstream_side_inputs at 0x7fee957a8160> ====================\n",
      "INFO:apache_beam.runners.portability.fn_api_runner.translations:==================== <function fix_side_input_pcoll_coders at 0x7fee957a8280> ====================\n",
      "INFO:apache_beam.runners.portability.fn_api_runner.translations:==================== <function pack_combiners at 0x7fee957a8790> ====================\n",
      "INFO:apache_beam.runners.portability.fn_api_runner.translations:==================== <function lift_combiners at 0x7fee957a8820> ====================\n",
      "INFO:apache_beam.runners.portability.fn_api_runner.translations:==================== <function expand_sdf at 0x7fee957a89d0> ====================\n",
      "INFO:apache_beam.runners.portability.fn_api_runner.translations:==================== <function expand_gbk at 0x7fee957a8a60> ====================\n",
      "INFO:apache_beam.runners.portability.fn_api_runner.translations:==================== <function sink_flattens at 0x7fee957a8b80> ====================\n",
      "INFO:apache_beam.runners.portability.fn_api_runner.translations:==================== <function greedily_fuse at 0x7fee957a8c10> ====================\n",
      "INFO:apache_beam.runners.portability.fn_api_runner.translations:==================== <function read_to_impulse at 0x7fee957a8ca0> ====================\n",
      "INFO:apache_beam.runners.portability.fn_api_runner.translations:==================== <function impulse_to_input at 0x7fee957a8d30> ====================\n",
      "INFO:apache_beam.runners.portability.fn_api_runner.translations:==================== <function sort_stages at 0x7fee957a8f70> ====================\n",
      "INFO:apache_beam.runners.portability.fn_api_runner.translations:==================== <function add_impulse_to_dangling_transforms at 0x7fee957a9090> ====================\n",
      "INFO:apache_beam.runners.portability.fn_api_runner.translations:==================== <function setup_timer_mapping at 0x7fee957a8ee0> ====================\n",
      "INFO:apache_beam.runners.portability.fn_api_runner.translations:==================== <function populate_data_channel_coders at 0x7fee957a9000> ====================\n",
      "INFO:apache_beam.runners.worker.statecache:Creating state cache with size 104857600\n",
      "INFO:apache_beam.runners.portability.fn_api_runner.worker_handlers:Created Worker handler <apache_beam.runners.portability.fn_api_runner.worker_handlers.EmbeddedWorkerHandler object at 0x7fee7c472350> for environment ref_Environment_default_environment_1 (beam:env:embedded_python:v1, b'')\n"
     ]
    },
    {
     "name": "stdout",
     "output_type": "stream",
     "text": [
      "INFO:tensorflow:Assets written to: gs://stellar-orb-408015/chicago-taxi-tips/tmp/tftransform_tmp/0302fcf98835481bbfa8b6860107a289/assets\n"
     ]
    },
    {
     "name": "stderr",
     "output_type": "stream",
     "text": [
      "INFO:tensorflow:Assets written to: gs://stellar-orb-408015/chicago-taxi-tips/tmp/tftransform_tmp/0302fcf98835481bbfa8b6860107a289/assets\n",
      "INFO:apache_beam.internal.gcp.auth:Setting socket default timeout to 60 seconds.\n",
      "INFO:apache_beam.internal.gcp.auth:socket default timeout is 60.0 seconds.\n",
      "INFO:apache_beam.io.gcp.bigquery_tools:Started BigQuery job: <JobReference\n",
      " location: 'US'\n",
      " projectId: 'stellar-orb-408015'>\n",
      " bq show -j --format=prettyjson --project_id=stellar-orb-408015 None\n",
      "INFO:apache_beam.io.gcp.bigquery_tools:Using location 'US' from table <TableReference\n",
      " datasetId: 'playground_us'\n",
      " projectId: 'stellar-orb-408015'\n",
      " tableId: 'chicago_taxitrips_final'> referenced by query \n",
      "    SELECT \n",
      "        IF(trip_month IS NULL, -1, trip_month) trip_month,\n",
      "        IF(trip_day IS NULL, -1, trip_day) trip_day,\n",
      "        IF(trip_day_of_week IS NULL, -1, trip_day_of_week) trip_day_of_week,\n",
      "        IF(trip_hour IS NULL, -1, trip_hour) trip_hour,\n",
      "        IF(trip_seconds IS NULL, -1, trip_seconds) trip_seconds,\n",
      "        IF(trip_miles IS NULL, -1, trip_miles) trip_miles,\n",
      "        IF(payment_type IS NULL, 'NA', payment_type) payment_type,\n",
      "        IF(pickup_grid IS NULL, 'NA', pickup_grid) pickup_grid,\n",
      "        IF(dropoff_grid IS NULL, 'NA', dropoff_grid) dropoff_grid,\n",
      "        IF(euclidean IS NULL, -1, euclidean) euclidean,\n",
      "        IF(loc_cross IS NULL, 'NA', loc_cross) loc_cross,\n",
      "        tip_bin\n",
      "    FROM playground_us.chicago_taxitrips_final \n",
      "    WHERE ML_use = 'UNASSIGNED'\n",
      "    LIMIT 5120\n",
      "INFO:apache_beam.io.gcp.bigquery_tools:Dataset stellar-orb-408015:beam_temp_dataset_b83c586b61a14595a86c9255172bbb60 does not exist so we will create it as temporary with location=US\n",
      "INFO:apache_beam.io.gcp.bigquery_tools:Started BigQuery job: <JobReference\n",
      " jobId: 'beam_bq_job_QUERY_BQ_EXPORT_JOB_c209950c-2_1706044831_537'\n",
      " location: 'US'\n",
      " projectId: 'stellar-orb-408015'>\n",
      " bq show -j --format=prettyjson --project_id=stellar-orb-408015 beam_bq_job_QUERY_BQ_EXPORT_JOB_c209950c-2_1706044831_537\n",
      "INFO:root:Job stellar-orb-408015:US.beam_bq_job_QUERY_BQ_EXPORT_JOB_c209950c-2_1706044831_537 status: RUNNING\n",
      "INFO:root:Job stellar-orb-408015:US.beam_bq_job_QUERY_BQ_EXPORT_JOB_c209950c-2_1706044831_537 status: DONE\n",
      "INFO:apache_beam.io.gcp.bigquery_tools:Started BigQuery job: <JobReference\n",
      " jobId: 'beam_bq_job_EXPORT_BQ_EXPORT_JOB_c209950c-2_1706044837_601'\n",
      " location: 'US'\n",
      " projectId: 'stellar-orb-408015'>\n",
      " bq show -j --format=prettyjson --project_id=stellar-orb-408015 beam_bq_job_EXPORT_BQ_EXPORT_JOB_c209950c-2_1706044837_601\n",
      "INFO:root:Job stellar-orb-408015:US.beam_bq_job_EXPORT_BQ_EXPORT_JOB_c209950c-2_1706044837_601 status: RUNNING\n",
      "INFO:root:Job stellar-orb-408015:US.beam_bq_job_EXPORT_BQ_EXPORT_JOB_c209950c-2_1706044837_601 status: DONE\n",
      "INFO:apache_beam.io.gcp.gcsio:Finished listing 1 files in 0.03793525695800781 seconds.\n",
      "WARNING:apache_beam.io.tfrecordio:Couldn't find python-snappy so the implementation of _TFRecordUtil._masked_crc32c is not as fast as it could be.\n"
     ]
    },
    {
     "name": "stdout",
     "output_type": "stream",
     "text": [
      "INFO:tensorflow:struct2tensor is not available.\n"
     ]
    },
    {
     "name": "stderr",
     "output_type": "stream",
     "text": [
      "INFO:tensorflow:struct2tensor is not available.\n"
     ]
    },
    {
     "name": "stdout",
     "output_type": "stream",
     "text": [
      "INFO:tensorflow:tensorflow_decision_forests is not available.\n"
     ]
    },
    {
     "name": "stderr",
     "output_type": "stream",
     "text": [
      "INFO:tensorflow:tensorflow_decision_forests is not available.\n"
     ]
    },
    {
     "name": "stdout",
     "output_type": "stream",
     "text": [
      "INFO:tensorflow:tensorflow_text is not available.\n"
     ]
    },
    {
     "name": "stderr",
     "output_type": "stream",
     "text": [
      "INFO:tensorflow:tensorflow_text is not available.\n",
      "INFO:root:BatchElements statistics: element_count=4086 batch_count=15 next_batch_size=372 timings=[(1, 0.00610661506652832), (2, 0.005499124526977539), (4, 0.0056915283203125), (8, 0.006175994873046875), (16, 0.006521463394165039), (32, 0.007063865661621094), (64, 0.007723808288574219), (128, 0.009638786315917969), (256, 0.012740850448608398), (512, 0.01891636848449707), (1000, 0.029557466506958008), (876, 0.025823354721069336), (1000, 0.02770543098449707), (186, 0.010007619857788086)]\n",
      "INFO:root:BatchElements statistics: element_count=1034 batch_count=21 next_batch_size=24 timings=[(1, 0.0006821155548095703), (2, 0.0017960071563720703), (1, 0.0006608963012695312), (2, 0.001657247543334961), (1, 0.000675201416015625), (2, 0.0007498264312744141), (1, 0.0006577968597412109), (2, 0.0006709098815917969), (4, 0.0006952285766601562), (8, 0.00077056884765625), (16, 0.0022306442260742188), (32, 0.0011477470397949219), (48, 0.0012347698211669922), (65, 0.001680612564086914), (130, 0.0020284652709960938), (163, 0.0024454593658447266), (185, 0.0025892257690429688), (161, 0.0024046897888183594), (197, 0.0027892589569091797), (12, 0.0013129711151123047)]\n",
      "INFO:root:BatchElements statistics: element_count=4086 batch_count=15 next_batch_size=124 timings=[(1, 0.0007469654083251953), (2, 0.0007135868072509766), (4, 0.0007989406585693359), (8, 0.0008280277252197266), (16, 0.0008652210235595703), (32, 0.0010790824890136719), (64, 0.001477956771850586), (128, 0.0020537376403808594), (256, 0.003239870071411133), (512, 0.0057523250579833984), (1000, 0.009901285171508789), (1000, 0.009680032730102539), (1000, 0.009656429290771484), (62, 0.002979278564453125)]\n",
      "INFO:apache_beam.io.gcp.gcsio:Finished listing 1 files in 0.03213191032409668 seconds.\n",
      "INFO:root:BatchElements statistics: element_count=11 batch_count=1 next_batch_size=150000 timings=[]\n",
      "INFO:root:BatchElements statistics: element_count=31 batch_count=1 next_batch_size=150000 timings=[]\n",
      "INFO:root:BatchElements statistics: element_count=7 batch_count=1 next_batch_size=150000 timings=[]\n",
      "INFO:root:BatchElements statistics: element_count=24 batch_count=1 next_batch_size=150000 timings=[]\n",
      "INFO:root:BatchElements statistics: element_count=7 batch_count=1 next_batch_size=150000 timings=[]\n",
      "INFO:root:BatchElements statistics: element_count=2 batch_count=1 next_batch_size=150000 timings=[]\n",
      "INFO:root:BatchElements statistics: element_count=3 batch_count=1 next_batch_size=150000 timings=[]\n",
      "INFO:root:BatchElements statistics: element_count=5 batch_count=1 next_batch_size=150000 timings=[]\n",
      "INFO:apache_beam.io.gcp.gcsio:Finished listing 1 files in 0.03934431076049805 seconds.\n",
      "INFO:apache_beam.io.filebasedsink:Starting finalize_write threads with num_shards: 1 (skipped: 0), batches: 1, num_threads: 1\n",
      "INFO:apache_beam.io.filebasedsink:Renamed 1 shards in 0.15 seconds.\n",
      "INFO:apache_beam.io.gcp.gcsio:Finished listing 1 files in 0.03670144081115723 seconds.\n",
      "INFO:apache_beam.io.filebasedsink:Starting finalize_write threads with num_shards: 1 (skipped: 0), batches: 1, num_threads: 1\n",
      "INFO:apache_beam.io.filebasedsink:Renamed 1 shards in 0.15 seconds.\n",
      "INFO:apache_beam.io.gcp.gcsio:Finished listing 1 files in 0.036165714263916016 seconds.\n",
      "INFO:apache_beam.io.filebasedsink:Starting finalize_write threads with num_shards: 1 (skipped: 0), batches: 1, num_threads: 1\n",
      "INFO:apache_beam.io.filebasedsink:Renamed 1 shards in 0.14 seconds.\n",
      "INFO:apache_beam.io.gcp.gcsio:Finished listing 1 files in 0.03554964065551758 seconds.\n",
      "INFO:apache_beam.io.filebasedsink:Starting finalize_write threads with num_shards: 1 (skipped: 0), batches: 1, num_threads: 1\n",
      "INFO:apache_beam.io.filebasedsink:Renamed 1 shards in 0.15 seconds.\n",
      "INFO:apache_beam.io.gcp.gcsio:Finished listing 1 files in 0.0325007438659668 seconds.\n",
      "INFO:apache_beam.io.filebasedsink:Starting finalize_write threads with num_shards: 1 (skipped: 0), batches: 1, num_threads: 1\n",
      "INFO:apache_beam.io.filebasedsink:Renamed 1 shards in 0.16 seconds.\n",
      "INFO:apache_beam.io.gcp.gcsio:Finished listing 1 files in 0.04778599739074707 seconds.\n",
      "INFO:apache_beam.io.filebasedsink:Starting finalize_write threads with num_shards: 1 (skipped: 0), batches: 1, num_threads: 1\n",
      "INFO:apache_beam.io.filebasedsink:Renamed 1 shards in 0.15 seconds.\n",
      "INFO:apache_beam.io.gcp.gcsio:Finished listing 1 files in 0.04584980010986328 seconds.\n",
      "INFO:apache_beam.io.filebasedsink:Starting finalize_write threads with num_shards: 1 (skipped: 0), batches: 1, num_threads: 1\n",
      "INFO:apache_beam.io.filebasedsink:Renamed 1 shards in 0.16 seconds.\n",
      "INFO:apache_beam.io.gcp.gcsio:Finished listing 1 files in 0.039569854736328125 seconds.\n",
      "INFO:apache_beam.io.filebasedsink:Starting finalize_write threads with num_shards: 1 (skipped: 0), batches: 1, num_threads: 1\n",
      "INFO:apache_beam.io.filebasedsink:Renamed 1 shards in 0.19 seconds.\n",
      "INFO:apache_beam.io.gcp.gcsio:Finished listing 1 files in 0.03698015213012695 seconds.\n",
      "INFO:apache_beam.io.filebasedsink:Starting finalize_write threads with num_shards: 1 (skipped: 0), batches: 1, num_threads: 1\n",
      "INFO:apache_beam.io.filebasedsink:Renamed 1 shards in 0.18 seconds.\n"
     ]
    },
    {
     "name": "stdout",
     "output_type": "stream",
     "text": [
      "INFO:tensorflow:Assets written to: gs://stellar-orb-408015/chicago-taxi-tips/tmp/tftransform_tmp/abfdda6ee93545a899432c5747bff4b5/assets\n"
     ]
    },
    {
     "name": "stderr",
     "output_type": "stream",
     "text": [
      "INFO:tensorflow:Assets written to: gs://stellar-orb-408015/chicago-taxi-tips/tmp/tftransform_tmp/abfdda6ee93545a899432c5747bff4b5/assets\n"
     ]
    },
    {
     "name": "stdout",
     "output_type": "stream",
     "text": [
      "INFO:tensorflow:struct2tensor is not available.\n"
     ]
    },
    {
     "name": "stderr",
     "output_type": "stream",
     "text": [
      "INFO:tensorflow:struct2tensor is not available.\n"
     ]
    },
    {
     "name": "stdout",
     "output_type": "stream",
     "text": [
      "INFO:tensorflow:tensorflow_decision_forests is not available.\n"
     ]
    },
    {
     "name": "stderr",
     "output_type": "stream",
     "text": [
      "INFO:tensorflow:tensorflow_decision_forests is not available.\n"
     ]
    },
    {
     "name": "stdout",
     "output_type": "stream",
     "text": [
      "INFO:tensorflow:tensorflow_text is not available.\n"
     ]
    },
    {
     "name": "stderr",
     "output_type": "stream",
     "text": [
      "INFO:tensorflow:tensorflow_text is not available.\n"
     ]
    },
    {
     "name": "stdout",
     "output_type": "stream",
     "text": [
      "INFO:tensorflow:struct2tensor is not available.\n"
     ]
    },
    {
     "name": "stderr",
     "output_type": "stream",
     "text": [
      "INFO:tensorflow:struct2tensor is not available.\n"
     ]
    },
    {
     "name": "stdout",
     "output_type": "stream",
     "text": [
      "INFO:tensorflow:tensorflow_decision_forests is not available.\n"
     ]
    },
    {
     "name": "stderr",
     "output_type": "stream",
     "text": [
      "INFO:tensorflow:tensorflow_decision_forests is not available.\n"
     ]
    },
    {
     "name": "stdout",
     "output_type": "stream",
     "text": [
      "INFO:tensorflow:tensorflow_text is not available.\n"
     ]
    },
    {
     "name": "stderr",
     "output_type": "stream",
     "text": [
      "INFO:tensorflow:tensorflow_text is not available.\n",
      "INFO:apache_beam.io.gcp.gcsio:Finished listing 1 files in 0.036222219467163086 seconds.\n",
      "INFO:apache_beam.io.filebasedsink:Starting finalize_write threads with num_shards: 1 (skipped: 0), batches: 1, num_threads: 1\n",
      "INFO:apache_beam.io.filebasedsink:Renamed 1 shards in 0.13 seconds.\n",
      "INFO:apache_beam.io.gcp.gcsio:Finished listing 1 files in 0.03296184539794922 seconds.\n",
      "INFO:apache_beam.io.filebasedsink:Starting finalize_write threads with num_shards: 1 (skipped: 0), batches: 1, num_threads: 1\n",
      "INFO:apache_beam.io.filebasedsink:Renamed 1 shards in 0.14 seconds.\n"
     ]
    },
    {
     "name": "stdout",
     "output_type": "stream",
     "text": [
      "Data preprocessing completed.\n"
     ]
    }
   ],
>>>>>>> 811e3c7 (update code to work with tfx 1.14)
   "source": [
    "print(\"Data preprocessing started...\")\n",
    "etl.run_transform_pipeline(args)\n",
    "print(\"Data preprocessing completed.\")"
   ]
  },
  {
   "cell_type": "code",
<<<<<<< HEAD
   "execution_count": null,
   "id": "a10911e3",
   "metadata": {},
   "outputs": [],
=======
   "execution_count": 12,
   "id": "a10911e3",
   "metadata": {
    "tags": []
   },
   "outputs": [
    {
     "name": "stdout",
     "output_type": "stream",
     "text": [
      "gs://stellar-orb-408015/chicago-taxi-tips/experiments/chicago-taxi-tips-classifier--v01/run-local-20240123211958/exported_data/\n",
      "gs://stellar-orb-408015/chicago-taxi-tips/experiments/chicago-taxi-tips-classifier--v01/run-local-20240123211958/transform_artifacts/\n",
      "gs://stellar-orb-408015/chicago-taxi-tips/experiments/chicago-taxi-tips-classifier--v01/run-local-20240123211958/transformed_data/\n"
     ]
    }
   ],
>>>>>>> 811e3c7 (update code to work with tfx 1.14)
   "source": [
    "!gsutil ls {EXPERIMENT_RUN_DIR}"
   ]
  },
  {
   "cell_type": "markdown",
   "id": "74d252ab",
   "metadata": {},
   "source": [
    "## 2. Train a custom model locally using a Keras\n",
    "\n",
    "The `Keras` implementation of the custom model is in the [model_training](src/model_training) directory."
   ]
  },
  {
   "cell_type": "code",
<<<<<<< HEAD
   "execution_count": null,
   "id": "c59f7710",
   "metadata": {},
=======
   "execution_count": 13,
   "id": "c59f7710",
   "metadata": {
    "tags": []
   },
>>>>>>> 811e3c7 (update code to work with tfx 1.14)
   "outputs": [],
   "source": [
    "LOG_DIR = os.path.join(EXPERIMENT_RUN_DIR, 'logs')\n",
    "EXPORT_DIR = os.path.join(EXPERIMENT_RUN_DIR, 'model')"
   ]
  },
  {
   "cell_type": "markdown",
   "id": "7a212f14",
   "metadata": {},
   "source": [
    "### Read transformed data"
   ]
  },
  {
   "cell_type": "code",
<<<<<<< HEAD
   "execution_count": null,
   "id": "204c8580",
   "metadata": {},
   "outputs": [],
=======
   "execution_count": 14,
   "id": "204c8580",
   "metadata": {
    "tags": []
   },
   "outputs": [
    {
     "data": {
      "text/plain": [
       "{'dropoff_grid_xf': FixedLenFeature(shape=[], dtype=tf.int64, default_value=None),\n",
       " 'euclidean_xf': FixedLenFeature(shape=[], dtype=tf.float32, default_value=None),\n",
       " 'loc_cross_xf': FixedLenFeature(shape=[], dtype=tf.int64, default_value=None),\n",
       " 'payment_type_xf': FixedLenFeature(shape=[], dtype=tf.int64, default_value=None),\n",
       " 'pickup_grid_xf': FixedLenFeature(shape=[], dtype=tf.int64, default_value=None),\n",
       " 'tip_bin': FixedLenFeature(shape=[], dtype=tf.int64, default_value=None),\n",
       " 'trip_day_of_week_xf': FixedLenFeature(shape=[], dtype=tf.int64, default_value=None),\n",
       " 'trip_day_xf': FixedLenFeature(shape=[], dtype=tf.int64, default_value=None),\n",
       " 'trip_hour_xf': FixedLenFeature(shape=[], dtype=tf.int64, default_value=None),\n",
       " 'trip_miles_xf': FixedLenFeature(shape=[], dtype=tf.float32, default_value=None),\n",
       " 'trip_month_xf': FixedLenFeature(shape=[], dtype=tf.int64, default_value=None),\n",
       " 'trip_seconds_xf': FixedLenFeature(shape=[], dtype=tf.float32, default_value=None)}"
      ]
     },
     "execution_count": 14,
     "metadata": {},
     "output_type": "execute_result"
    }
   ],
>>>>>>> 811e3c7 (update code to work with tfx 1.14)
   "source": [
    "tft_output = tft.TFTransformOutput(TRANSFORM_ARTIFACTS_DIR)\n",
    "transform_feature_spec = tft_output.transformed_feature_spec()\n",
    "transform_feature_spec"
   ]
  },
  {
   "cell_type": "code",
<<<<<<< HEAD
   "execution_count": null,
   "id": "0802ce3a",
   "metadata": {},
   "outputs": [],
   "source": [
    "train_data_file_pattern = os.path.join(TRANSFORMED_DATA_PREFIX,'train/data-*.gz')\n",
    "eval_data_file_pattern = os.path.join(TRANSFORMED_DATA_PREFIX,'eval/data-*.gz')\n",
    "\n",
    "for input_features, target in data.get_dataset(\n",
=======
   "execution_count": 15,
   "id": "c8c6f25f-ad26-4278-85e6-c804d3390b0e",
   "metadata": {
    "tags": []
   },
   "outputs": [
    {
     "name": "stdout",
     "output_type": "stream",
     "text": [
      "WARNING:tensorflow:From /opt/conda/lib/python3.10/site-packages/tensorflow/python/data/experimental/ops/readers.py:1086: parse_example_dataset (from tensorflow.python.data.experimental.ops.parsing_ops) is deprecated and will be removed in a future version.\n",
      "Instructions for updating:\n",
      "Use `tf.data.Dataset.map(tf.io.parse_example(...))` instead.\n"
     ]
    },
    {
     "name": "stderr",
     "output_type": "stream",
     "text": [
      "WARNING:tensorflow:From /opt/conda/lib/python3.10/site-packages/tensorflow/python/data/experimental/ops/readers.py:1086: parse_example_dataset (from tensorflow.python.data.experimental.ops.parsing_ops) is deprecated and will be removed in a future version.\n",
      "Instructions for updating:\n",
      "Use `tf.data.Dataset.map(tf.io.parse_example(...))` instead.\n"
     ]
    },
    {
     "name": "stdout",
     "output_type": "stream",
     "text": [
      "dropoff_grid_xf <dtype: 'int64'>: [0, 0, 0]\n",
      "euclidean_xf <dtype: 'float32'>: [1.7094545364379883, 0.6025230884552002, 0.6465068459510803]\n",
      "loc_cross_xf <dtype: 'int64'>: [0, 0, 0]\n",
      "payment_type_xf <dtype: 'int64'>: [1, 0, 0]\n",
      "pickup_grid_xf <dtype: 'int64'>: [0, 0, 0]\n",
      "trip_day_of_week_xf <dtype: 'int64'>: [2, 6, 5]\n",
      "trip_day_xf <dtype: 'int64'>: [5, 6, 9]\n",
      "trip_hour_xf <dtype: 'int64'>: [1, 16, 8]\n",
      "trip_miles_xf <dtype: 'float32'>: [0.8549577593803406, 0.16341513395309448, -0.23555174469947815]\n",
      "trip_month_xf <dtype: 'int64'>: [1, 1, 0]\n",
      "trip_seconds_xf <dtype: 'float32'>: [0.35714682936668396, -0.19343675673007965, -0.017445558682084084]\n",
      "target: [0, 0, 0]\n"
     ]
    }
   ],
   "source": [
    "from src.model_training import data_\n",
    "train_data_file_pattern = os.path.join(TRANSFORMED_DATA_PREFIX,'train/data-*.gz')\n",
    "eval_data_file_pattern = os.path.join(TRANSFORMED_DATA_PREFIX,'eval/data-*.gz')\n",
    "\n",
    "for input_features, target in data_.get_dataset(\n",
>>>>>>> 811e3c7 (update code to work with tfx 1.14)
    "    train_data_file_pattern, transform_feature_spec, batch_size=3).take(1):\n",
    "    for key in input_features:\n",
    "        print(f\"{key} {input_features[key].dtype}: {input_features[key].numpy().tolist()}\")\n",
    "    print(f\"target: {target.numpy().tolist()}\")"
   ]
  },
  {
   "cell_type": "markdown",
   "id": "d0f363d4",
   "metadata": {},
   "source": [
    "### Create hyperparameters"
   ]
  },
  {
   "cell_type": "code",
<<<<<<< HEAD
   "execution_count": null,
   "id": "b4fced82",
   "metadata": {},
   "outputs": [],
   "source": [
    "hyperparams = {\n",
    "    \"hidden_units\": [64, 32]\n",
    "}\n",
    "\n",
    "hyperparams = defaults.update_hyperparams(hyperparams)\n",
=======
   "execution_count": 16,
   "id": "b4fced82",
   "metadata": {
    "tags": []
   },
   "outputs": [
    {
     "data": {
      "text/plain": [
       "{'num_epochs': 10, 'learning_rate': 0.0001, 'batch_size': 5120}"
      ]
     },
     "execution_count": 16,
     "metadata": {},
     "output_type": "execute_result"
    }
   ],
   "source": [
    "hyperpar = {\n",
    "    'num_epochs': 10\n",
    "}\n",
    "\n",
    "hyperparams = defaults.update_hyperparams(hyperpar)\n",
>>>>>>> 811e3c7 (update code to work with tfx 1.14)
    "hyperparams"
   ]
  },
  {
<<<<<<< HEAD
   "cell_type": "markdown",
   "id": "3c17b65e",
   "metadata": {},
   "source": [
    "### Create and test model inputs and outputs"
   ]
  },
  {
   "cell_type": "code",
   "execution_count": null,
   "id": "a05b0f63",
   "metadata": {},
   "outputs": [],
   "source": [
    "classifier = model.create_binary_classifier(tft_output, hyperparams)\n",
    "classifier.summary()"
=======
   "cell_type": "code",
   "execution_count": 17,
   "id": "a945bb47-c14a-477c-bb58-e6b8c87b0274",
   "metadata": {
    "tags": []
   },
   "outputs": [
    {
     "data": {
      "text/plain": [
       "{'num_epochs': 10, 'learning_rate': 0.0001, 'batch_size': 5120}"
      ]
     },
     "execution_count": 17,
     "metadata": {},
     "output_type": "execute_result"
    }
   ],
   "source": [
    "hyperparams\n"
   ]
  },
  {
   "cell_type": "markdown",
   "id": "3c17b65e",
   "metadata": {},
   "source": [
    "### Create and test model inputs and outputs"
>>>>>>> 811e3c7 (update code to work with tfx 1.14)
   ]
  },
  {
   "cell_type": "code",
<<<<<<< HEAD
   "execution_count": null,
   "id": "ad4d33eb",
   "metadata": {},
   "outputs": [],
   "source": [
    "keras.utils.plot_model(\n",
    "    classifier, \n",
    "    show_shapes=True, \n",
    "    show_dtype=True\n",
    ")"
=======
   "execution_count": 18,
   "id": "9498b8db-6c29-4965-8083-eb346853d87e",
   "metadata": {
    "tags": []
   },
   "outputs": [
    {
     "name": "stdout",
     "output_type": "stream",
     "text": [
      "Model: \"model\"\n",
      "__________________________________________________________________________________________________\n",
      " Layer (type)                Output Shape                 Param #   Connected to                  \n",
      "==================================================================================================\n",
      " trip_month_xf (InputLayer)  [(None,)]                    0         []                            \n",
      "                                                                                                  \n",
      " trip_day_xf (InputLayer)    [(None,)]                    0         []                            \n",
      "                                                                                                  \n",
      " trip_day_of_week_xf (Input  [(None,)]                    0         []                            \n",
      " Layer)                                                                                           \n",
      "                                                                                                  \n",
      " trip_hour_xf (InputLayer)   [(None,)]                    0         []                            \n",
      "                                                                                                  \n",
      " trip_seconds_xf (InputLaye  [(None,)]                    0         []                            \n",
      " r)                                                                                               \n",
      "                                                                                                  \n",
      " trip_miles_xf (InputLayer)  [(None,)]                    0         []                            \n",
      "                                                                                                  \n",
      " payment_type_xf (InputLaye  [(None,)]                    0         []                            \n",
      " r)                                                                                               \n",
      "                                                                                                  \n",
      " pickup_grid_xf (InputLayer  [(None,)]                    0         []                            \n",
      " )                                                                                                \n",
      "                                                                                                  \n",
      " dropoff_grid_xf (InputLaye  [(None,)]                    0         []                            \n",
      " r)                                                                                               \n",
      "                                                                                                  \n",
      " euclidean_xf (InputLayer)   [(None,)]                    0         []                            \n",
      "                                                                                                  \n",
      " loc_cross_xf (InputLayer)   [(None,)]                    0         []                            \n",
      "                                                                                                  \n",
      " trip_month_xf_embedding (E  (None, 2)                    24        ['trip_month_xf[0][0]']       \n",
      " mbedding)                                                                                        \n",
      "                                                                                                  \n",
      " trip_day_xf_embedding (Emb  (None, 4)                    128       ['trip_day_xf[0][0]']         \n",
      " edding)                                                                                          \n",
      "                                                                                                  \n",
      " trip_day_of_week_xf_onehot  (None, 7)                    0         ['trip_day_of_week_xf[0][0]'] \n",
      "  (CategoryEncoding)                                                                              \n",
      "                                                                                                  \n",
      " trip_hour_xf_embedding (Em  (None, 3)                    75        ['trip_hour_xf[0][0]']        \n",
      " bedding)                                                                                         \n",
      "                                                                                                  \n",
      " tf.expand_dims (TFOpLambda  (None, 1)                    0         ['trip_seconds_xf[0][0]']     \n",
      " )                                                                                                \n",
      "                                                                                                  \n",
      " tf.expand_dims_1 (TFOpLamb  (None, 1)                    0         ['trip_miles_xf[0][0]']       \n",
      " da)                                                                                              \n",
      "                                                                                                  \n",
      " payment_type_xf_onehot (Ca  (None, 7)                    0         ['payment_type_xf[0][0]']     \n",
      " tegoryEncoding)                                                                                  \n",
      "                                                                                                  \n",
      " pickup_grid_xf_embedding (  (None, 3)                    9         ['pickup_grid_xf[0][0]']      \n",
      " Embedding)                                                                                       \n",
      "                                                                                                  \n",
      " dropoff_grid_xf_embedding   (None, 3)                    12        ['dropoff_grid_xf[0][0]']     \n",
      " (Embedding)                                                                                      \n",
      "                                                                                                  \n",
      " tf.expand_dims_2 (TFOpLamb  (None, 1)                    0         ['euclidean_xf[0][0]']        \n",
      " da)                                                                                              \n",
      "                                                                                                  \n",
      " loc_cross_xf_embedding (Em  (None, 10)                   60        ['loc_cross_xf[0][0]']        \n",
      " bedding)                                                                                         \n",
      "                                                                                                  \n",
      " combines_inputs (Concatena  (None, 42)                   0         ['trip_month_xf_embedding[0][0\n",
      " te)                                                                ]',                           \n",
      "                                                                     'trip_day_xf_embedding[0][0]'\n",
      "                                                                    , 'trip_day_of_week_xf_onehot[\n",
      "                                                                    0][0]',                       \n",
      "                                                                     'trip_hour_xf_embedding[0][0]\n",
      "                                                                    ',                            \n",
      "                                                                     'tf.expand_dims[0][0]',      \n",
      "                                                                     'tf.expand_dims_1[0][0]',    \n",
      "                                                                     'payment_type_xf_onehot[0][0]\n",
      "                                                                    ',                            \n",
      "                                                                     'pickup_grid_xf_embedding[0][\n",
      "                                                                    0]',                          \n",
      "                                                                     'dropoff_grid_xf_embedding[0]\n",
      "                                                                    [0]',                         \n",
      "                                                                     'tf.expand_dims_2[0][0]',    \n",
      "                                                                     'loc_cross_xf_embedding[0][0]\n",
      "                                                                    ']                            \n",
      "                                                                                                  \n",
      " feedforward_network (Seque  (None, 32)                   4832      ['combines_inputs[0][0]']     \n",
      " ntial)                                                                                           \n",
      "                                                                                                  \n",
      " logits (Dense)              (None, 1)                    33        ['feedforward_network[0][0]'] \n",
      "                                                                                                  \n",
      "==================================================================================================\n",
      "Total params: 5173 (20.21 KB)\n",
      "Trainable params: 5173 (20.21 KB)\n",
      "Non-trainable params: 0 (0.00 Byte)\n",
      "__________________________________________________________________________________________________\n"
     ]
    }
   ],
   "source": [
    "classifier = model_.create_binary_classifier(tft_output, hyperparams)\n",
    "classifier.summary()"
>>>>>>> 811e3c7 (update code to work with tfx 1.14)
   ]
  },
  {
   "cell_type": "code",
<<<<<<< HEAD
   "execution_count": null,
   "id": "f06e056e",
   "metadata": {},
   "outputs": [],
=======
   "execution_count": 19,
   "id": "f06e056e",
   "metadata": {
    "tags": []
   },
   "outputs": [
    {
     "data": {
      "text/plain": [
       "<tf.Tensor: shape=(3, 1), dtype=float32, numpy=\n",
       "array([[0.06873511],\n",
       "       [0.1296667 ],\n",
       "       [0.18938145]], dtype=float32)>"
      ]
     },
     "execution_count": 19,
     "metadata": {},
     "output_type": "execute_result"
    }
   ],
>>>>>>> 811e3c7 (update code to work with tfx 1.14)
   "source": [
    "classifier(input_features)"
   ]
  },
  {
   "cell_type": "markdown",
   "id": "1d451ef7",
   "metadata": {},
   "source": [
    "### Train the model locally."
   ]
  },
  {
   "cell_type": "code",
<<<<<<< HEAD
   "execution_count": null,
   "id": "153efc48",
   "metadata": {},
=======
   "execution_count": 20,
   "id": "153efc48",
   "metadata": {
    "tags": []
   },
>>>>>>> 811e3c7 (update code to work with tfx 1.14)
   "outputs": [],
   "source": [
    "logging.getLogger().setLevel(logging.INFO)\n",
    "\n",
    "hyperparams[\"learning_rate\"] = 0.001\n",
<<<<<<< HEAD
    "hyperparams[\"num_epochs\"] = 5\n",
=======
    "hyperparams[\"num_epochs\"] = 10\n",
>>>>>>> 811e3c7 (update code to work with tfx 1.14)
    "hyperparams[\"batch_size\"] = 512\n",
    "\n",
    "vertex_ai.log_params(hyperparams)"
   ]
  },
  {
   "cell_type": "code",
<<<<<<< HEAD
   "execution_count": null,
   "id": "a91c4924",
   "metadata": {},
   "outputs": [],
=======
   "execution_count": 21,
   "id": "a91c4924",
   "metadata": {
    "tags": []
   },
   "outputs": [
    {
     "name": "stderr",
     "output_type": "stream",
     "text": [
      "INFO:root:Loading tft output from gs://stellar-orb-408015/chicago-taxi-tips/experiments/chicago-taxi-tips-classifier--v01/run-local-20240123211958/transform_artifacts\n",
      "INFO:root:Model training started...\n"
     ]
    },
    {
     "name": "stdout",
     "output_type": "stream",
     "text": [
      "Epoch 1/10\n",
      "7/7 [==============================] - 2s 229ms/step - loss: 0.6140 - accuracy: 0.9068 - val_loss: 0.5389 - val_accuracy: 0.9189\n",
      "Epoch 2/10\n",
      "7/7 [==============================] - 1s 155ms/step - loss: 0.4965 - accuracy: 0.9107 - val_loss: 0.4344 - val_accuracy: 0.9180\n",
      "Epoch 3/10\n",
      "7/7 [==============================] - 1s 146ms/step - loss: 0.4084 - accuracy: 0.9079 - val_loss: 0.3494 - val_accuracy: 0.9180\n",
      "Epoch 4/10\n",
      "7/7 [==============================] - 1s 149ms/step - loss: 0.3295 - accuracy: 0.9118 - val_loss: 0.2852 - val_accuracy: 0.9199\n",
      "Epoch 5/10\n",
      "7/7 [==============================] - 1s 140ms/step - loss: 0.2872 - accuracy: 0.9076 - val_loss: 0.2469 - val_accuracy: 0.9170\n",
      "Epoch 6/10\n",
      "7/7 [==============================] - 1s 161ms/step - loss: 0.2508 - accuracy: 0.9090 - val_loss: 0.2200 - val_accuracy: 0.9170\n",
      "Epoch 7/10\n",
      "7/7 [==============================] - 3s 448ms/step - loss: 0.2280 - accuracy: 0.9099 - val_loss: 0.1986 - val_accuracy: 0.9180\n",
      "Epoch 8/10\n",
      "1/7 [===>..........................] - ETA: 1s - loss: 0.2225 - accuracy: 0.9062"
     ]
    },
    {
     "name": "stderr",
     "output_type": "stream",
     "text": [
      "2024-01-23 21:21:52.722441: I tensorflow/tsl/platform/cloud/gcs_file_system.cc:627] ### RequestUploadSessionStatus: completed = 1, already_uploaded = 0, file = gs://stellar-orb-408015/chicago-taxi-tips/experiments/chicago-taxi-tips-classifier--v01/run-local-20240123211958/logs/validation/events.out.tfevents.1706044903.instance-20231226-125629.12973.1.v2\n"
     ]
    },
    {
     "name": "stdout",
     "output_type": "stream",
     "text": [
      "7/7 [==============================] - 1s 144ms/step - loss: 0.2049 - accuracy: 0.9118 - val_loss: 0.1816 - val_accuracy: 0.9180\n",
      "Epoch 9/10\n",
      "7/7 [==============================] - 1s 147ms/step - loss: 0.1952 - accuracy: 0.9060 - val_loss: 0.1648 - val_accuracy: 0.9180\n",
      "Epoch 10/10\n",
      "7/7 [==============================] - 1s 156ms/step - loss: 0.1744 - accuracy: 0.9085 - val_loss: 0.1513 - val_accuracy: 0.9170\n"
     ]
    },
    {
     "name": "stderr",
     "output_type": "stream",
     "text": [
      "INFO:root:Model training completed.\n"
     ]
    }
   ],
>>>>>>> 811e3c7 (update code to work with tfx 1.14)
   "source": [
    "classifier = trainer.train(\n",
    "    train_data_dir=train_data_file_pattern,\n",
    "    eval_data_dir=eval_data_file_pattern,\n",
    "    tft_output_dir=TRANSFORM_ARTIFACTS_DIR,\n",
    "    hyperparams=hyperparams,\n",
    "    log_dir=LOG_DIR,\n",
    ")"
   ]
  },
  {
   "cell_type": "code",
<<<<<<< HEAD
   "execution_count": null,
   "id": "ebbce8e8",
   "metadata": {},
   "outputs": [],
=======
   "execution_count": 22,
   "id": "ebbce8e8",
   "metadata": {},
   "outputs": [
    {
     "name": "stderr",
     "output_type": "stream",
     "text": [
      "INFO:root:Loading raw schema from src/raw_schema/schema.pbtxt\n",
      "INFO:root:Loading tft output from gs://stellar-orb-408015/chicago-taxi-tips/experiments/chicago-taxi-tips-classifier--v01/run-local-20240123211958/transform_artifacts\n",
      "INFO:root:Model evaluation started...\n"
     ]
    },
    {
     "name": "stdout",
     "output_type": "stream",
     "text": [
      "2/2 [==============================] - 0s 22ms/step - loss: 0.1510 - accuracy: 0.9170\n"
     ]
    },
    {
     "name": "stderr",
     "output_type": "stream",
     "text": [
      "INFO:root:Model evaluation completed.\n"
     ]
    }
   ],
>>>>>>> 811e3c7 (update code to work with tfx 1.14)
   "source": [
    "val_loss, val_accuracy = trainer.evaluate(\n",
    "    model=classifier,\n",
    "    data_dir=eval_data_file_pattern,\n",
    "    raw_schema_location=RAW_SCHEMA_LOCATION,\n",
    "    tft_output_dir=TRANSFORM_ARTIFACTS_DIR,\n",
    "    hyperparams=hyperparams,\n",
    ")"
   ]
  },
  {
   "cell_type": "code",
<<<<<<< HEAD
   "execution_count": null,
=======
   "execution_count": 23,
>>>>>>> 811e3c7 (update code to work with tfx 1.14)
   "id": "30e58239",
   "metadata": {},
   "outputs": [],
   "source": [
    "vertex_ai.log_metrics(\n",
    "    {\"val_loss\": val_loss, \"val_accuracy\": val_accuracy})"
   ]
  },
  {
   "cell_type": "code",
<<<<<<< HEAD
   "execution_count": null,
   "id": "cff3c829",
   "metadata": {},
   "outputs": [],
=======
   "execution_count": 24,
   "id": "cff3c829",
   "metadata": {},
   "outputs": [
    {
     "name": "stdout",
     "output_type": "stream",
     "text": [
      "2024-01-23 21:21:58.863356: I tensorflow/core/platform/cpu_feature_guard.cc:182] This TensorFlow binary is optimized to use available CPU instructions in performance-critical operations.\n",
      "To enable the following instructions: AVX2 FMA, in other operations, rebuild TensorFlow with the appropriate compiler flags.\n",
      "View your Tensorboard at https://us-central1.tensorboard.googleusercontent.com/experiment/projects+13110252891+locations+us-central1+tensorboards+3760439718156697600+experiments+chicago-taxi-tips-classifier--v01\n",
      "\u001b[1m[2024-01-23T21:22:02]\u001b[0m Started scanning logdir.\n",
      "\u001b[1m[2024-01-23T21:22:02]\u001b[0m Total uploaded: 60 scalars, 0 tensors, 0 binary objects\n",
      "\u001b[2K\u001b[33mListening for new data in logdir...\u001b[0m\r"
     ]
    }
   ],
>>>>>>> 811e3c7 (update code to work with tfx 1.14)
   "source": [
    "!tb-gcp-uploader --tensorboard_resource_name={tensorboard_resource_name} \\\n",
    "  --logdir={LOG_DIR} \\\n",
    "  --experiment_name={EXPERIMENT_NAME} --one_shot=True"
   ]
  },
  {
   "cell_type": "markdown",
   "id": "44268d04",
   "metadata": {},
   "source": [
    "### Export the trained model"
   ]
  },
  {
   "cell_type": "code",
<<<<<<< HEAD
   "execution_count": null,
   "id": "e2cf46d6",
   "metadata": {},
   "outputs": [],
=======
   "execution_count": 25,
   "id": "e2cf46d6",
   "metadata": {},
   "outputs": [
    {
     "name": "stdout",
     "output_type": "stream",
     "text": [
      "INFO:tensorflow:struct2tensor is not available.\n"
     ]
    },
    {
     "name": "stderr",
     "output_type": "stream",
     "text": [
      "INFO:tensorflow:struct2tensor is not available.\n"
     ]
    },
    {
     "name": "stdout",
     "output_type": "stream",
     "text": [
      "INFO:tensorflow:tensorflow_decision_forests is not available.\n"
     ]
    },
    {
     "name": "stderr",
     "output_type": "stream",
     "text": [
      "INFO:tensorflow:tensorflow_decision_forests is not available.\n"
     ]
    },
    {
     "name": "stdout",
     "output_type": "stream",
     "text": [
      "INFO:tensorflow:tensorflow_text is not available.\n"
     ]
    },
    {
     "name": "stderr",
     "output_type": "stream",
     "text": [
      "INFO:tensorflow:tensorflow_text is not available.\n",
      "INFO:root:Model export started...\n"
     ]
    },
    {
     "name": "stdout",
     "output_type": "stream",
     "text": [
      "INFO:tensorflow:Assets written to: gs://stellar-orb-408015/chicago-taxi-tips/experiments/chicago-taxi-tips-classifier--v01/run-local-20240123211958/model/assets\n"
     ]
    },
    {
     "name": "stderr",
     "output_type": "stream",
     "text": [
      "INFO:tensorflow:Assets written to: gs://stellar-orb-408015/chicago-taxi-tips/experiments/chicago-taxi-tips-classifier--v01/run-local-20240123211958/model/assets\n",
      "INFO:root:Model export completed.\n"
     ]
    }
   ],
>>>>>>> 811e3c7 (update code to work with tfx 1.14)
   "source": [
    "saved_model_dir = os.path.join(EXPORT_DIR)\n",
    "\n",
    "exporter.export_serving_model(\n",
    "    classifier=classifier,\n",
    "    serving_model_dir=saved_model_dir,\n",
    "    raw_schema_location=RAW_SCHEMA_LOCATION,\n",
    "    tft_output_dir=TRANSFORM_ARTIFACTS_DIR,\n",
    ")"
   ]
  },
  {
   "cell_type": "markdown",
   "id": "dba1ba3e",
   "metadata": {},
   "source": [
    "### Inspect model serving signatures"
   ]
  },
  {
   "cell_type": "code",
<<<<<<< HEAD
   "execution_count": null,
   "id": "cb8989c2",
   "metadata": {},
   "outputs": [],
=======
   "execution_count": 26,
   "id": "cb8989c2",
   "metadata": {},
   "outputs": [
    {
     "name": "stdout",
     "output_type": "stream",
     "text": [
      "2024-01-23 21:22:20.080226: I tensorflow/core/platform/cpu_feature_guard.cc:182] This TensorFlow binary is optimized to use available CPU instructions in performance-critical operations.\n",
      "To enable the following instructions: AVX2 FMA, in other operations, rebuild TensorFlow with the appropriate compiler flags.\n",
      "The given SavedModel SignatureDef contains the following input(s):\n",
      "  inputs['examples'] tensor_info:\n",
      "      dtype: DT_STRING\n",
      "      shape: (-1)\n",
      "      name: serving_tf_example_examples:0\n",
      "The given SavedModel SignatureDef contains the following output(s):\n",
      "  outputs['probabilities'] tensor_info:\n",
      "      dtype: DT_FLOAT\n",
      "      shape: (-1, 1)\n",
      "      name: StatefulPartitionedCall_25:0\n",
      "Method name is: tensorflow/serving/predict\n"
     ]
    }
   ],
>>>>>>> 811e3c7 (update code to work with tfx 1.14)
   "source": [
    "!saved_model_cli show --dir={saved_model_dir} --tag_set=serve --signature_def=serving_tf_example"
   ]
  },
  {
   "cell_type": "code",
<<<<<<< HEAD
   "execution_count": null,
   "id": "7517a78b",
   "metadata": {},
   "outputs": [],
=======
   "execution_count": 27,
   "id": "7517a78b",
   "metadata": {},
   "outputs": [
    {
     "name": "stdout",
     "output_type": "stream",
     "text": [
      "2024-01-23 21:22:24.043765: I tensorflow/core/platform/cpu_feature_guard.cc:182] This TensorFlow binary is optimized to use available CPU instructions in performance-critical operations.\n",
      "To enable the following instructions: AVX2 FMA, in other operations, rebuild TensorFlow with the appropriate compiler flags.\n",
      "The given SavedModel SignatureDef contains the following input(s):\n",
      "  inputs['dropoff_grid'] tensor_info:\n",
      "      dtype: DT_STRING\n",
      "      shape: (-1, 1)\n",
      "      name: serving_default_dropoff_grid:0\n",
      "  inputs['euclidean'] tensor_info:\n",
      "      dtype: DT_FLOAT\n",
      "      shape: (-1, 1)\n",
      "      name: serving_default_euclidean:0\n",
      "  inputs['loc_cross'] tensor_info:\n",
      "      dtype: DT_STRING\n",
      "      shape: (-1, 1)\n",
      "      name: serving_default_loc_cross:0\n",
      "  inputs['payment_type'] tensor_info:\n",
      "      dtype: DT_STRING\n",
      "      shape: (-1, 1)\n",
      "      name: serving_default_payment_type:0\n",
      "  inputs['pickup_grid'] tensor_info:\n",
      "      dtype: DT_STRING\n",
      "      shape: (-1, 1)\n",
      "      name: serving_default_pickup_grid:0\n",
      "  inputs['trip_day'] tensor_info:\n",
      "      dtype: DT_INT64\n",
      "      shape: (-1, 1)\n",
      "      name: serving_default_trip_day:0\n",
      "  inputs['trip_day_of_week'] tensor_info:\n",
      "      dtype: DT_INT64\n",
      "      shape: (-1, 1)\n",
      "      name: serving_default_trip_day_of_week:0\n",
      "  inputs['trip_hour'] tensor_info:\n",
      "      dtype: DT_INT64\n",
      "      shape: (-1, 1)\n",
      "      name: serving_default_trip_hour:0\n",
      "  inputs['trip_miles'] tensor_info:\n",
      "      dtype: DT_FLOAT\n",
      "      shape: (-1, 1)\n",
      "      name: serving_default_trip_miles:0\n",
      "  inputs['trip_month'] tensor_info:\n",
      "      dtype: DT_INT64\n",
      "      shape: (-1, 1)\n",
      "      name: serving_default_trip_month:0\n",
      "  inputs['trip_seconds'] tensor_info:\n",
      "      dtype: DT_INT64\n",
      "      shape: (-1, 1)\n",
      "      name: serving_default_trip_seconds:0\n",
      "The given SavedModel SignatureDef contains the following output(s):\n",
      "  outputs['classes'] tensor_info:\n",
      "      dtype: DT_STRING\n",
      "      shape: (-1, 2)\n",
      "      name: StatefulPartitionedCall_24:0\n",
      "  outputs['scores'] tensor_info:\n",
      "      dtype: DT_FLOAT\n",
      "      shape: (-1, 2)\n",
      "      name: StatefulPartitionedCall_24:1\n",
      "Method name is: tensorflow/serving/predict\n"
     ]
    }
   ],
>>>>>>> 811e3c7 (update code to work with tfx 1.14)
   "source": [
    "!saved_model_cli show --dir={saved_model_dir} --tag_set=serve --signature_def=serving_default"
   ]
  },
  {
   "cell_type": "markdown",
   "id": "7f68ecd0",
   "metadata": {},
   "source": [
    "### Test the exported SavedModel"
   ]
  },
  {
   "cell_type": "code",
<<<<<<< HEAD
   "execution_count": null,
   "id": "965d7d03",
   "metadata": {},
   "outputs": [],
=======
   "execution_count": 28,
   "id": "965d7d03",
   "metadata": {},
   "outputs": [
    {
     "name": "stdout",
     "output_type": "stream",
     "text": [
      "Saved model is loaded.\n"
     ]
    }
   ],
>>>>>>> 811e3c7 (update code to work with tfx 1.14)
   "source": [
    "serving_model = tf.saved_model.load(saved_model_dir)\n",
    "print(\"Saved model is loaded.\")"
   ]
  },
  {
   "cell_type": "code",
<<<<<<< HEAD
   "execution_count": null,
   "id": "395f6ac6",
   "metadata": {},
   "outputs": [],
=======
   "execution_count": 29,
   "id": "395f6ac6",
   "metadata": {},
   "outputs": [
    {
     "name": "stdout",
     "output_type": "stream",
     "text": [
      "probabilities: [[0.03156493]\n",
      " [0.04181619]\n",
      " [0.03403834]]\n"
     ]
    }
   ],
>>>>>>> 811e3c7 (update code to work with tfx 1.14)
   "source": [
    "# Test the serving_tf_example with TF Examples\n",
    "\n",
    "file_names = tf.data.TFRecordDataset.list_files(EXPORTED_DATA_PREFIX + '/data-*.tfrecord')\n",
    "for batch in tf.data.TFRecordDataset(file_names).batch(3).take(1):\n",
    "    predictions = serving_model.signatures['serving_tf_example'](batch)\n",
    "    for key in predictions:\n",
    "        print(f\"{key}: {predictions[key]}\")"
   ]
  },
  {
   "cell_type": "code",
<<<<<<< HEAD
   "execution_count": null,
=======
   "execution_count": 30,
>>>>>>> 811e3c7 (update code to work with tfx 1.14)
   "id": "41f041d6",
   "metadata": {},
   "outputs": [],
   "source": [
    "# Test the serving_default with feature dictionary\n",
    "\n",
    "import tensorflow_data_validation as tfdv\n",
    "from tensorflow_transform.tf_metadata import schema_utils\n",
    "\n",
    "raw_schema = tfdv.load_schema_text(RAW_SCHEMA_LOCATION)\n",
    "raw_feature_spec = schema_utils.schema_as_feature_spec(raw_schema).feature_spec"
   ]
  },
  {
   "cell_type": "code",
<<<<<<< HEAD
   "execution_count": null,
=======
   "execution_count": 31,
>>>>>>> 811e3c7 (update code to work with tfx 1.14)
   "id": "3d51e9ef",
   "metadata": {},
   "outputs": [],
   "source": [
    "instance = {\n",
    "    \"dropoff_grid\": \"POINT(-87.6 41.9)\",\n",
    "    \"euclidean\": 2064.2696,\n",
    "    \"loc_cross\": \"\",\n",
    "    \"payment_type\": \"Credit Card\",\n",
    "    \"pickup_grid\": \"POINT(-87.6 41.9)\",\n",
    "    \"trip_miles\": 1.37,\n",
    "    \"trip_day\": 12,\n",
    "    \"trip_hour\": 6,\n",
    "    \"trip_month\": 2,\n",
    "    \"trip_day_of_week\": 4,\n",
    "    \"trip_seconds\": 555,\n",
    "}\n",
    "\n",
    "for feature_name in instance:\n",
    "    dtype = raw_feature_spec[feature_name].dtype\n",
    "    instance[feature_name] = tf.constant([[instance[feature_name]]], dtype)"
   ]
  },
  {
   "cell_type": "code",
<<<<<<< HEAD
   "execution_count": null,
   "id": "6469de0d",
   "metadata": {},
   "outputs": [],
=======
   "execution_count": 36,
   "id": "6469de0d",
   "metadata": {},
   "outputs": [
    {
     "name": "stdout",
     "output_type": "stream",
     "text": [
      "scores: [[0.43565786 0.56434214]]\n",
      "classes: [[b'tip<20%' b'tip>=20%']]\n"
     ]
    }
   ],
>>>>>>> 811e3c7 (update code to work with tfx 1.14)
   "source": [
    "predictions = serving_model.signatures['serving_default'](**instance)\n",
    "for key in predictions:\n",
    "    print(f\"{key}: {predictions[key].numpy()}\")"
   ]
  },
  {
   "cell_type": "markdown",
   "id": "8cec2080",
   "metadata": {},
   "source": [
    "## Start a new Vertex AI experiment run"
   ]
  },
  {
   "cell_type": "code",
<<<<<<< HEAD
   "execution_count": null,
   "id": "1d87d0f9",
   "metadata": {},
   "outputs": [],
=======
   "execution_count": 13,
   "id": "1d87d0f9",
   "metadata": {
    "tags": []
   },
   "outputs": [
    {
     "name": "stdout",
     "output_type": "stream",
     "text": [
      "Associating projects/13110252891/locations/us-central1/metadataStores/default/contexts/chicago-taxi-tips-classifier--v01-run-gcp-20240121205758 to Experiment: chicago-taxi-tips-classifier--v01\n",
      "Experiment run directory: gs://stellar-orb-408015/chicago-taxi-tips/experiments/chicago-taxi-tips-classifier--v01/run-gcp-20240121205758\n"
     ]
    }
   ],
>>>>>>> 811e3c7 (update code to work with tfx 1.14)
   "source": [
    "vertex_ai.init(\n",
    "    project=PROJECT,\n",
    "    staging_bucket=BUCKET,\n",
    "    experiment=EXPERIMENT_NAME)\n",
    "\n",
    "run_id = f\"run-gcp-{datetime.now().strftime('%Y%m%d%H%M%S')}\"\n",
<<<<<<< HEAD
=======
    "#run_id = \"run-gcp-20240121200307\"\n",
>>>>>>> 811e3c7 (update code to work with tfx 1.14)
    "vertex_ai.start_run(run_id)\n",
    "\n",
    "EXPERIMENT_RUN_DIR = os.path.join(EXPERIMENT_ARTIFACTS_DIR, EXPERIMENT_NAME, run_id)\n",
    "print(\"Experiment run directory:\", EXPERIMENT_RUN_DIR)"
   ]
  },
  {
   "cell_type": "markdown",
   "id": "8ade27b7",
   "metadata": {},
   "source": [
    "## 3. Submit a Data Processing Job to Dataflow"
   ]
  },
  {
   "cell_type": "code",
<<<<<<< HEAD
   "execution_count": null,
   "id": "2d903ff5",
   "metadata": {},
=======
   "execution_count": 14,
   "id": "2d903ff5",
   "metadata": {
    "tags": []
   },
>>>>>>> 811e3c7 (update code to work with tfx 1.14)
   "outputs": [],
   "source": [
    "EXPORTED_DATA_PREFIX = os.path.join(EXPERIMENT_RUN_DIR, 'exported_data')\n",
    "TRANSFORMED_DATA_PREFIX = os.path.join(EXPERIMENT_RUN_DIR, 'transformed_data')\n",
    "TRANSFORM_ARTIFACTS_DIR = os.path.join(EXPERIMENT_RUN_DIR, 'transform_artifacts')"
   ]
  },
  {
   "cell_type": "code",
<<<<<<< HEAD
   "execution_count": null,
   "id": "3fac3380",
   "metadata": {},
=======
   "execution_count": 12,
   "id": "3fac3380",
   "metadata": {
    "tags": []
   },
>>>>>>> 811e3c7 (update code to work with tfx 1.14)
   "outputs": [],
   "source": [
    "ML_USE = 'UNASSIGNED'\n",
    "LIMIT = 1000000\n",
    "raw_data_query = datasource_utils.get_training_source_query(\n",
    "    project=PROJECT, \n",
    "    region=REGION, \n",
    "    dataset_display_name=DATASET_DISPLAY_NAME, \n",
    "    ml_use=ML_USE, \n",
    "    limit=LIMIT\n",
    ")\n",
    "\n",
    "etl_job_name = f\"etl-{MODEL_DISPLAY_NAME}-{run_id}\"\n",
    "\n",
    "args = {\n",
    "    'job_name': etl_job_name,\n",
    "    'runner': 'DataflowRunner',\n",
    "    'raw_data_query': raw_data_query,\n",
    "    'exported_data_prefix': EXPORTED_DATA_PREFIX,\n",
    "    'transformed_data_prefix': TRANSFORMED_DATA_PREFIX,\n",
    "    'transform_artifact_dir': TRANSFORM_ARTIFACTS_DIR,\n",
    "    'write_raw_data': False,\n",
    "    'temporary_dir': os.path.join(WORKSPACE, 'tmp'),\n",
    "    'gcs_location': os.path.join(WORKSPACE, 'bq_tmp'),\n",
    "    'project': PROJECT,\n",
<<<<<<< HEAD
    "    'region': REGION,\n",
=======
    "    'region': 'us-east1',\n",
>>>>>>> 811e3c7 (update code to work with tfx 1.14)
    "    'setup_file': './setup.py'\n",
    "}"
   ]
  },
  {
   "cell_type": "code",
<<<<<<< HEAD
   "execution_count": null,
   "id": "c909d3ca",
   "metadata": {},
=======
   "execution_count": 13,
   "id": "c909d3ca",
   "metadata": {
    "tags": []
   },
>>>>>>> 811e3c7 (update code to work with tfx 1.14)
   "outputs": [],
   "source": [
    "vertex_ai.log_params(args)"
   ]
  },
  {
   "cell_type": "code",
<<<<<<< HEAD
   "execution_count": null,
   "id": "014e5512",
   "metadata": {},
   "outputs": [],
=======
   "execution_count": 14,
   "id": "014e5512",
   "metadata": {
    "tags": []
   },
   "outputs": [
    {
     "name": "stdout",
     "output_type": "stream",
     "text": [
      "Data preprocessing started...\n"
     ]
    },
    {
     "data": {
      "application/javascript": [
       "\n",
       "        if (typeof window.interactive_beam_jquery == 'undefined') {\n",
       "          var jqueryScript = document.createElement('script');\n",
       "          jqueryScript.src = 'https://code.jquery.com/jquery-3.4.1.slim.min.js';\n",
       "          jqueryScript.type = 'text/javascript';\n",
       "          jqueryScript.onload = function() {\n",
       "            var datatableScript = document.createElement('script');\n",
       "            datatableScript.src = 'https://cdn.datatables.net/1.10.20/js/jquery.dataTables.min.js';\n",
       "            datatableScript.type = 'text/javascript';\n",
       "            datatableScript.onload = function() {\n",
       "              window.interactive_beam_jquery = jQuery.noConflict(true);\n",
       "              window.interactive_beam_jquery(document).ready(function($){\n",
       "                \n",
       "              });\n",
       "            }\n",
       "            document.head.appendChild(datatableScript);\n",
       "          };\n",
       "          document.head.appendChild(jqueryScript);\n",
       "        } else {\n",
       "          window.interactive_beam_jquery(document).ready(function($){\n",
       "            \n",
       "          });\n",
       "        }"
      ]
     },
     "metadata": {},
     "output_type": "display_data"
    },
    {
     "name": "stderr",
     "output_type": "stream",
     "text": [
      "/opt/conda/lib/python3.10/site-packages/apache_beam/io/gcp/bigquery.py:2748: BeamDeprecationWarning: options is deprecated since First stable release. References to <pipeline>.options will not be supported\n",
      "  temp_location = pcoll.pipeline.options.view_as(\n"
     ]
    },
    {
     "name": "stdout",
     "output_type": "stream",
     "text": [
      "Data preprocessing completed.\n"
     ]
    }
   ],
>>>>>>> 811e3c7 (update code to work with tfx 1.14)
   "source": [
    "logging.getLogger().setLevel(logging.ERROR)\n",
    "\n",
    "print(\"Data preprocessing started...\")\n",
    "etl.run_transform_pipeline(args)\n",
    "print(\"Data preprocessing completed.\")"
   ]
  },
  {
   "cell_type": "code",
<<<<<<< HEAD
   "execution_count": null,
   "id": "92a21c21",
   "metadata": {},
   "outputs": [],
=======
   "execution_count": 13,
   "id": "92a21c21",
   "metadata": {
    "tags": []
   },
   "outputs": [
    {
     "name": "stdout",
     "output_type": "stream",
     "text": [
      "gs://stellar-orb-408015/chicago-taxi-tips/experiments/chicago-taxi-tips-classifier--v01/run-gcp-20240121200307/\n",
      "gs://stellar-orb-408015/chicago-taxi-tips/experiments/chicago-taxi-tips-classifier--v01/run-gcp-20240121200307/transform_artifacts/\n",
      "gs://stellar-orb-408015/chicago-taxi-tips/experiments/chicago-taxi-tips-classifier--v01/run-gcp-20240121200307/transformed_data/\n"
     ]
    }
   ],
>>>>>>> 811e3c7 (update code to work with tfx 1.14)
   "source": [
    "!gsutil ls {EXPERIMENT_RUN_DIR}"
   ]
  },
  {
   "cell_type": "markdown",
   "id": "e5c4dfa8",
   "metadata": {},
   "source": [
    "## 4. Submit a Custom Training Job to Vertex AI"
   ]
  },
  {
   "cell_type": "code",
<<<<<<< HEAD
   "execution_count": null,
   "id": "50db6947",
   "metadata": {},
=======
   "execution_count": 14,
   "id": "50db6947",
   "metadata": {
    "tags": []
   },
>>>>>>> 811e3c7 (update code to work with tfx 1.14)
   "outputs": [],
   "source": [
    "LOG_DIR = os.path.join(EXPERIMENT_RUN_DIR, 'logs')\n",
    "EXPORT_DIR = os.path.join(EXPERIMENT_RUN_DIR, 'model')"
   ]
  },
  {
   "cell_type": "markdown",
   "id": "4e998139",
   "metadata": {},
   "source": [
    "### Test the training task locally"
   ]
  },
  {
   "cell_type": "code",
<<<<<<< HEAD
   "execution_count": null,
   "id": "9382ba6f",
   "metadata": {},
   "outputs": [],
   "source": [
=======
   "execution_count": 15,
   "id": "fa3efe50-b89d-4191-8084-5e1cbb49d69b",
   "metadata": {},
   "outputs": [],
   "source": [
    "#run_id_ ='run-gcp-20240121200307'\n",
    "#EXPERIMENT_RUN_DIR_ = os.path.join(EXPERIMENT_ARTIFACTS_DIR, EXPERIMENT_NAME, run_id_)\n",
    "#EXPORTED_DATA_PREFIX = os.path.join(EXPERIMENT_RUN_DIR_, 'exported_data')\n",
    "#TRANSFORMED_DATA_PREFIX = os.path.join(EXPERIMENT_RUN_DIR_, 'transformed_data')\n",
    "#TRANSFORM_ARTIFACTS_DIR = os.path.join(EXPERIMENT_RUN_DIR_, 'transform_artifacts')"
   ]
  },
  {
   "cell_type": "code",
   "execution_count": 16,
   "id": "9382ba6f",
   "metadata": {
    "tags": []
   },
   "outputs": [
    {
     "name": "stdout",
     "output_type": "stream",
     "text": [
      "2024-01-21 20:58:10.752138: I tensorflow/core/platform/cpu_feature_guard.cc:182] This TensorFlow binary is optimized to use available CPU instructions in performance-critical operations.\n",
      "To enable the following instructions: AVX2 FMA, in other operations, rebuild TensorFlow with the appropriate compiler flags.\n",
      "/opt/conda/lib/python3.10/site-packages/tensorflow_io/python/ops/__init__.py:98: UserWarning: unable to load libtensorflow_io_plugins.so: unable to open file: libtensorflow_io_plugins.so, from paths: ['/opt/conda/lib/python3.10/site-packages/tensorflow_io/python/ops/libtensorflow_io_plugins.so']\n",
      "caused by: ['/opt/conda/lib/python3.10/site-packages/tensorflow_io/python/ops/libtensorflow_io_plugins.so: undefined symbol: _ZN3tsl6Status12empty_stringB5cxx11Ev']\n",
      "  warnings.warn(f\"unable to load libtensorflow_io_plugins.so: {e}\")\n",
      "/opt/conda/lib/python3.10/site-packages/tensorflow_io/python/ops/__init__.py:104: UserWarning: file system plugins are not loaded: unable to open file: libtensorflow_io.so, from paths: ['/opt/conda/lib/python3.10/site-packages/tensorflow_io/python/ops/libtensorflow_io.so']\n",
      "caused by: ['/opt/conda/lib/python3.10/site-packages/tensorflow_io/python/ops/libtensorflow_io.so: undefined symbol: _ZNK10tensorflow4data11DatasetBase8FinalizeEPNS_15OpKernelContextESt8functionIFN3tsl8StatusOrISt10unique_ptrIS1_NS5_4core15RefCountDeleterEEEEvEE']\n",
      "  warnings.warn(f\"file system plugins are not loaded: {e}\")\n",
      "INFO:root:Python Version = 3.10.13 | packaged by conda-forge | (main, Oct 26 2023, 18:07:37) [GCC 12.3.0]\n",
      "INFO:root:TensorFlow Version = 2.13.1\n",
      "INFO:root:TF_CONFIG = Not found\n",
      "INFO:root:DEVICES = [name: \"/device:CPU:0\"\n",
      "device_type: \"CPU\"\n",
      "memory_limit: 268435456\n",
      "locality {\n",
      "}\n",
      "incarnation: 2453932761571641920\n",
      "xla_global_id: -1\n",
      "]\n",
      "INFO:root:Task started...\n",
      "INFO:root:Hyperparameter: {'model_dir': 'gs://stellar-orb-408015/chicago-taxi-tips/experiments/chicago-taxi-tips-classifier--v01/run-gcp-20240121205758/model', 'log_dir': 'gs://stellar-orb-408015/chicago-taxi-tips/experiments/chicago-taxi-tips-classifier--v01/run-gcp-20240121205758/logs', 'train_data_dir': 'gs://stellar-orb-408015/chicago-taxi-tips/experiments/chicago-taxi-tips-classifier--v01/run-gcp-20240121200307/transformed_data/train/*', 'eval_data_dir': 'gs://stellar-orb-408015/chicago-taxi-tips/experiments/chicago-taxi-tips-classifier--v01/run-gcp-20240121200307/transformed_data/eval/*', 'tft_output_dir': 'gs://stellar-orb-408015/chicago-taxi-tips/experiments/chicago-taxi-tips-classifier--v01/run-gcp-20240121200307/transform_artifacts', 'learning_rate': 0.001, 'batch_size': 512, 'hidden_units': '32,32', 'num_epochs': 3, 'project': 'stellar-orb-408015', 'region': 'us-central1', 'staging_bucket': 'stellar-orb-408015', 'experiment_name': 'chicago-taxi-tips-classifier--v01', 'run_name': 'run-gcp-20240121205758'}\n",
      "INFO:root:Using Vertex AI experiment: chicago-taxi-tips-classifier--v01\n",
      "INFO:root:Run run-gcp-20240121205758 started.\n",
      "INFO:root:Loading tft output from gs://stellar-orb-408015/chicago-taxi-tips/experiments/chicago-taxi-tips-classifier--v01/run-gcp-20240121200307/transform_artifacts\n",
      "INFO:absl:Feature dropoff_grid_xf has a shape . Setting to DenseTensor.\n",
      "INFO:absl:Feature euclidean_xf has a shape . Setting to DenseTensor.\n",
      "INFO:absl:Feature loc_cross_xf has a shape . Setting to DenseTensor.\n",
      "INFO:absl:Feature payment_type_xf has a shape . Setting to DenseTensor.\n",
      "INFO:absl:Feature pickup_grid_xf has a shape . Setting to DenseTensor.\n",
      "INFO:absl:Feature tip_bin has a shape . Setting to DenseTensor.\n",
      "INFO:absl:Feature trip_day_of_week_xf has a shape . Setting to DenseTensor.\n",
      "INFO:absl:Feature trip_day_xf has a shape . Setting to DenseTensor.\n",
      "INFO:absl:Feature trip_hour_xf has a shape . Setting to DenseTensor.\n",
      "INFO:absl:Feature trip_miles_xf has a shape . Setting to DenseTensor.\n",
      "INFO:absl:Feature trip_month_xf has a shape . Setting to DenseTensor.\n",
      "INFO:absl:Feature trip_seconds_xf has a shape . Setting to DenseTensor.\n",
      "WARNING:tensorflow:From /opt/conda/lib/python3.10/site-packages/tensorflow/python/data/experimental/ops/readers.py:1086: parse_example_dataset (from tensorflow.python.data.experimental.ops.parsing_ops) is deprecated and will be removed in a future version.\n",
      "Instructions for updating:\n",
      "Use `tf.data.Dataset.map(tf.io.parse_example(...))` instead.\n",
      "WARNING:tensorflow:From /opt/conda/lib/python3.10/site-packages/tensorflow/python/data/experimental/ops/readers.py:1086: parse_example_dataset (from tensorflow.python.data.experimental.ops.parsing_ops) is deprecated and will be removed in a future version.\n",
      "Instructions for updating:\n",
      "Use `tf.data.Dataset.map(tf.io.parse_example(...))` instead.\n",
      "INFO:root:Model training started...\n",
      "Epoch 1/3\n",
      "1249/1249 [==============================] - 108s 85ms/step - loss: 0.2547 - accuracy: 0.8806 - val_loss: 0.2409 - val_accuracy: 0.8942\n",
      "Epoch 2/3\n",
      "1249/1249 [==============================] - 82s 66ms/step - loss: 0.2415 - accuracy: 0.8913 - val_loss: 0.2398 - val_accuracy: 0.8913\n",
      "Epoch 3/3\n",
      "1249/1249 [==============================] - 77s 61ms/step - loss: 0.2410 - accuracy: 0.8917 - val_loss: 0.2398 - val_accuracy: 0.8903\n",
      "INFO:root:Model training completed.\n",
      "INFO:root:Loading raw schema from /home/jupyter/mlops-with-vertex-ai_0/src/raw_schema/schema.pbtxt\n",
      "INFO:root:Loading tft output from gs://stellar-orb-408015/chicago-taxi-tips/experiments/chicago-taxi-tips-classifier--v01/run-gcp-20240121200307/transform_artifacts\n",
      "INFO:absl:Feature dropoff_grid_xf has a shape . Setting to DenseTensor.\n",
      "INFO:absl:Feature euclidean_xf has a shape . Setting to DenseTensor.\n",
      "INFO:absl:Feature loc_cross_xf has a shape . Setting to DenseTensor.\n",
      "INFO:absl:Feature payment_type_xf has a shape . Setting to DenseTensor.\n",
      "INFO:absl:Feature pickup_grid_xf has a shape . Setting to DenseTensor.\n",
      "INFO:absl:Feature tip_bin has a shape . Setting to DenseTensor.\n",
      "INFO:absl:Feature trip_day_of_week_xf has a shape . Setting to DenseTensor.\n",
      "INFO:absl:Feature trip_day_xf has a shape . Setting to DenseTensor.\n",
      "INFO:absl:Feature trip_hour_xf has a shape . Setting to DenseTensor.\n",
      "INFO:absl:Feature trip_miles_xf has a shape . Setting to DenseTensor.\n",
      "INFO:absl:Feature trip_month_xf has a shape . Setting to DenseTensor.\n",
      "INFO:absl:Feature trip_seconds_xf has a shape . Setting to DenseTensor.\n",
      "INFO:root:Model evaluation started...\n",
      "312/312 [==============================] - 6s 20ms/step - loss: 0.2397 - accuracy: 0.8903\n",
      "INFO:root:Model evaluation completed.\n",
      "INFO:root:Reporting metric ACCURACY=0.8903245329856873 to Vertex hypertuner...\n",
      "INFO:root:Logging metrics to Vertex Experiments...\n",
      "INFO:absl:Feature trip_month has a shape dim {\n",
      "  size: 1\n",
      "}\n",
      ". Setting to DenseTensor.\n",
      "INFO:absl:Feature trip_day has a shape dim {\n",
      "  size: 1\n",
      "}\n",
      ". Setting to DenseTensor.\n",
      "INFO:absl:Feature trip_day_of_week has a shape dim {\n",
      "  size: 1\n",
      "}\n",
      ". Setting to DenseTensor.\n",
      "INFO:absl:Feature trip_hour has a shape dim {\n",
      "  size: 1\n",
      "}\n",
      ". Setting to DenseTensor.\n",
      "INFO:absl:Feature trip_seconds has a shape dim {\n",
      "  size: 1\n",
      "}\n",
      ". Setting to DenseTensor.\n",
      "INFO:absl:Feature trip_miles has a shape dim {\n",
      "  size: 1\n",
      "}\n",
      ". Setting to DenseTensor.\n",
      "INFO:absl:Feature payment_type has a shape dim {\n",
      "  size: 1\n",
      "}\n",
      ". Setting to DenseTensor.\n",
      "INFO:absl:Feature pickup_grid has a shape dim {\n",
      "  size: 1\n",
      "}\n",
      ". Setting to DenseTensor.\n",
      "INFO:absl:Feature dropoff_grid has a shape dim {\n",
      "  size: 1\n",
      "}\n",
      ". Setting to DenseTensor.\n",
      "INFO:absl:Feature euclidean has a shape dim {\n",
      "  size: 1\n",
      "}\n",
      ". Setting to DenseTensor.\n",
      "INFO:absl:Feature loc_cross has a shape dim {\n",
      "  size: 1\n",
      "}\n",
      ". Setting to DenseTensor.\n",
      "INFO:absl:Feature tip_bin has a shape dim {\n",
      "  size: 1\n",
      "}\n",
      ". Setting to DenseTensor.\n",
      "INFO:tensorflow:struct2tensor is not available.\n",
      "INFO:tensorflow:struct2tensor is not available.\n",
      "INFO:tensorflow:tensorflow_decision_forests is not available.\n",
      "INFO:tensorflow:tensorflow_decision_forests is not available.\n",
      "INFO:tensorflow:tensorflow_text is not available.\n",
      "INFO:tensorflow:tensorflow_text is not available.\n",
      "INFO:root:Model export started...\n",
      "INFO:absl:Function `serve_features_fn` contains input name(s) 3092036, 3092046, 3092056, 3092066, 3092084, 3092094, 3092104, 3092118, 3092136, 3092140, 3092174, 3092212, 3092216, 3092222, resource with unsupported characters which will be renamed to transform_features_layer_3092036, transform_features_layer_3092046, transform_features_layer_3092056, transform_features_layer_3092066, transform_features_layer_3092084, transform_features_layer_3092094, transform_features_layer_3092104, transform_features_layer_3092118, model_trip_month_xf_embedding_embedding_lookup_3092136, model_trip_day_xf_embedding_embedding_lookup_3092140, model_trip_hour_xf_embedding_embedding_lookup_3092174, model_pickup_grid_xf_embedding_embedding_lookup_3092212, model_dropoff_grid_xf_embedding_embedding_lookup_3092216, model_loc_cross_xf_embedding_embedding_lookup_3092222, model_logits_biasadd_readvariableop_resource in the SavedModel.\n",
      "INFO:absl:Function `serve_tf_examples_fn` contains input name(s) 3092338, 3092348, 3092358, 3092368, 3092386, 3092396, 3092406, 3092420, 3092438, 3092442, 3092476, 3092514, 3092518, 3092524, resource with unsupported characters which will be renamed to transform_features_layer_3092338, transform_features_layer_3092348, transform_features_layer_3092358, transform_features_layer_3092368, transform_features_layer_3092386, transform_features_layer_3092396, transform_features_layer_3092406, transform_features_layer_3092420, model_trip_month_xf_embedding_embedding_lookup_3092438, model_trip_day_xf_embedding_embedding_lookup_3092442, model_trip_hour_xf_embedding_embedding_lookup_3092476, model_pickup_grid_xf_embedding_embedding_lookup_3092514, model_dropoff_grid_xf_embedding_embedding_lookup_3092518, model_loc_cross_xf_embedding_embedding_lookup_3092524, model_logits_biasadd_readvariableop_resource in the SavedModel.\n",
      "INFO:tensorflow:Assets written to: gs://stellar-orb-408015/chicago-taxi-tips/experiments/chicago-taxi-tips-classifier--v01/run-gcp-20240121205758/model/assets\n",
      "INFO:tensorflow:Assets written to: gs://stellar-orb-408015/chicago-taxi-tips/experiments/chicago-taxi-tips-classifier--v01/run-gcp-20240121205758/model/assets\n",
      "INFO:root:Model export completed.\n",
      "INFO:root:Task completed.\n"
     ]
    }
   ],
   "source": [
>>>>>>> 811e3c7 (update code to work with tfx 1.14)
    "!python -m src.model_training.task \\\n",
    "    --model-dir={EXPORT_DIR} \\\n",
    "    --log-dir={LOG_DIR} \\\n",
    "    --train-data-dir={TRANSFORMED_DATA_PREFIX}/train/* \\\n",
    "    --eval-data-dir={TRANSFORMED_DATA_PREFIX}/eval/*  \\\n",
    "    --tft-output-dir={TRANSFORM_ARTIFACTS_DIR} \\\n",
    "    --num-epochs=3 \\\n",
    "    --hidden-units=32,32 \\\n",
    "    --experiment-name={EXPERIMENT_NAME} \\\n",
    "    --run-name={run_id} \\\n",
    "    --project={PROJECT} \\\n",
    "    --region={REGION} \\\n",
    "    --staging-bucket={BUCKET}"
   ]
  },
  {
   "cell_type": "markdown",
   "id": "5077e9d4",
   "metadata": {},
   "source": [
    "### Prepare training package"
   ]
  },
  {
   "cell_type": "code",
<<<<<<< HEAD
   "execution_count": null,
   "id": "d526a189",
   "metadata": {},
   "outputs": [],
=======
   "execution_count": 17,
   "id": "d526a189",
   "metadata": {},
   "outputs": [
    {
     "name": "stdout",
     "output_type": "stream",
     "text": [
      "Trainer package upload location: gs://stellar-orb-408015/chicago-taxi-tips/trainer_packages\n"
     ]
    }
   ],
>>>>>>> 811e3c7 (update code to work with tfx 1.14)
   "source": [
    "TRAINER_PACKAGE_DIR = os.path.join(WORKSPACE, 'trainer_packages')\n",
    "TRAINER_PACKAGE_NAME = f'{MODEL_DISPLAY_NAME}_trainer'\n",
    "print(\"Trainer package upload location:\", TRAINER_PACKAGE_DIR)"
   ]
  },
  {
   "cell_type": "code",
<<<<<<< HEAD
   "execution_count": null,
   "id": "550cc9eb",
   "metadata": {},
   "outputs": [],
=======
   "execution_count": 18,
   "id": "550cc9eb",
   "metadata": {},
   "outputs": [
    {
     "name": "stdout",
     "output_type": "stream",
     "text": [
      "rm: cannot remove 'src/.ipynb_checkpoints/': No such file or directory\n",
      "rm: cannot remove 'src/raw_schema/.ipynb_checkpoints/': No such file or directory\n",
      "chicago-taxi-tips-classifier--v01_trainer/\n",
      "chicago-taxi-tips-classifier--v01_trainer/setup.py\n",
      "chicago-taxi-tips-classifier--v01_trainer/src/\n",
      "chicago-taxi-tips-classifier--v01_trainer/src/common/\n",
      "chicago-taxi-tips-classifier--v01_trainer/src/common/features.py\n",
      "chicago-taxi-tips-classifier--v01_trainer/src/common/__init__.py\n",
      "chicago-taxi-tips-classifier--v01_trainer/src/common/datasource_utils.py\n",
      "chicago-taxi-tips-classifier--v01_trainer/src/common/.ipynb_checkpoints/\n",
      "chicago-taxi-tips-classifier--v01_trainer/src/common/.ipynb_checkpoints/features-checkpoint.py\n",
      "chicago-taxi-tips-classifier--v01_trainer/src/common/.ipynb_checkpoints/datasource_utils-checkpoint.py\n",
      "chicago-taxi-tips-classifier--v01_trainer/src/common/__pycache__/\n",
      "chicago-taxi-tips-classifier--v01_trainer/src/common/__pycache__/__init__.cpython-310.pyc\n",
      "chicago-taxi-tips-classifier--v01_trainer/src/common/__pycache__/datasource_utils.cpython-310.pyc\n",
      "chicago-taxi-tips-classifier--v01_trainer/src/common/__pycache__/features.cpython-310.pyc\n",
      "chicago-taxi-tips-classifier--v01_trainer/src/pipeline_triggering/\n",
      "chicago-taxi-tips-classifier--v01_trainer/src/pipeline_triggering/requirements.txt\n",
      "chicago-taxi-tips-classifier--v01_trainer/src/pipeline_triggering/main.py\n",
      "chicago-taxi-tips-classifier--v01_trainer/src/pipeline_triggering/__init__.py\n",
      "chicago-taxi-tips-classifier--v01_trainer/src/tfx_pipelines/\n",
      "chicago-taxi-tips-classifier--v01_trainer/src/tfx_pipelines/training_pipeline.py\n",
      "chicago-taxi-tips-classifier--v01_trainer/src/tfx_pipelines/config.py\n",
      "chicago-taxi-tips-classifier--v01_trainer/src/tfx_pipelines/components.py\n",
      "chicago-taxi-tips-classifier--v01_trainer/src/tfx_pipelines/runner.py\n",
      "chicago-taxi-tips-classifier--v01_trainer/src/tfx_pipelines/prediction_pipeline.py\n",
      "chicago-taxi-tips-classifier--v01_trainer/src/tfx_pipelines/__init__.py\n",
      "chicago-taxi-tips-classifier--v01_trainer/src/tests/\n",
      "chicago-taxi-tips-classifier--v01_trainer/src/tests/datasource_utils_tests.py\n",
      "chicago-taxi-tips-classifier--v01_trainer/src/tests/pipeline_deployment_tests.py\n",
      "chicago-taxi-tips-classifier--v01_trainer/src/tests/__init__.py\n",
      "chicago-taxi-tips-classifier--v01_trainer/src/tests/.ipynb_checkpoints/\n",
      "chicago-taxi-tips-classifier--v01_trainer/src/tests/.ipynb_checkpoints/model_deployment_tests-checkpoint.py\n",
      "chicago-taxi-tips-classifier--v01_trainer/src/tests/.ipynb_checkpoints/model_tests-checkpoint.py\n",
      "chicago-taxi-tips-classifier--v01_trainer/src/tests/.ipynb_checkpoints/datasource_utils_tests-checkpoint.py\n",
      "chicago-taxi-tips-classifier--v01_trainer/src/tests/.ipynb_checkpoints/etl_tests-checkpoint.py\n",
      "chicago-taxi-tips-classifier--v01_trainer/src/tests/.ipynb_checkpoints/pipeline_deployment_tests-checkpoint.py\n",
      "chicago-taxi-tips-classifier--v01_trainer/src/tests/model_tests.py\n",
      "chicago-taxi-tips-classifier--v01_trainer/src/tests/model_deployment_tests.py\n",
      "chicago-taxi-tips-classifier--v01_trainer/src/tests/etl_tests.py\n",
      "chicago-taxi-tips-classifier--v01_trainer/src/preprocessing/\n",
      "chicago-taxi-tips-classifier--v01_trainer/src/preprocessing/etl.py\n",
      "chicago-taxi-tips-classifier--v01_trainer/src/preprocessing/__init__.py\n",
      "chicago-taxi-tips-classifier--v01_trainer/src/preprocessing/transformations.py\n",
      "chicago-taxi-tips-classifier--v01_trainer/src/preprocessing/.ipynb_checkpoints/\n",
      "chicago-taxi-tips-classifier--v01_trainer/src/preprocessing/.ipynb_checkpoints/transformations-checkpoint.py\n",
      "chicago-taxi-tips-classifier--v01_trainer/src/preprocessing/.ipynb_checkpoints/etl-checkpoint.py\n",
      "chicago-taxi-tips-classifier--v01_trainer/src/preprocessing/__pycache__/\n",
      "chicago-taxi-tips-classifier--v01_trainer/src/preprocessing/__pycache__/__init__.cpython-310.pyc\n",
      "chicago-taxi-tips-classifier--v01_trainer/src/preprocessing/__pycache__/etl.cpython-310.pyc\n",
      "chicago-taxi-tips-classifier--v01_trainer/src/preprocessing/__pycache__/transformations.cpython-310.pyc\n",
      "chicago-taxi-tips-classifier--v01_trainer/src/raw_schema/\n",
      "chicago-taxi-tips-classifier--v01_trainer/src/raw_schema/schema.pbtxt\n",
      "chicago-taxi-tips-classifier--v01_trainer/src/__init__.py\n",
      "chicago-taxi-tips-classifier--v01_trainer/src/model_training/\n",
      "chicago-taxi-tips-classifier--v01_trainer/src/model_training/defaults.py\n",
      "chicago-taxi-tips-classifier--v01_trainer/src/model_training/data_.py\n",
      "chicago-taxi-tips-classifier--v01_trainer/src/model_training/runner.py\n",
      "chicago-taxi-tips-classifier--v01_trainer/src/model_training/model.py\n",
      "chicago-taxi-tips-classifier--v01_trainer/src/model_training/trainer.py\n",
      "chicago-taxi-tips-classifier--v01_trainer/src/model_training/task.py\n",
      "chicago-taxi-tips-classifier--v01_trainer/src/model_training/exporter.py\n",
      "chicago-taxi-tips-classifier--v01_trainer/src/model_training/__init__.py\n",
      "chicago-taxi-tips-classifier--v01_trainer/src/model_training/model_.py\n",
      "chicago-taxi-tips-classifier--v01_trainer/src/model_training/.ipynb_checkpoints/\n",
      "chicago-taxi-tips-classifier--v01_trainer/src/model_training/.ipynb_checkpoints/model_-checkpoint.py\n",
      "chicago-taxi-tips-classifier--v01_trainer/src/model_training/.ipynb_checkpoints/model-checkpoint.py\n",
      "chicago-taxi-tips-classifier--v01_trainer/src/model_training/.ipynb_checkpoints/exporter-checkpoint.py\n",
      "chicago-taxi-tips-classifier--v01_trainer/src/model_training/.ipynb_checkpoints/trainer-checkpoint.py\n",
      "chicago-taxi-tips-classifier--v01_trainer/src/model_training/.ipynb_checkpoints/task-checkpoint.py\n",
      "chicago-taxi-tips-classifier--v01_trainer/src/model_training/.ipynb_checkpoints/data-checkpoint.py\n",
      "chicago-taxi-tips-classifier--v01_trainer/src/model_training/.ipynb_checkpoints/runner-checkpoint.py\n",
      "chicago-taxi-tips-classifier--v01_trainer/src/model_training/.ipynb_checkpoints/defaults-checkpoint.py\n",
      "chicago-taxi-tips-classifier--v01_trainer/src/model_training/.ipynb_checkpoints/data_-checkpoint.py\n",
      "chicago-taxi-tips-classifier--v01_trainer/src/model_training/__pycache__/\n",
      "chicago-taxi-tips-classifier--v01_trainer/src/model_training/__pycache__/__init__.cpython-310.pyc\n",
      "chicago-taxi-tips-classifier--v01_trainer/src/model_training/__pycache__/defaults.cpython-310.pyc\n",
      "chicago-taxi-tips-classifier--v01_trainer/src/model_training/__pycache__/exporter.cpython-310.pyc\n",
      "chicago-taxi-tips-classifier--v01_trainer/src/model_training/__pycache__/trainer.cpython-310.pyc\n",
      "chicago-taxi-tips-classifier--v01_trainer/src/model_training/__pycache__/data.cpython-310.pyc\n",
      "chicago-taxi-tips-classifier--v01_trainer/src/model_training/__pycache__/model.cpython-310.pyc\n",
      "chicago-taxi-tips-classifier--v01_trainer/src/model_training/__pycache__/model_.cpython-310.pyc\n",
      "chicago-taxi-tips-classifier--v01_trainer/src/model_training/__pycache__/hyperparams.cpython-310.pyc\n",
      "chicago-taxi-tips-classifier--v01_trainer/src/model_training/__pycache__/task.cpython-310.pyc\n",
      "chicago-taxi-tips-classifier--v01_trainer/src/model_training/__pycache__/data_.cpython-310.pyc\n",
      "chicago-taxi-tips-classifier--v01_trainer/src/model_training/data.py\n",
      "Copying file://chicago-taxi-tips-classifier--v01_trainer.tar.gz [Content-Type=application/x-tar]...\n",
      "/ [1 files][ 32.7 KiB/ 32.7 KiB]                                                \n",
      "Operation completed over 1 objects/32.7 KiB.                                     \n"
     ]
    }
   ],
>>>>>>> 811e3c7 (update code to work with tfx 1.14)
   "source": [
    "!rm -r src/__pycache__/\n",
    "!rm -r src/.ipynb_checkpoints/\n",
    "!rm -r src/raw_schema/.ipynb_checkpoints/\n",
    "!rm -f {TRAINER_PACKAGE_NAME}.tar {TRAINER_PACKAGE_NAME}.tar.gz\n",
    "\n",
    "!mkdir {TRAINER_PACKAGE_NAME}\n",
    "\n",
    "!cp setup.py {TRAINER_PACKAGE_NAME}/\n",
    "!cp -r src {TRAINER_PACKAGE_NAME}/\n",
    "!tar cvf {TRAINER_PACKAGE_NAME}.tar {TRAINER_PACKAGE_NAME}\n",
    "!gzip {TRAINER_PACKAGE_NAME}.tar\n",
    "!gsutil cp {TRAINER_PACKAGE_NAME}.tar.gz {TRAINER_PACKAGE_DIR}/\n",
    "!rm -r {TRAINER_PACKAGE_NAME}\n",
    "!rm -r {TRAINER_PACKAGE_NAME}.tar.gz"
   ]
  },
  {
   "cell_type": "markdown",
   "id": "7c3af757",
   "metadata": {},
   "source": [
    "### Prepare the training job"
   ]
  },
  {
   "cell_type": "code",
<<<<<<< HEAD
   "execution_count": null,
   "id": "e01bf43e",
   "metadata": {},
   "outputs": [],
   "source": [
    "TRAIN_RUNTIME = 'tf-cpu.2-5'\n",
=======
   "execution_count": 19,
   "id": "e01bf43e",
   "metadata": {},
   "outputs": [
    {
     "name": "stdout",
     "output_type": "stream",
     "text": [
      "Training image: us-docker.pkg.dev/vertex-ai/training/tf-cpu.2-12.py310:latest\n"
     ]
    }
   ],
   "source": [
    "TRAIN_RUNTIME = 'tf-cpu.2-12.py310'\n",
>>>>>>> 811e3c7 (update code to work with tfx 1.14)
    "TRAIN_IMAGE = f\"us-docker.pkg.dev/vertex-ai/training/{TRAIN_RUNTIME}:latest\"\n",
    "print(\"Training image:\", TRAIN_IMAGE)"
   ]
  },
  {
   "cell_type": "code",
<<<<<<< HEAD
   "execution_count": null,
=======
   "execution_count": 20,
>>>>>>> 811e3c7 (update code to work with tfx 1.14)
   "id": "6d18dba5",
   "metadata": {},
   "outputs": [],
   "source": [
    "num_epochs = 10\n",
    "learning_rate = 0.001\n",
    "hidden_units = \"64,64\"\n",
    "\n",
    "trainer_args = [\n",
    "    f'--train-data-dir={TRANSFORMED_DATA_PREFIX + \"/train/*\"}',\n",
    "    f'--eval-data-dir={TRANSFORMED_DATA_PREFIX + \"/eval/*\"}',\n",
    "    f'--tft-output-dir={TRANSFORM_ARTIFACTS_DIR}',\n",
    "    f'--num-epochs={num_epochs}',\n",
    "    f'--learning-rate={learning_rate}',\n",
    "    f'--project={PROJECT}',\n",
    "    f'--region={REGION}',\n",
    "    f'--staging-bucket={BUCKET}',\n",
<<<<<<< HEAD
    "    f'--experiment-name={EXPERIMENT_NAME}'\n",
=======
    "    f'--experiment-name={EXPERIMENT_NAME}',\n",
    "    f'--run-name={run_id}'\n",
>>>>>>> 811e3c7 (update code to work with tfx 1.14)
    "]"
   ]
  },
  {
   "cell_type": "code",
<<<<<<< HEAD
   "execution_count": null,
=======
   "execution_count": 21,
>>>>>>> 811e3c7 (update code to work with tfx 1.14)
   "id": "0a30d0d3",
   "metadata": {},
   "outputs": [],
   "source": [
    "package_uri = os.path.join(TRAINER_PACKAGE_DIR, f'{TRAINER_PACKAGE_NAME}.tar.gz')\n",
    "\n",
    "worker_pool_specs = [\n",
    "    {\n",
    "        \"replica_count\": 1,\n",
    "        \"machine_spec\": {\n",
    "            \"machine_type\": 'n1-standard-4',\n",
    "            \"accelerator_count\": 0\n",
    "    },\n",
    "        \"python_package_spec\": {\n",
    "            \"executor_image_uri\": TRAIN_IMAGE,\n",
    "            \"package_uris\": [package_uri],\n",
    "            \"python_module\": \"src.model_training.task\",\n",
    "            \"args\": trainer_args,\n",
    "        }\n",
    "    }\n",
    "]"
   ]
  },
  {
<<<<<<< HEAD
=======
   "cell_type": "code",
   "execution_count": null,
   "id": "f56cf041-3162-4d50-a5e4-5ab552a098bf",
   "metadata": {},
   "outputs": [],
   "source": []
  },
  {
>>>>>>> 811e3c7 (update code to work with tfx 1.14)
   "cell_type": "markdown",
   "id": "788d6e99",
   "metadata": {},
   "source": [
    "### Submit the training job"
   ]
  },
  {
   "cell_type": "code",
<<<<<<< HEAD
   "execution_count": null,
   "id": "4544105b",
   "metadata": {},
   "outputs": [],
=======
   "execution_count": 22,
   "id": "4544105b",
   "metadata": {},
   "outputs": [
    {
     "name": "stdout",
     "output_type": "stream",
     "text": [
      "Submitting a custom training job...\n",
      "Creating CustomJob\n",
      "CustomJob created. Resource name: projects/13110252891/locations/us-central1/customJobs/5305459919770615808\n",
      "To use this CustomJob in another session:\n",
      "custom_job = aiplatform.CustomJob.get('projects/13110252891/locations/us-central1/customJobs/5305459919770615808')\n",
      "View Custom Job:\n",
      "https://console.cloud.google.com/ai/platform/locations/us-central1/training/5305459919770615808?project=13110252891\n",
      "View Tensorboard:\n",
      "https://us-central1.tensorboard.googleusercontent.com/experiment/projects+13110252891+locations+us-central1+tensorboards+8177908002653732864+experiments+5305459919770615808\n",
      "CustomJob projects/13110252891/locations/us-central1/customJobs/5305459919770615808 current state:\n",
      "JobState.JOB_STATE_PENDING\n",
      "CustomJob projects/13110252891/locations/us-central1/customJobs/5305459919770615808 current state:\n",
      "JobState.JOB_STATE_PENDING\n",
      "CustomJob projects/13110252891/locations/us-central1/customJobs/5305459919770615808 current state:\n",
      "JobState.JOB_STATE_PENDING\n",
      "CustomJob projects/13110252891/locations/us-central1/customJobs/5305459919770615808 current state:\n",
      "JobState.JOB_STATE_PENDING\n",
      "CustomJob projects/13110252891/locations/us-central1/customJobs/5305459919770615808 current state:\n",
      "JobState.JOB_STATE_PENDING\n",
      "CustomJob projects/13110252891/locations/us-central1/customJobs/5305459919770615808 current state:\n",
      "JobState.JOB_STATE_PENDING\n",
      "CustomJob projects/13110252891/locations/us-central1/customJobs/5305459919770615808 current state:\n",
      "JobState.JOB_STATE_PENDING\n",
      "CustomJob projects/13110252891/locations/us-central1/customJobs/5305459919770615808 current state:\n",
      "JobState.JOB_STATE_PENDING\n",
      "CustomJob projects/13110252891/locations/us-central1/customJobs/5305459919770615808 current state:\n",
      "JobState.JOB_STATE_PENDING\n",
      "CustomJob projects/13110252891/locations/us-central1/customJobs/5305459919770615808 current state:\n",
      "JobState.JOB_STATE_PENDING\n",
      "CustomJob projects/13110252891/locations/us-central1/customJobs/5305459919770615808 current state:\n",
      "JobState.JOB_STATE_PENDING\n",
      "CustomJob projects/13110252891/locations/us-central1/customJobs/5305459919770615808 current state:\n",
      "JobState.JOB_STATE_PENDING\n",
      "CustomJob projects/13110252891/locations/us-central1/customJobs/5305459919770615808 current state:\n",
      "JobState.JOB_STATE_PENDING\n",
      "CustomJob projects/13110252891/locations/us-central1/customJobs/5305459919770615808 current state:\n",
      "JobState.JOB_STATE_PENDING\n",
      "CustomJob projects/13110252891/locations/us-central1/customJobs/5305459919770615808 current state:\n",
      "JobState.JOB_STATE_PENDING\n",
      "CustomJob projects/13110252891/locations/us-central1/customJobs/5305459919770615808 current state:\n",
      "JobState.JOB_STATE_PENDING\n",
      "CustomJob projects/13110252891/locations/us-central1/customJobs/5305459919770615808 current state:\n",
      "JobState.JOB_STATE_PENDING\n",
      "CustomJob projects/13110252891/locations/us-central1/customJobs/5305459919770615808 current state:\n",
      "JobState.JOB_STATE_PENDING\n",
      "CustomJob projects/13110252891/locations/us-central1/customJobs/5305459919770615808 current state:\n",
      "JobState.JOB_STATE_PENDING\n",
      "CustomJob projects/13110252891/locations/us-central1/customJobs/5305459919770615808 current state:\n",
      "JobState.JOB_STATE_PENDING\n",
      "CustomJob projects/13110252891/locations/us-central1/customJobs/5305459919770615808 current state:\n",
      "JobState.JOB_STATE_PENDING\n",
      "CustomJob projects/13110252891/locations/us-central1/customJobs/5305459919770615808 current state:\n",
      "JobState.JOB_STATE_PENDING\n",
      "CustomJob projects/13110252891/locations/us-central1/customJobs/5305459919770615808 current state:\n",
      "JobState.JOB_STATE_PENDING\n",
      "CustomJob projects/13110252891/locations/us-central1/customJobs/5305459919770615808 current state:\n",
      "JobState.JOB_STATE_PENDING\n",
      "CustomJob projects/13110252891/locations/us-central1/customJobs/5305459919770615808 current state:\n",
      "JobState.JOB_STATE_PENDING\n",
      "CustomJob projects/13110252891/locations/us-central1/customJobs/5305459919770615808 current state:\n",
      "JobState.JOB_STATE_PENDING\n",
      "CustomJob projects/13110252891/locations/us-central1/customJobs/5305459919770615808 current state:\n",
      "JobState.JOB_STATE_PENDING\n",
      "CustomJob projects/13110252891/locations/us-central1/customJobs/5305459919770615808 current state:\n",
      "JobState.JOB_STATE_PENDING\n",
      "CustomJob projects/13110252891/locations/us-central1/customJobs/5305459919770615808 current state:\n",
      "JobState.JOB_STATE_PENDING\n",
      "CustomJob projects/13110252891/locations/us-central1/customJobs/5305459919770615808 current state:\n",
      "JobState.JOB_STATE_PENDING\n",
      "CustomJob projects/13110252891/locations/us-central1/customJobs/5305459919770615808 current state:\n",
      "JobState.JOB_STATE_PENDING\n",
      "CustomJob projects/13110252891/locations/us-central1/customJobs/5305459919770615808 current state:\n",
      "JobState.JOB_STATE_PENDING\n",
      "CustomJob projects/13110252891/locations/us-central1/customJobs/5305459919770615808 current state:\n",
      "JobState.JOB_STATE_PENDING\n",
      "CustomJob projects/13110252891/locations/us-central1/customJobs/5305459919770615808 current state:\n",
      "JobState.JOB_STATE_PENDING\n",
      "CustomJob projects/13110252891/locations/us-central1/customJobs/5305459919770615808 current state:\n",
      "JobState.JOB_STATE_PENDING\n",
      "CustomJob projects/13110252891/locations/us-central1/customJobs/5305459919770615808 current state:\n",
      "JobState.JOB_STATE_PENDING\n",
      "CustomJob projects/13110252891/locations/us-central1/customJobs/5305459919770615808 current state:\n",
      "JobState.JOB_STATE_PENDING\n",
      "CustomJob projects/13110252891/locations/us-central1/customJobs/5305459919770615808 current state:\n",
      "JobState.JOB_STATE_RUNNING\n",
      "CustomJob projects/13110252891/locations/us-central1/customJobs/5305459919770615808 current state:\n",
      "JobState.JOB_STATE_RUNNING\n",
      "CustomJob projects/13110252891/locations/us-central1/customJobs/5305459919770615808 current state:\n",
      "JobState.JOB_STATE_RUNNING\n",
      "CustomJob projects/13110252891/locations/us-central1/customJobs/5305459919770615808 current state:\n",
      "JobState.JOB_STATE_RUNNING\n",
      "CustomJob projects/13110252891/locations/us-central1/customJobs/5305459919770615808 current state:\n",
      "JobState.JOB_STATE_RUNNING\n",
      "CustomJob projects/13110252891/locations/us-central1/customJobs/5305459919770615808 current state:\n",
      "JobState.JOB_STATE_RUNNING\n",
      "CustomJob projects/13110252891/locations/us-central1/customJobs/5305459919770615808 current state:\n",
      "JobState.JOB_STATE_RUNNING\n",
      "CustomJob projects/13110252891/locations/us-central1/customJobs/5305459919770615808 current state:\n",
      "JobState.JOB_STATE_RUNNING\n",
      "CustomJob projects/13110252891/locations/us-central1/customJobs/5305459919770615808 current state:\n",
      "JobState.JOB_STATE_RUNNING\n",
      "CustomJob projects/13110252891/locations/us-central1/customJobs/5305459919770615808 current state:\n",
      "JobState.JOB_STATE_RUNNING\n",
      "CustomJob projects/13110252891/locations/us-central1/customJobs/5305459919770615808 current state:\n",
      "JobState.JOB_STATE_RUNNING\n",
      "CustomJob projects/13110252891/locations/us-central1/customJobs/5305459919770615808 current state:\n",
      "JobState.JOB_STATE_RUNNING\n",
      "CustomJob projects/13110252891/locations/us-central1/customJobs/5305459919770615808 current state:\n",
      "JobState.JOB_STATE_RUNNING\n",
      "CustomJob projects/13110252891/locations/us-central1/customJobs/5305459919770615808 current state:\n",
      "JobState.JOB_STATE_RUNNING\n",
      "CustomJob projects/13110252891/locations/us-central1/customJobs/5305459919770615808 current state:\n",
      "JobState.JOB_STATE_RUNNING\n",
      "CustomJob projects/13110252891/locations/us-central1/customJobs/5305459919770615808 current state:\n",
      "JobState.JOB_STATE_RUNNING\n",
      "CustomJob projects/13110252891/locations/us-central1/customJobs/5305459919770615808 current state:\n",
      "JobState.JOB_STATE_RUNNING\n",
      "CustomJob projects/13110252891/locations/us-central1/customJobs/5305459919770615808 current state:\n",
      "JobState.JOB_STATE_RUNNING\n",
      "CustomJob projects/13110252891/locations/us-central1/customJobs/5305459919770615808 current state:\n",
      "JobState.JOB_STATE_RUNNING\n",
      "CustomJob projects/13110252891/locations/us-central1/customJobs/5305459919770615808 current state:\n",
      "JobState.JOB_STATE_RUNNING\n",
      "CustomJob projects/13110252891/locations/us-central1/customJobs/5305459919770615808 current state:\n",
      "JobState.JOB_STATE_RUNNING\n",
      "CustomJob projects/13110252891/locations/us-central1/customJobs/5305459919770615808 current state:\n",
      "JobState.JOB_STATE_RUNNING\n",
      "CustomJob projects/13110252891/locations/us-central1/customJobs/5305459919770615808 current state:\n",
      "JobState.JOB_STATE_RUNNING\n",
      "CustomJob projects/13110252891/locations/us-central1/customJobs/5305459919770615808 current state:\n",
      "JobState.JOB_STATE_RUNNING\n",
      "CustomJob projects/13110252891/locations/us-central1/customJobs/5305459919770615808 current state:\n",
      "JobState.JOB_STATE_RUNNING\n",
      "CustomJob projects/13110252891/locations/us-central1/customJobs/5305459919770615808 current state:\n",
      "JobState.JOB_STATE_RUNNING\n",
      "CustomJob projects/13110252891/locations/us-central1/customJobs/5305459919770615808 current state:\n",
      "JobState.JOB_STATE_RUNNING\n",
      "CustomJob projects/13110252891/locations/us-central1/customJobs/5305459919770615808 current state:\n",
      "JobState.JOB_STATE_RUNNING\n",
      "CustomJob projects/13110252891/locations/us-central1/customJobs/5305459919770615808 current state:\n",
      "JobState.JOB_STATE_RUNNING\n",
      "CustomJob projects/13110252891/locations/us-central1/customJobs/5305459919770615808 current state:\n",
      "JobState.JOB_STATE_RUNNING\n",
      "CustomJob projects/13110252891/locations/us-central1/customJobs/5305459919770615808 current state:\n",
      "JobState.JOB_STATE_RUNNING\n",
      "CustomJob projects/13110252891/locations/us-central1/customJobs/5305459919770615808 current state:\n",
      "JobState.JOB_STATE_RUNNING\n",
      "CustomJob projects/13110252891/locations/us-central1/customJobs/5305459919770615808 current state:\n",
      "JobState.JOB_STATE_RUNNING\n",
      "CustomJob projects/13110252891/locations/us-central1/customJobs/5305459919770615808 current state:\n",
      "JobState.JOB_STATE_RUNNING\n",
      "CustomJob projects/13110252891/locations/us-central1/customJobs/5305459919770615808 current state:\n",
      "JobState.JOB_STATE_RUNNING\n",
      "CustomJob projects/13110252891/locations/us-central1/customJobs/5305459919770615808 current state:\n",
      "JobState.JOB_STATE_RUNNING\n",
      "CustomJob projects/13110252891/locations/us-central1/customJobs/5305459919770615808 current state:\n",
      "JobState.JOB_STATE_RUNNING\n",
      "CustomJob projects/13110252891/locations/us-central1/customJobs/5305459919770615808 current state:\n",
      "JobState.JOB_STATE_RUNNING\n",
      "CustomJob projects/13110252891/locations/us-central1/customJobs/5305459919770615808 current state:\n",
      "JobState.JOB_STATE_RUNNING\n",
      "CustomJob projects/13110252891/locations/us-central1/customJobs/5305459919770615808 current state:\n",
      "JobState.JOB_STATE_RUNNING\n",
      "CustomJob projects/13110252891/locations/us-central1/customJobs/5305459919770615808 current state:\n",
      "JobState.JOB_STATE_RUNNING\n",
      "CustomJob projects/13110252891/locations/us-central1/customJobs/5305459919770615808 current state:\n",
      "JobState.JOB_STATE_RUNNING\n",
      "CustomJob projects/13110252891/locations/us-central1/customJobs/5305459919770615808 current state:\n",
      "JobState.JOB_STATE_RUNNING\n",
      "CustomJob projects/13110252891/locations/us-central1/customJobs/5305459919770615808 current state:\n",
      "JobState.JOB_STATE_RUNNING\n",
      "CustomJob projects/13110252891/locations/us-central1/customJobs/5305459919770615808 current state:\n",
      "JobState.JOB_STATE_RUNNING\n",
      "CustomJob projects/13110252891/locations/us-central1/customJobs/5305459919770615808 current state:\n",
      "JobState.JOB_STATE_RUNNING\n",
      "CustomJob projects/13110252891/locations/us-central1/customJobs/5305459919770615808 current state:\n",
      "JobState.JOB_STATE_RUNNING\n",
      "CustomJob projects/13110252891/locations/us-central1/customJobs/5305459919770615808 current state:\n",
      "JobState.JOB_STATE_RUNNING\n",
      "CustomJob projects/13110252891/locations/us-central1/customJobs/5305459919770615808 current state:\n",
      "JobState.JOB_STATE_RUNNING\n",
      "CustomJob projects/13110252891/locations/us-central1/customJobs/5305459919770615808 current state:\n",
      "JobState.JOB_STATE_RUNNING\n",
      "CustomJob projects/13110252891/locations/us-central1/customJobs/5305459919770615808 current state:\n",
      "JobState.JOB_STATE_RUNNING\n",
      "CustomJob projects/13110252891/locations/us-central1/customJobs/5305459919770615808 current state:\n",
      "JobState.JOB_STATE_RUNNING\n",
      "CustomJob projects/13110252891/locations/us-central1/customJobs/5305459919770615808 current state:\n",
      "JobState.JOB_STATE_RUNNING\n",
      "CustomJob projects/13110252891/locations/us-central1/customJobs/5305459919770615808 current state:\n",
      "JobState.JOB_STATE_RUNNING\n",
      "CustomJob projects/13110252891/locations/us-central1/customJobs/5305459919770615808 current state:\n",
      "JobState.JOB_STATE_RUNNING\n",
      "CustomJob projects/13110252891/locations/us-central1/customJobs/5305459919770615808 current state:\n",
      "JobState.JOB_STATE_RUNNING\n",
      "CustomJob projects/13110252891/locations/us-central1/customJobs/5305459919770615808 current state:\n",
      "JobState.JOB_STATE_RUNNING\n",
      "CustomJob projects/13110252891/locations/us-central1/customJobs/5305459919770615808 current state:\n",
      "JobState.JOB_STATE_RUNNING\n",
      "CustomJob projects/13110252891/locations/us-central1/customJobs/5305459919770615808 current state:\n",
      "JobState.JOB_STATE_RUNNING\n",
      "CustomJob projects/13110252891/locations/us-central1/customJobs/5305459919770615808 current state:\n",
      "JobState.JOB_STATE_RUNNING\n",
      "CustomJob projects/13110252891/locations/us-central1/customJobs/5305459919770615808 current state:\n",
      "JobState.JOB_STATE_RUNNING\n",
      "CustomJob projects/13110252891/locations/us-central1/customJobs/5305459919770615808 current state:\n",
      "JobState.JOB_STATE_RUNNING\n",
      "CustomJob projects/13110252891/locations/us-central1/customJobs/5305459919770615808 current state:\n",
      "JobState.JOB_STATE_RUNNING\n",
      "CustomJob projects/13110252891/locations/us-central1/customJobs/5305459919770615808 current state:\n",
      "JobState.JOB_STATE_RUNNING\n",
      "CustomJob projects/13110252891/locations/us-central1/customJobs/5305459919770615808 current state:\n",
      "JobState.JOB_STATE_RUNNING\n",
      "CustomJob projects/13110252891/locations/us-central1/customJobs/5305459919770615808 current state:\n",
      "JobState.JOB_STATE_RUNNING\n",
      "CustomJob projects/13110252891/locations/us-central1/customJobs/5305459919770615808 current state:\n",
      "JobState.JOB_STATE_RUNNING\n",
      "CustomJob projects/13110252891/locations/us-central1/customJobs/5305459919770615808 current state:\n",
      "JobState.JOB_STATE_RUNNING\n",
      "CustomJob projects/13110252891/locations/us-central1/customJobs/5305459919770615808 current state:\n",
      "JobState.JOB_STATE_RUNNING\n",
      "CustomJob projects/13110252891/locations/us-central1/customJobs/5305459919770615808 current state:\n",
      "JobState.JOB_STATE_RUNNING\n",
      "CustomJob projects/13110252891/locations/us-central1/customJobs/5305459919770615808 current state:\n",
      "JobState.JOB_STATE_RUNNING\n",
      "CustomJob projects/13110252891/locations/us-central1/customJobs/5305459919770615808 current state:\n",
      "JobState.JOB_STATE_RUNNING\n",
      "CustomJob projects/13110252891/locations/us-central1/customJobs/5305459919770615808 current state:\n",
      "JobState.JOB_STATE_RUNNING\n",
      "CustomJob projects/13110252891/locations/us-central1/customJobs/5305459919770615808 current state:\n",
      "JobState.JOB_STATE_RUNNING\n",
      "CustomJob projects/13110252891/locations/us-central1/customJobs/5305459919770615808 current state:\n",
      "JobState.JOB_STATE_RUNNING\n",
      "CustomJob projects/13110252891/locations/us-central1/customJobs/5305459919770615808 current state:\n",
      "JobState.JOB_STATE_RUNNING\n",
      "CustomJob projects/13110252891/locations/us-central1/customJobs/5305459919770615808 current state:\n",
      "JobState.JOB_STATE_RUNNING\n",
      "CustomJob projects/13110252891/locations/us-central1/customJobs/5305459919770615808 current state:\n",
      "JobState.JOB_STATE_RUNNING\n",
      "CustomJob projects/13110252891/locations/us-central1/customJobs/5305459919770615808 current state:\n",
      "JobState.JOB_STATE_RUNNING\n",
      "CustomJob projects/13110252891/locations/us-central1/customJobs/5305459919770615808 current state:\n",
      "JobState.JOB_STATE_RUNNING\n",
      "CustomJob projects/13110252891/locations/us-central1/customJobs/5305459919770615808 current state:\n",
      "JobState.JOB_STATE_RUNNING\n",
      "CustomJob projects/13110252891/locations/us-central1/customJobs/5305459919770615808 current state:\n",
      "JobState.JOB_STATE_RUNNING\n",
      "CustomJob projects/13110252891/locations/us-central1/customJobs/5305459919770615808 current state:\n",
      "JobState.JOB_STATE_RUNNING\n",
      "CustomJob projects/13110252891/locations/us-central1/customJobs/5305459919770615808 current state:\n",
      "JobState.JOB_STATE_RUNNING\n",
      "CustomJob projects/13110252891/locations/us-central1/customJobs/5305459919770615808 current state:\n",
      "JobState.JOB_STATE_RUNNING\n",
      "CustomJob projects/13110252891/locations/us-central1/customJobs/5305459919770615808 current state:\n",
      "JobState.JOB_STATE_RUNNING\n",
      "CustomJob projects/13110252891/locations/us-central1/customJobs/5305459919770615808 current state:\n",
      "JobState.JOB_STATE_RUNNING\n",
      "CustomJob projects/13110252891/locations/us-central1/customJobs/5305459919770615808 current state:\n",
      "JobState.JOB_STATE_RUNNING\n",
      "CustomJob projects/13110252891/locations/us-central1/customJobs/5305459919770615808 current state:\n",
      "JobState.JOB_STATE_RUNNING\n",
      "CustomJob projects/13110252891/locations/us-central1/customJobs/5305459919770615808 current state:\n",
      "JobState.JOB_STATE_RUNNING\n",
      "CustomJob projects/13110252891/locations/us-central1/customJobs/5305459919770615808 current state:\n",
      "JobState.JOB_STATE_RUNNING\n",
      "CustomJob projects/13110252891/locations/us-central1/customJobs/5305459919770615808 current state:\n",
      "JobState.JOB_STATE_RUNNING\n",
      "CustomJob projects/13110252891/locations/us-central1/customJobs/5305459919770615808 current state:\n",
      "JobState.JOB_STATE_RUNNING\n",
      "CustomJob projects/13110252891/locations/us-central1/customJobs/5305459919770615808 current state:\n",
      "JobState.JOB_STATE_RUNNING\n",
      "CustomJob projects/13110252891/locations/us-central1/customJobs/5305459919770615808 current state:\n",
      "JobState.JOB_STATE_RUNNING\n",
      "CustomJob projects/13110252891/locations/us-central1/customJobs/5305459919770615808 current state:\n",
      "JobState.JOB_STATE_RUNNING\n",
      "CustomJob projects/13110252891/locations/us-central1/customJobs/5305459919770615808 current state:\n",
      "JobState.JOB_STATE_RUNNING\n",
      "CustomJob projects/13110252891/locations/us-central1/customJobs/5305459919770615808 current state:\n",
      "JobState.JOB_STATE_RUNNING\n",
      "CustomJob projects/13110252891/locations/us-central1/customJobs/5305459919770615808 current state:\n",
      "JobState.JOB_STATE_RUNNING\n",
      "CustomJob projects/13110252891/locations/us-central1/customJobs/5305459919770615808 current state:\n",
      "JobState.JOB_STATE_RUNNING\n",
      "CustomJob projects/13110252891/locations/us-central1/customJobs/5305459919770615808 current state:\n",
      "JobState.JOB_STATE_RUNNING\n",
      "CustomJob projects/13110252891/locations/us-central1/customJobs/5305459919770615808 current state:\n",
      "JobState.JOB_STATE_RUNNING\n",
      "CustomJob projects/13110252891/locations/us-central1/customJobs/5305459919770615808 current state:\n",
      "JobState.JOB_STATE_RUNNING\n",
      "CustomJob projects/13110252891/locations/us-central1/customJobs/5305459919770615808 current state:\n",
      "JobState.JOB_STATE_RUNNING\n",
      "CustomJob projects/13110252891/locations/us-central1/customJobs/5305459919770615808 current state:\n",
      "JobState.JOB_STATE_RUNNING\n",
      "CustomJob projects/13110252891/locations/us-central1/customJobs/5305459919770615808 current state:\n",
      "JobState.JOB_STATE_RUNNING\n",
      "CustomJob projects/13110252891/locations/us-central1/customJobs/5305459919770615808 current state:\n",
      "JobState.JOB_STATE_RUNNING\n",
      "CustomJob projects/13110252891/locations/us-central1/customJobs/5305459919770615808 current state:\n",
      "JobState.JOB_STATE_RUNNING\n",
      "CustomJob projects/13110252891/locations/us-central1/customJobs/5305459919770615808 current state:\n",
      "JobState.JOB_STATE_RUNNING\n",
      "CustomJob projects/13110252891/locations/us-central1/customJobs/5305459919770615808 current state:\n",
      "JobState.JOB_STATE_RUNNING\n",
      "CustomJob projects/13110252891/locations/us-central1/customJobs/5305459919770615808 current state:\n",
      "JobState.JOB_STATE_RUNNING\n",
      "CustomJob projects/13110252891/locations/us-central1/customJobs/5305459919770615808 current state:\n",
      "JobState.JOB_STATE_RUNNING\n",
      "CustomJob projects/13110252891/locations/us-central1/customJobs/5305459919770615808 current state:\n",
      "JobState.JOB_STATE_RUNNING\n",
      "CustomJob projects/13110252891/locations/us-central1/customJobs/5305459919770615808 current state:\n",
      "JobState.JOB_STATE_RUNNING\n",
      "CustomJob projects/13110252891/locations/us-central1/customJobs/5305459919770615808 current state:\n",
      "JobState.JOB_STATE_RUNNING\n",
      "CustomJob projects/13110252891/locations/us-central1/customJobs/5305459919770615808 current state:\n",
      "JobState.JOB_STATE_RUNNING\n",
      "CustomJob projects/13110252891/locations/us-central1/customJobs/5305459919770615808 current state:\n",
      "JobState.JOB_STATE_RUNNING\n",
      "CustomJob projects/13110252891/locations/us-central1/customJobs/5305459919770615808 current state:\n",
      "JobState.JOB_STATE_RUNNING\n",
      "CustomJob projects/13110252891/locations/us-central1/customJobs/5305459919770615808 current state:\n",
      "JobState.JOB_STATE_RUNNING\n",
      "CustomJob projects/13110252891/locations/us-central1/customJobs/5305459919770615808 current state:\n",
      "JobState.JOB_STATE_RUNNING\n",
      "CustomJob projects/13110252891/locations/us-central1/customJobs/5305459919770615808 current state:\n",
      "JobState.JOB_STATE_RUNNING\n",
      "CustomJob projects/13110252891/locations/us-central1/customJobs/5305459919770615808 current state:\n",
      "JobState.JOB_STATE_RUNNING\n",
      "CustomJob projects/13110252891/locations/us-central1/customJobs/5305459919770615808 current state:\n",
      "JobState.JOB_STATE_RUNNING\n",
      "CustomJob projects/13110252891/locations/us-central1/customJobs/5305459919770615808 current state:\n",
      "JobState.JOB_STATE_RUNNING\n",
      "CustomJob projects/13110252891/locations/us-central1/customJobs/5305459919770615808 current state:\n",
      "JobState.JOB_STATE_RUNNING\n",
      "CustomJob projects/13110252891/locations/us-central1/customJobs/5305459919770615808 current state:\n",
      "JobState.JOB_STATE_RUNNING\n",
      "CustomJob projects/13110252891/locations/us-central1/customJobs/5305459919770615808 current state:\n",
      "JobState.JOB_STATE_RUNNING\n",
      "CustomJob projects/13110252891/locations/us-central1/customJobs/5305459919770615808 current state:\n",
      "JobState.JOB_STATE_RUNNING\n",
      "CustomJob projects/13110252891/locations/us-central1/customJobs/5305459919770615808 current state:\n",
      "JobState.JOB_STATE_RUNNING\n",
      "CustomJob projects/13110252891/locations/us-central1/customJobs/5305459919770615808 current state:\n",
      "JobState.JOB_STATE_RUNNING\n",
      "CustomJob projects/13110252891/locations/us-central1/customJobs/5305459919770615808 current state:\n",
      "JobState.JOB_STATE_RUNNING\n",
      "CustomJob projects/13110252891/locations/us-central1/customJobs/5305459919770615808 current state:\n",
      "JobState.JOB_STATE_RUNNING\n",
      "CustomJob projects/13110252891/locations/us-central1/customJobs/5305459919770615808 current state:\n",
      "JobState.JOB_STATE_RUNNING\n",
      "CustomJob projects/13110252891/locations/us-central1/customJobs/5305459919770615808 current state:\n",
      "JobState.JOB_STATE_RUNNING\n",
      "CustomJob projects/13110252891/locations/us-central1/customJobs/5305459919770615808 current state:\n",
      "JobState.JOB_STATE_RUNNING\n",
      "CustomJob projects/13110252891/locations/us-central1/customJobs/5305459919770615808 current state:\n",
      "JobState.JOB_STATE_RUNNING\n",
      "CustomJob projects/13110252891/locations/us-central1/customJobs/5305459919770615808 current state:\n",
      "JobState.JOB_STATE_RUNNING\n",
      "CustomJob projects/13110252891/locations/us-central1/customJobs/5305459919770615808 current state:\n",
      "JobState.JOB_STATE_RUNNING\n",
      "CustomJob projects/13110252891/locations/us-central1/customJobs/5305459919770615808 current state:\n",
      "JobState.JOB_STATE_RUNNING\n",
      "CustomJob projects/13110252891/locations/us-central1/customJobs/5305459919770615808 current state:\n",
      "JobState.JOB_STATE_RUNNING\n",
      "CustomJob projects/13110252891/locations/us-central1/customJobs/5305459919770615808 current state:\n",
      "JobState.JOB_STATE_RUNNING\n",
      "CustomJob projects/13110252891/locations/us-central1/customJobs/5305459919770615808 current state:\n",
      "JobState.JOB_STATE_RUNNING\n",
      "CustomJob projects/13110252891/locations/us-central1/customJobs/5305459919770615808 current state:\n",
      "JobState.JOB_STATE_RUNNING\n",
      "CustomJob projects/13110252891/locations/us-central1/customJobs/5305459919770615808 current state:\n",
      "JobState.JOB_STATE_RUNNING\n",
      "CustomJob projects/13110252891/locations/us-central1/customJobs/5305459919770615808 current state:\n",
      "JobState.JOB_STATE_RUNNING\n",
      "CustomJob projects/13110252891/locations/us-central1/customJobs/5305459919770615808 current state:\n",
      "JobState.JOB_STATE_RUNNING\n",
      "CustomJob projects/13110252891/locations/us-central1/customJobs/5305459919770615808 current state:\n",
      "JobState.JOB_STATE_RUNNING\n",
      "CustomJob projects/13110252891/locations/us-central1/customJobs/5305459919770615808 current state:\n",
      "JobState.JOB_STATE_RUNNING\n",
      "CustomJob projects/13110252891/locations/us-central1/customJobs/5305459919770615808 current state:\n",
      "JobState.JOB_STATE_RUNNING\n",
      "CustomJob projects/13110252891/locations/us-central1/customJobs/5305459919770615808 current state:\n",
      "JobState.JOB_STATE_RUNNING\n",
      "CustomJob projects/13110252891/locations/us-central1/customJobs/5305459919770615808 current state:\n",
      "JobState.JOB_STATE_RUNNING\n",
      "CustomJob projects/13110252891/locations/us-central1/customJobs/5305459919770615808 current state:\n",
      "JobState.JOB_STATE_RUNNING\n",
      "CustomJob projects/13110252891/locations/us-central1/customJobs/5305459919770615808 current state:\n",
      "JobState.JOB_STATE_RUNNING\n",
      "CustomJob projects/13110252891/locations/us-central1/customJobs/5305459919770615808 current state:\n",
      "JobState.JOB_STATE_RUNNING\n",
      "CustomJob projects/13110252891/locations/us-central1/customJobs/5305459919770615808 current state:\n",
      "JobState.JOB_STATE_RUNNING\n",
      "CustomJob projects/13110252891/locations/us-central1/customJobs/5305459919770615808 current state:\n",
      "JobState.JOB_STATE_RUNNING\n",
      "CustomJob projects/13110252891/locations/us-central1/customJobs/5305459919770615808 current state:\n",
      "JobState.JOB_STATE_RUNNING\n",
      "CustomJob projects/13110252891/locations/us-central1/customJobs/5305459919770615808 current state:\n",
      "JobState.JOB_STATE_RUNNING\n",
      "CustomJob projects/13110252891/locations/us-central1/customJobs/5305459919770615808 current state:\n",
      "JobState.JOB_STATE_RUNNING\n",
      "CustomJob projects/13110252891/locations/us-central1/customJobs/5305459919770615808 current state:\n",
      "JobState.JOB_STATE_RUNNING\n",
      "CustomJob projects/13110252891/locations/us-central1/customJobs/5305459919770615808 current state:\n",
      "JobState.JOB_STATE_RUNNING\n",
      "CustomJob projects/13110252891/locations/us-central1/customJobs/5305459919770615808 current state:\n",
      "JobState.JOB_STATE_RUNNING\n",
      "CustomJob projects/13110252891/locations/us-central1/customJobs/5305459919770615808 current state:\n",
      "JobState.JOB_STATE_RUNNING\n",
      "CustomJob projects/13110252891/locations/us-central1/customJobs/5305459919770615808 current state:\n",
      "JobState.JOB_STATE_RUNNING\n",
      "CustomJob projects/13110252891/locations/us-central1/customJobs/5305459919770615808 current state:\n",
      "JobState.JOB_STATE_RUNNING\n",
      "CustomJob projects/13110252891/locations/us-central1/customJobs/5305459919770615808 current state:\n",
      "JobState.JOB_STATE_RUNNING\n",
      "CustomJob projects/13110252891/locations/us-central1/customJobs/5305459919770615808 current state:\n",
      "JobState.JOB_STATE_RUNNING\n",
      "CustomJob projects/13110252891/locations/us-central1/customJobs/5305459919770615808 current state:\n",
      "JobState.JOB_STATE_RUNNING\n",
      "CustomJob projects/13110252891/locations/us-central1/customJobs/5305459919770615808 current state:\n",
      "JobState.JOB_STATE_RUNNING\n",
      "CustomJob projects/13110252891/locations/us-central1/customJobs/5305459919770615808 current state:\n",
      "JobState.JOB_STATE_RUNNING\n",
      "CustomJob projects/13110252891/locations/us-central1/customJobs/5305459919770615808 current state:\n",
      "JobState.JOB_STATE_RUNNING\n",
      "CustomJob projects/13110252891/locations/us-central1/customJobs/5305459919770615808 current state:\n",
      "JobState.JOB_STATE_RUNNING\n",
      "CustomJob projects/13110252891/locations/us-central1/customJobs/5305459919770615808 current state:\n",
      "JobState.JOB_STATE_RUNNING\n",
      "CustomJob projects/13110252891/locations/us-central1/customJobs/5305459919770615808 current state:\n",
      "JobState.JOB_STATE_RUNNING\n",
      "CustomJob projects/13110252891/locations/us-central1/customJobs/5305459919770615808 current state:\n",
      "JobState.JOB_STATE_RUNNING\n",
      "CustomJob projects/13110252891/locations/us-central1/customJobs/5305459919770615808 current state:\n",
      "JobState.JOB_STATE_RUNNING\n",
      "CustomJob projects/13110252891/locations/us-central1/customJobs/5305459919770615808 current state:\n",
      "JobState.JOB_STATE_RUNNING\n",
      "CustomJob projects/13110252891/locations/us-central1/customJobs/5305459919770615808 current state:\n",
      "JobState.JOB_STATE_RUNNING\n",
      "CustomJob projects/13110252891/locations/us-central1/customJobs/5305459919770615808 current state:\n",
      "JobState.JOB_STATE_RUNNING\n",
      "CustomJob projects/13110252891/locations/us-central1/customJobs/5305459919770615808 current state:\n",
      "JobState.JOB_STATE_RUNNING\n",
      "CustomJob projects/13110252891/locations/us-central1/customJobs/5305459919770615808 current state:\n",
      "JobState.JOB_STATE_RUNNING\n",
      "CustomJob projects/13110252891/locations/us-central1/customJobs/5305459919770615808 current state:\n",
      "JobState.JOB_STATE_RUNNING\n",
      "CustomJob projects/13110252891/locations/us-central1/customJobs/5305459919770615808 current state:\n",
      "JobState.JOB_STATE_RUNNING\n",
      "CustomJob projects/13110252891/locations/us-central1/customJobs/5305459919770615808 current state:\n",
      "JobState.JOB_STATE_RUNNING\n",
      "CustomJob projects/13110252891/locations/us-central1/customJobs/5305459919770615808 current state:\n",
      "JobState.JOB_STATE_RUNNING\n",
      "CustomJob projects/13110252891/locations/us-central1/customJobs/5305459919770615808 current state:\n",
      "JobState.JOB_STATE_RUNNING\n",
      "CustomJob projects/13110252891/locations/us-central1/customJobs/5305459919770615808 current state:\n",
      "JobState.JOB_STATE_RUNNING\n",
      "CustomJob projects/13110252891/locations/us-central1/customJobs/5305459919770615808 current state:\n",
      "JobState.JOB_STATE_RUNNING\n",
      "CustomJob projects/13110252891/locations/us-central1/customJobs/5305459919770615808 current state:\n",
      "JobState.JOB_STATE_RUNNING\n",
      "CustomJob projects/13110252891/locations/us-central1/customJobs/5305459919770615808 current state:\n",
      "JobState.JOB_STATE_RUNNING\n",
      "CustomJob projects/13110252891/locations/us-central1/customJobs/5305459919770615808 current state:\n",
      "JobState.JOB_STATE_RUNNING\n",
      "CustomJob projects/13110252891/locations/us-central1/customJobs/5305459919770615808 current state:\n",
      "JobState.JOB_STATE_RUNNING\n",
      "CustomJob projects/13110252891/locations/us-central1/customJobs/5305459919770615808 current state:\n",
      "JobState.JOB_STATE_RUNNING\n",
      "CustomJob projects/13110252891/locations/us-central1/customJobs/5305459919770615808 current state:\n",
      "JobState.JOB_STATE_RUNNING\n",
      "CustomJob projects/13110252891/locations/us-central1/customJobs/5305459919770615808 current state:\n",
      "JobState.JOB_STATE_RUNNING\n",
      "CustomJob projects/13110252891/locations/us-central1/customJobs/5305459919770615808 current state:\n",
      "JobState.JOB_STATE_RUNNING\n",
      "CustomJob projects/13110252891/locations/us-central1/customJobs/5305459919770615808 current state:\n",
      "JobState.JOB_STATE_RUNNING\n",
      "CustomJob projects/13110252891/locations/us-central1/customJobs/5305459919770615808 current state:\n",
      "JobState.JOB_STATE_RUNNING\n",
      "CustomJob projects/13110252891/locations/us-central1/customJobs/5305459919770615808 current state:\n",
      "JobState.JOB_STATE_RUNNING\n",
      "CustomJob projects/13110252891/locations/us-central1/customJobs/5305459919770615808 current state:\n",
      "JobState.JOB_STATE_RUNNING\n",
      "CustomJob projects/13110252891/locations/us-central1/customJobs/5305459919770615808 current state:\n",
      "JobState.JOB_STATE_RUNNING\n",
      "CustomJob projects/13110252891/locations/us-central1/customJobs/5305459919770615808 current state:\n",
      "JobState.JOB_STATE_RUNNING\n",
      "CustomJob projects/13110252891/locations/us-central1/customJobs/5305459919770615808 current state:\n",
      "JobState.JOB_STATE_RUNNING\n",
      "CustomJob projects/13110252891/locations/us-central1/customJobs/5305459919770615808 current state:\n",
      "JobState.JOB_STATE_RUNNING\n",
      "CustomJob projects/13110252891/locations/us-central1/customJobs/5305459919770615808 current state:\n",
      "JobState.JOB_STATE_RUNNING\n",
      "CustomJob projects/13110252891/locations/us-central1/customJobs/5305459919770615808 current state:\n",
      "JobState.JOB_STATE_RUNNING\n",
      "CustomJob projects/13110252891/locations/us-central1/customJobs/5305459919770615808 current state:\n",
      "JobState.JOB_STATE_RUNNING\n",
      "CustomJob projects/13110252891/locations/us-central1/customJobs/5305459919770615808 current state:\n",
      "JobState.JOB_STATE_RUNNING\n",
      "CustomJob projects/13110252891/locations/us-central1/customJobs/5305459919770615808 current state:\n",
      "JobState.JOB_STATE_RUNNING\n",
      "CustomJob projects/13110252891/locations/us-central1/customJobs/5305459919770615808 current state:\n",
      "JobState.JOB_STATE_RUNNING\n",
      "CustomJob projects/13110252891/locations/us-central1/customJobs/5305459919770615808 current state:\n",
      "JobState.JOB_STATE_RUNNING\n",
      "CustomJob projects/13110252891/locations/us-central1/customJobs/5305459919770615808 current state:\n",
      "JobState.JOB_STATE_RUNNING\n",
      "CustomJob projects/13110252891/locations/us-central1/customJobs/5305459919770615808 current state:\n",
      "JobState.JOB_STATE_RUNNING\n",
      "CustomJob projects/13110252891/locations/us-central1/customJobs/5305459919770615808 current state:\n",
      "JobState.JOB_STATE_RUNNING\n",
      "CustomJob projects/13110252891/locations/us-central1/customJobs/5305459919770615808 current state:\n",
      "JobState.JOB_STATE_RUNNING\n",
      "CustomJob projects/13110252891/locations/us-central1/customJobs/5305459919770615808 current state:\n",
      "JobState.JOB_STATE_RUNNING\n",
      "CustomJob projects/13110252891/locations/us-central1/customJobs/5305459919770615808 current state:\n",
      "JobState.JOB_STATE_SUCCEEDED\n",
      "CustomJob run completed. Resource name: projects/13110252891/locations/us-central1/customJobs/5305459919770615808\n"
     ]
    }
   ],
>>>>>>> 811e3c7 (update code to work with tfx 1.14)
   "source": [
    "print(\"Submitting a custom training job...\")\n",
    "\n",
    "training_job_display_name = f\"{TRAINER_PACKAGE_NAME}_{run_id}\"\n",
    "\n",
    "training_job = vertex_ai.CustomJob(\n",
    "    display_name=training_job_display_name,\n",
    "    worker_pool_specs=worker_pool_specs,\n",
    "    base_output_dir=EXPERIMENT_RUN_DIR,\n",
    ")\n",
    "\n",
    "training_job.run(\n",
    "    service_account=SERVICE_ACCOUNT,\n",
    "    tensorboard=tensorboard_resource_name,\n",
    "    sync=True\n",
    ")"
   ]
  },
  {
   "cell_type": "markdown",
   "id": "c2896b59",
   "metadata": {},
   "source": [
    "## 5. Upload exported model to Vertex AI Models"
   ]
  },
  {
   "cell_type": "code",
   "execution_count": 23,
   "id": "e86b288b",
   "metadata": {},
   "outputs": [
    {
     "name": "stdout",
     "output_type": "stream",
     "text": [
      "gs://stellar-orb-408015/chicago-taxi-tips/experiments/chicago-taxi-tips-classifier--v01/run-gcp-20240121205758/model/\n",
      "gs://stellar-orb-408015/chicago-taxi-tips/experiments/chicago-taxi-tips-classifier--v01/run-gcp-20240121205758/model/fingerprint.pb\n",
      "gs://stellar-orb-408015/chicago-taxi-tips/experiments/chicago-taxi-tips-classifier--v01/run-gcp-20240121205758/model/keras_metadata.pb\n",
      "gs://stellar-orb-408015/chicago-taxi-tips/experiments/chicago-taxi-tips-classifier--v01/run-gcp-20240121205758/model/saved_model.pb\n",
      "gs://stellar-orb-408015/chicago-taxi-tips/experiments/chicago-taxi-tips-classifier--v01/run-gcp-20240121205758/model/assets/\n",
      "gs://stellar-orb-408015/chicago-taxi-tips/experiments/chicago-taxi-tips-classifier--v01/run-gcp-20240121205758/model/variables/\n"
     ]
    }
   ],
   "source": [
    "!gsutil ls {EXPORT_DIR}"
   ]
  },
  {
   "cell_type": "markdown",
   "id": "f40e0c39",
   "metadata": {},
   "source": [
    "### Generate the Explanation metadata"
   ]
  },
  {
   "cell_type": "code",
   "execution_count": 24,
   "id": "e3d5df4c",
   "metadata": {},
   "outputs": [
    {
     "data": {
      "text/plain": [
       "{'inputs': {'trip_month': {'input_tensor_name': 'trip_month',\n",
       "   'encoding': 'IDENTITY',\n",
       "   'modality': 'categorical'},\n",
       "  'trip_day': {'input_tensor_name': 'trip_day',\n",
       "   'encoding': 'IDENTITY',\n",
       "   'modality': 'categorical'},\n",
       "  'trip_day_of_week': {'input_tensor_name': 'trip_day_of_week',\n",
       "   'encoding': 'IDENTITY',\n",
       "   'modality': 'categorical'},\n",
       "  'trip_hour': {'input_tensor_name': 'trip_hour',\n",
       "   'encoding': 'IDENTITY',\n",
       "   'modality': 'categorical'},\n",
       "  'trip_seconds': {'input_tensor_name': 'trip_seconds', 'modality': 'numeric'},\n",
       "  'trip_miles': {'input_tensor_name': 'trip_miles', 'modality': 'numeric'},\n",
       "  'payment_type': {'input_tensor_name': 'payment_type',\n",
       "   'encoding': 'IDENTITY',\n",
       "   'modality': 'categorical'},\n",
       "  'pickup_grid': {'input_tensor_name': 'pickup_grid',\n",
       "   'encoding': 'IDENTITY',\n",
       "   'modality': 'categorical'},\n",
       "  'dropoff_grid': {'input_tensor_name': 'dropoff_grid',\n",
       "   'encoding': 'IDENTITY',\n",
       "   'modality': 'categorical'},\n",
       "  'euclidean': {'input_tensor_name': 'euclidean', 'modality': 'numeric'},\n",
       "  'loc_cross': {'input_tensor_name': 'loc_cross',\n",
       "   'encoding': 'IDENTITY',\n",
       "   'modality': 'categorical'}},\n",
       " 'outputs': {'scores': {'output_tensor_name': 'scores'}},\n",
       " 'params': {'sampled_shapley_attribution': {'path_count': 10}}}"
      ]
     },
     "execution_count": 24,
     "metadata": {},
     "output_type": "execute_result"
    }
   ],
   "source": [
    "explanation_config = features.generate_explanation_config()\n",
    "explanation_config"
   ]
  },
  {
   "cell_type": "markdown",
   "id": "85cd0587",
   "metadata": {},
   "source": [
    "### Upload model"
   ]
  },
  {
   "cell_type": "code",
   "execution_count": 25,
   "id": "a6d0dbb2",
   "metadata": {},
   "outputs": [
    {
     "name": "stdout",
     "output_type": "stream",
     "text": [
      "Serving image: us-docker.pkg.dev/vertex-ai/prediction/tf2-cpu.2-12:latest\n"
     ]
    }
   ],
   "source": [
    "SERVING_RUNTIME='tf2-cpu.2-5'\n",
    "SERVING_IMAGE = f\"us-docker.pkg.dev/vertex-ai/prediction/{SERVING_RUNTIME}:latest\"\n",
    "print(\"Serving image:\", SERVING_IMAGE)"
   ]
  },
  {
   "cell_type": "code",
   "execution_count": 26,
   "id": "1b24abd6",
   "metadata": {},
   "outputs": [
    {
     "name": "stdout",
     "output_type": "stream",
     "text": [
      "Creating Model\n",
      "Create Model backing LRO: projects/13110252891/locations/us-central1/models/7713151034662584320/operations/3782968642690351104\n",
      "Model created. Resource name: projects/13110252891/locations/us-central1/models/7713151034662584320@1\n",
      "To use this Model in another session:\n",
      "model = aiplatform.Model('projects/13110252891/locations/us-central1/models/7713151034662584320@1')\n"
     ]
    }
   ],
   "source": [
    "explanation_metadata = vertex_ai.explain.ExplanationMetadata(\n",
    "    inputs=explanation_config[\"inputs\"],\n",
    "    outputs=explanation_config[\"outputs\"],\n",
    ")\n",
    "explanation_parameters = vertex_ai.explain.ExplanationParameters(\n",
    "    explanation_config[\"params\"]\n",
    ")\n",
    "\n",
    "vertex_model = vertex_ai.Model.upload(\n",
    "    display_name=MODEL_DISPLAY_NAME,\n",
    "    artifact_uri=EXPORT_DIR,\n",
    "    serving_container_image_uri=SERVING_IMAGE,\n",
    "    parameters_schema_uri=None,\n",
    "    instance_schema_uri=None,\n",
    "    explanation_metadata=explanation_metadata,\n",
    "    explanation_parameters=explanation_parameters,\n",
    "    labels={\n",
    "        'dataset_name': DATASET_DISPLAY_NAME,\n",
    "        'experiment': run_id\n",
    "    }\n",
    ")"
   ]
  },
  {
   "cell_type": "code",
   "execution_count": 27,
   "id": "51756dbb",
   "metadata": {},
   "outputs": [
    {
     "data": {
      "text/plain": [
       "name: \"projects/13110252891/locations/us-central1/models/7713151034662584320@1\"\n",
       "display_name: \"chicago-taxi-tips-classifier--v01\"\n",
       "predict_schemata {\n",
       "}\n",
       "metadata {\n",
       "}\n",
       "container_spec {\n",
       "  image_uri: \"us-docker.pkg.dev/vertex-ai/prediction/tf2-cpu.2-12:latest\"\n",
       "}\n",
       "supported_deployment_resources_types: DEDICATED_RESOURCES\n",
       "supported_deployment_resources_types: SHARED_RESOURCES\n",
       "supported_input_storage_formats: \"jsonl\"\n",
       "supported_input_storage_formats: \"bigquery\"\n",
       "supported_input_storage_formats: \"csv\"\n",
       "supported_input_storage_formats: \"tf-record\"\n",
       "supported_input_storage_formats: \"tf-record-gzip\"\n",
       "supported_input_storage_formats: \"file-list\"\n",
       "supported_output_storage_formats: \"jsonl\"\n",
       "supported_output_storage_formats: \"bigquery\"\n",
       "create_time {\n",
       "  seconds: 1705872563\n",
       "  nanos: 925134000\n",
       "}\n",
       "update_time {\n",
       "  seconds: 1705872856\n",
       "  nanos: 467666000\n",
       "}\n",
       "etag: \"AMEw9yPCl9JxtF95H_cSjS9pfymlcSpgpIyVcB5G_VtdbqWu-SOeWxygUIZal0Vj6l2n\"\n",
       "labels {\n",
       "  key: \"dataset_name\"\n",
       "  value: \"chicago-taxi-tips\"\n",
       "}\n",
       "labels {\n",
       "  key: \"experiment\"\n",
       "  value: \"run-gcp-20240121205758\"\n",
       "}\n",
       "supported_export_formats {\n",
       "  id: \"custom-trained\"\n",
       "  exportable_contents: ARTIFACT\n",
       "}\n",
       "explanation_spec {\n",
       "  parameters {\n",
       "    sampled_shapley_attribution {\n",
       "      path_count: 10\n",
       "    }\n",
       "  }\n",
       "  metadata {\n",
       "    inputs {\n",
       "      key: \"dropoff_grid\"\n",
       "      value {\n",
       "        input_tensor_name: \"dropoff_grid\"\n",
       "        encoding: IDENTITY\n",
       "        modality: \"categorical\"\n",
       "      }\n",
       "    }\n",
       "    inputs {\n",
       "      key: \"euclidean\"\n",
       "      value {\n",
       "        input_tensor_name: \"euclidean\"\n",
       "        modality: \"numeric\"\n",
       "      }\n",
       "    }\n",
       "    inputs {\n",
       "      key: \"loc_cross\"\n",
       "      value {\n",
       "        input_tensor_name: \"loc_cross\"\n",
       "        encoding: IDENTITY\n",
       "        modality: \"categorical\"\n",
       "      }\n",
       "    }\n",
       "    inputs {\n",
       "      key: \"payment_type\"\n",
       "      value {\n",
       "        input_tensor_name: \"payment_type\"\n",
       "        encoding: IDENTITY\n",
       "        modality: \"categorical\"\n",
       "      }\n",
       "    }\n",
       "    inputs {\n",
       "      key: \"pickup_grid\"\n",
       "      value {\n",
       "        input_tensor_name: \"pickup_grid\"\n",
       "        encoding: IDENTITY\n",
       "        modality: \"categorical\"\n",
       "      }\n",
       "    }\n",
       "    inputs {\n",
       "      key: \"trip_day\"\n",
       "      value {\n",
       "        input_tensor_name: \"trip_day\"\n",
       "        encoding: IDENTITY\n",
       "        modality: \"categorical\"\n",
       "      }\n",
       "    }\n",
       "    inputs {\n",
       "      key: \"trip_day_of_week\"\n",
       "      value {\n",
       "        input_tensor_name: \"trip_day_of_week\"\n",
       "        encoding: IDENTITY\n",
       "        modality: \"categorical\"\n",
       "      }\n",
       "    }\n",
       "    inputs {\n",
       "      key: \"trip_hour\"\n",
       "      value {\n",
       "        input_tensor_name: \"trip_hour\"\n",
       "        encoding: IDENTITY\n",
       "        modality: \"categorical\"\n",
       "      }\n",
       "    }\n",
       "    inputs {\n",
       "      key: \"trip_miles\"\n",
       "      value {\n",
       "        input_tensor_name: \"trip_miles\"\n",
       "        modality: \"numeric\"\n",
       "      }\n",
       "    }\n",
       "    inputs {\n",
       "      key: \"trip_month\"\n",
       "      value {\n",
       "        input_tensor_name: \"trip_month\"\n",
       "        encoding: IDENTITY\n",
       "        modality: \"categorical\"\n",
       "      }\n",
       "    }\n",
       "    inputs {\n",
       "      key: \"trip_seconds\"\n",
       "      value {\n",
       "        input_tensor_name: \"trip_seconds\"\n",
       "        modality: \"numeric\"\n",
       "      }\n",
       "    }\n",
       "    outputs {\n",
       "      key: \"scores\"\n",
       "      value {\n",
       "        output_tensor_name: \"scores\"\n",
       "      }\n",
       "    }\n",
       "  }\n",
       "}\n",
       "artifact_uri: \"gs://stellar-orb-408015/chicago-taxi-tips/experiments/chicago-taxi-tips-classifier--v01/run-gcp-20240121205758/model\"\n",
       "version_id: \"1\"\n",
       "version_aliases: \"default\"\n",
       "version_create_time {\n",
       "  seconds: 1705872563\n",
       "  nanos: 925134000\n",
       "}\n",
       "version_update_time {\n",
       "  seconds: 1705872856\n",
       "  nanos: 467666000\n",
       "}\n",
       "model_source_info {\n",
       "  source_type: CUSTOM\n",
       "}"
      ]
     },
     "execution_count": 27,
     "metadata": {},
     "output_type": "execute_result"
    }
   ],
   "source": [
    "vertex_model.gca_resource"
   ]
  },
  {
   "cell_type": "markdown",
   "id": "4aa55220",
   "metadata": {},
   "source": [
    "## 6. Extract experiment run parameters"
   ]
  },
  {
   "cell_type": "code",
   "execution_count": 28,
   "id": "07808f8a",
   "metadata": {},
   "outputs": [
    {
     "data": {
      "text/html": [
       "<div>\n",
       "<style scoped>\n",
       "    .dataframe tbody tr th:only-of-type {\n",
       "        vertical-align: middle;\n",
       "    }\n",
       "\n",
       "    .dataframe tbody tr th {\n",
       "        vertical-align: top;\n",
       "    }\n",
       "\n",
       "    .dataframe thead th {\n",
       "        text-align: right;\n",
       "    }\n",
       "</style>\n",
       "<table border=\"1\" class=\"dataframe\">\n",
       "  <thead>\n",
       "    <tr style=\"text-align: right;\">\n",
       "      <th></th>\n",
       "      <th>0</th>\n",
       "      <th>1</th>\n",
       "      <th>2</th>\n",
       "      <th>3</th>\n",
       "      <th>4</th>\n",
       "      <th>5</th>\n",
       "    </tr>\n",
       "  </thead>\n",
       "  <tbody>\n",
       "    <tr>\n",
       "      <th>experiment_name</th>\n",
       "      <td>chicago-taxi-tips-classifier--v01</td>\n",
       "      <td>chicago-taxi-tips-classifier--v01</td>\n",
       "      <td>chicago-taxi-tips-classifier--v01</td>\n",
       "      <td>chicago-taxi-tips-classifier--v01</td>\n",
       "      <td>chicago-taxi-tips-classifier--v01</td>\n",
       "      <td>chicago-taxi-tips-classifier--v01</td>\n",
       "    </tr>\n",
       "    <tr>\n",
       "      <th>run_name</th>\n",
       "      <td>run-gcp-20240121205758</td>\n",
       "      <td>run-gcp-20240121205701</td>\n",
       "      <td>run-gcp-20240121205409</td>\n",
       "      <td>run-gcp-20240121204205</td>\n",
       "      <td>run-gcp-20240121200307</td>\n",
       "      <td>run-gcp-20240121200218</td>\n",
       "    </tr>\n",
       "    <tr>\n",
       "      <th>run_type</th>\n",
       "      <td>system.ExperimentRun</td>\n",
       "      <td>system.ExperimentRun</td>\n",
       "      <td>system.ExperimentRun</td>\n",
       "      <td>system.ExperimentRun</td>\n",
       "      <td>system.ExperimentRun</td>\n",
       "      <td>system.ExperimentRun</td>\n",
       "    </tr>\n",
       "    <tr>\n",
       "      <th>state</th>\n",
       "      <td>RUNNING</td>\n",
       "      <td>RUNNING</td>\n",
       "      <td>RUNNING</td>\n",
       "      <td>RUNNING</td>\n",
       "      <td>RUNNING</td>\n",
       "      <td>RUNNING</td>\n",
       "    </tr>\n",
       "    <tr>\n",
       "      <th>param.train_data_dir</th>\n",
       "      <td>gs://stellar-orb-408015/chicago-taxi-tips/expe...</td>\n",
       "      <td>NaN</td>\n",
       "      <td>NaN</td>\n",
       "      <td>NaN</td>\n",
       "      <td>NaN</td>\n",
       "      <td>NaN</td>\n",
       "    </tr>\n",
       "    <tr>\n",
       "      <th>param.staging_bucket</th>\n",
       "      <td>stellar-orb-408015</td>\n",
       "      <td>NaN</td>\n",
       "      <td>NaN</td>\n",
       "      <td>NaN</td>\n",
       "      <td>NaN</td>\n",
       "      <td>NaN</td>\n",
       "    </tr>\n",
       "    <tr>\n",
       "      <th>param.batch_size</th>\n",
       "      <td>512.0</td>\n",
       "      <td>NaN</td>\n",
       "      <td>NaN</td>\n",
       "      <td>NaN</td>\n",
       "      <td>NaN</td>\n",
       "      <td>NaN</td>\n",
       "    </tr>\n",
       "    <tr>\n",
       "      <th>param.project</th>\n",
       "      <td>stellar-orb-408015</td>\n",
       "      <td>NaN</td>\n",
       "      <td>NaN</td>\n",
       "      <td>NaN</td>\n",
       "      <td>stellar-orb-408015</td>\n",
       "      <td>NaN</td>\n",
       "    </tr>\n",
       "    <tr>\n",
       "      <th>param.num_epochs</th>\n",
       "      <td>10.0</td>\n",
       "      <td>NaN</td>\n",
       "      <td>NaN</td>\n",
       "      <td>NaN</td>\n",
       "      <td>NaN</td>\n",
       "      <td>NaN</td>\n",
       "    </tr>\n",
       "    <tr>\n",
       "      <th>param.learning_rate</th>\n",
       "      <td>0.001</td>\n",
       "      <td>NaN</td>\n",
       "      <td>NaN</td>\n",
       "      <td>NaN</td>\n",
       "      <td>NaN</td>\n",
       "      <td>NaN</td>\n",
       "    </tr>\n",
       "    <tr>\n",
       "      <th>param.region</th>\n",
       "      <td>us-central1</td>\n",
       "      <td>NaN</td>\n",
       "      <td>NaN</td>\n",
       "      <td>NaN</td>\n",
       "      <td>us-east1</td>\n",
       "      <td>NaN</td>\n",
       "    </tr>\n",
       "    <tr>\n",
       "      <th>param.tft_output_dir</th>\n",
       "      <td>gs://stellar-orb-408015/chicago-taxi-tips/expe...</td>\n",
       "      <td>NaN</td>\n",
       "      <td>NaN</td>\n",
       "      <td>NaN</td>\n",
       "      <td>NaN</td>\n",
       "      <td>NaN</td>\n",
       "    </tr>\n",
       "    <tr>\n",
       "      <th>param.eval_data_dir</th>\n",
       "      <td>gs://stellar-orb-408015/chicago-taxi-tips/expe...</td>\n",
       "      <td>NaN</td>\n",
       "      <td>NaN</td>\n",
       "      <td>NaN</td>\n",
       "      <td>NaN</td>\n",
       "      <td>NaN</td>\n",
       "    </tr>\n",
       "    <tr>\n",
       "      <th>param.experiment_name</th>\n",
       "      <td>chicago-taxi-tips-classifier--v01</td>\n",
       "      <td>NaN</td>\n",
       "      <td>NaN</td>\n",
       "      <td>NaN</td>\n",
       "      <td>NaN</td>\n",
       "      <td>NaN</td>\n",
       "    </tr>\n",
       "    <tr>\n",
       "      <th>param.log_dir</th>\n",
       "      <td>gs://stellar-orb-408015/chicago-taxi-tips/expe...</td>\n",
       "      <td>NaN</td>\n",
       "      <td>NaN</td>\n",
       "      <td>NaN</td>\n",
       "      <td>NaN</td>\n",
       "      <td>NaN</td>\n",
       "    </tr>\n",
       "    <tr>\n",
       "      <th>param.hidden_units</th>\n",
       "      <td>64,32</td>\n",
       "      <td>NaN</td>\n",
       "      <td>NaN</td>\n",
       "      <td>NaN</td>\n",
       "      <td>NaN</td>\n",
       "      <td>NaN</td>\n",
       "    </tr>\n",
       "    <tr>\n",
       "      <th>param.run_name</th>\n",
       "      <td>run-gcp-20240121205758</td>\n",
       "      <td>NaN</td>\n",
       "      <td>NaN</td>\n",
       "      <td>NaN</td>\n",
       "      <td>NaN</td>\n",
       "      <td>NaN</td>\n",
       "    </tr>\n",
       "    <tr>\n",
       "      <th>param.model_dir</th>\n",
       "      <td>gs://stellar-orb-408015/chicago-taxi-tips/expe...</td>\n",
       "      <td>NaN</td>\n",
       "      <td>NaN</td>\n",
       "      <td>NaN</td>\n",
       "      <td>NaN</td>\n",
       "      <td>NaN</td>\n",
       "    </tr>\n",
       "    <tr>\n",
       "      <th>param.write_raw_data</th>\n",
       "      <td>NaN</td>\n",
       "      <td>NaN</td>\n",
       "      <td>NaN</td>\n",
       "      <td>NaN</td>\n",
       "      <td>False</td>\n",
       "      <td>NaN</td>\n",
       "    </tr>\n",
       "    <tr>\n",
       "      <th>param.job_name</th>\n",
       "      <td>NaN</td>\n",
       "      <td>NaN</td>\n",
       "      <td>NaN</td>\n",
       "      <td>NaN</td>\n",
       "      <td>etl-chicago-taxi-tips-classifier--v01-run-gcp-...</td>\n",
       "      <td>NaN</td>\n",
       "    </tr>\n",
       "    <tr>\n",
       "      <th>param.runner</th>\n",
       "      <td>NaN</td>\n",
       "      <td>NaN</td>\n",
       "      <td>NaN</td>\n",
       "      <td>NaN</td>\n",
       "      <td>DataflowRunner</td>\n",
       "      <td>NaN</td>\n",
       "    </tr>\n",
       "    <tr>\n",
       "      <th>param.transformed_data_prefix</th>\n",
       "      <td>NaN</td>\n",
       "      <td>NaN</td>\n",
       "      <td>NaN</td>\n",
       "      <td>NaN</td>\n",
       "      <td>gs://stellar-orb-408015/chicago-taxi-tips/expe...</td>\n",
       "      <td>NaN</td>\n",
       "    </tr>\n",
       "    <tr>\n",
       "      <th>param.exported_data_prefix</th>\n",
       "      <td>NaN</td>\n",
       "      <td>NaN</td>\n",
       "      <td>NaN</td>\n",
       "      <td>NaN</td>\n",
       "      <td>gs://stellar-orb-408015/chicago-taxi-tips/expe...</td>\n",
       "      <td>NaN</td>\n",
       "    </tr>\n",
       "    <tr>\n",
       "      <th>param.setup_file</th>\n",
       "      <td>NaN</td>\n",
       "      <td>NaN</td>\n",
       "      <td>NaN</td>\n",
       "      <td>NaN</td>\n",
       "      <td>./setup.py</td>\n",
       "      <td>NaN</td>\n",
       "    </tr>\n",
       "    <tr>\n",
       "      <th>param.transform_artifact_dir</th>\n",
       "      <td>NaN</td>\n",
       "      <td>NaN</td>\n",
       "      <td>NaN</td>\n",
       "      <td>NaN</td>\n",
       "      <td>gs://stellar-orb-408015/chicago-taxi-tips/expe...</td>\n",
       "      <td>NaN</td>\n",
       "    </tr>\n",
       "    <tr>\n",
       "      <th>param.temporary_dir</th>\n",
       "      <td>NaN</td>\n",
       "      <td>NaN</td>\n",
       "      <td>NaN</td>\n",
       "      <td>NaN</td>\n",
       "      <td>gs://stellar-orb-408015/chicago-taxi-tips/tmp</td>\n",
       "      <td>NaN</td>\n",
       "    </tr>\n",
       "    <tr>\n",
       "      <th>param.raw_data_query</th>\n",
       "      <td>NaN</td>\n",
       "      <td>NaN</td>\n",
       "      <td>NaN</td>\n",
       "      <td>NaN</td>\n",
       "      <td>\\n    SELECT \\n        IF(trip_month IS NULL, ...</td>\n",
       "      <td>NaN</td>\n",
       "    </tr>\n",
       "    <tr>\n",
       "      <th>param.gcs_location</th>\n",
       "      <td>NaN</td>\n",
       "      <td>NaN</td>\n",
       "      <td>NaN</td>\n",
       "      <td>NaN</td>\n",
       "      <td>gs://stellar-orb-408015/chicago-taxi-tips/bq_tmp</td>\n",
       "      <td>NaN</td>\n",
       "    </tr>\n",
       "    <tr>\n",
       "      <th>metric.val_loss</th>\n",
       "      <td>0.238491</td>\n",
       "      <td>NaN</td>\n",
       "      <td>NaN</td>\n",
       "      <td>NaN</td>\n",
       "      <td>NaN</td>\n",
       "      <td>NaN</td>\n",
       "    </tr>\n",
       "    <tr>\n",
       "      <th>metric.val_accuracy</th>\n",
       "      <td>0.892591</td>\n",
       "      <td>NaN</td>\n",
       "      <td>NaN</td>\n",
       "      <td>NaN</td>\n",
       "      <td>NaN</td>\n",
       "      <td>NaN</td>\n",
       "    </tr>\n",
       "  </tbody>\n",
       "</table>\n",
       "</div>"
      ],
      "text/plain": [
       "                                                                               0  \\\n",
       "experiment_name                                chicago-taxi-tips-classifier--v01   \n",
       "run_name                                                  run-gcp-20240121205758   \n",
       "run_type                                                    system.ExperimentRun   \n",
       "state                                                                    RUNNING   \n",
       "param.train_data_dir           gs://stellar-orb-408015/chicago-taxi-tips/expe...   \n",
       "param.staging_bucket                                          stellar-orb-408015   \n",
       "param.batch_size                                                           512.0   \n",
       "param.project                                                 stellar-orb-408015   \n",
       "param.num_epochs                                                            10.0   \n",
       "param.learning_rate                                                        0.001   \n",
       "param.region                                                         us-central1   \n",
       "param.tft_output_dir           gs://stellar-orb-408015/chicago-taxi-tips/expe...   \n",
       "param.eval_data_dir            gs://stellar-orb-408015/chicago-taxi-tips/expe...   \n",
       "param.experiment_name                          chicago-taxi-tips-classifier--v01   \n",
       "param.log_dir                  gs://stellar-orb-408015/chicago-taxi-tips/expe...   \n",
       "param.hidden_units                                                         64,32   \n",
       "param.run_name                                            run-gcp-20240121205758   \n",
       "param.model_dir                gs://stellar-orb-408015/chicago-taxi-tips/expe...   \n",
       "param.write_raw_data                                                         NaN   \n",
       "param.job_name                                                               NaN   \n",
       "param.runner                                                                 NaN   \n",
       "param.transformed_data_prefix                                                NaN   \n",
       "param.exported_data_prefix                                                   NaN   \n",
       "param.setup_file                                                             NaN   \n",
       "param.transform_artifact_dir                                                 NaN   \n",
       "param.temporary_dir                                                          NaN   \n",
       "param.raw_data_query                                                         NaN   \n",
       "param.gcs_location                                                           NaN   \n",
       "metric.val_loss                                                         0.238491   \n",
       "metric.val_accuracy                                                     0.892591   \n",
       "\n",
       "                                                               1  \\\n",
       "experiment_name                chicago-taxi-tips-classifier--v01   \n",
       "run_name                                  run-gcp-20240121205701   \n",
       "run_type                                    system.ExperimentRun   \n",
       "state                                                    RUNNING   \n",
       "param.train_data_dir                                         NaN   \n",
       "param.staging_bucket                                         NaN   \n",
       "param.batch_size                                             NaN   \n",
       "param.project                                                NaN   \n",
       "param.num_epochs                                             NaN   \n",
       "param.learning_rate                                          NaN   \n",
       "param.region                                                 NaN   \n",
       "param.tft_output_dir                                         NaN   \n",
       "param.eval_data_dir                                          NaN   \n",
       "param.experiment_name                                        NaN   \n",
       "param.log_dir                                                NaN   \n",
       "param.hidden_units                                           NaN   \n",
       "param.run_name                                               NaN   \n",
       "param.model_dir                                              NaN   \n",
       "param.write_raw_data                                         NaN   \n",
       "param.job_name                                               NaN   \n",
       "param.runner                                                 NaN   \n",
       "param.transformed_data_prefix                                NaN   \n",
       "param.exported_data_prefix                                   NaN   \n",
       "param.setup_file                                             NaN   \n",
       "param.transform_artifact_dir                                 NaN   \n",
       "param.temporary_dir                                          NaN   \n",
       "param.raw_data_query                                         NaN   \n",
       "param.gcs_location                                           NaN   \n",
       "metric.val_loss                                              NaN   \n",
       "metric.val_accuracy                                          NaN   \n",
       "\n",
       "                                                               2  \\\n",
       "experiment_name                chicago-taxi-tips-classifier--v01   \n",
       "run_name                                  run-gcp-20240121205409   \n",
       "run_type                                    system.ExperimentRun   \n",
       "state                                                    RUNNING   \n",
       "param.train_data_dir                                         NaN   \n",
       "param.staging_bucket                                         NaN   \n",
       "param.batch_size                                             NaN   \n",
       "param.project                                                NaN   \n",
       "param.num_epochs                                             NaN   \n",
       "param.learning_rate                                          NaN   \n",
       "param.region                                                 NaN   \n",
       "param.tft_output_dir                                         NaN   \n",
       "param.eval_data_dir                                          NaN   \n",
       "param.experiment_name                                        NaN   \n",
       "param.log_dir                                                NaN   \n",
       "param.hidden_units                                           NaN   \n",
       "param.run_name                                               NaN   \n",
       "param.model_dir                                              NaN   \n",
       "param.write_raw_data                                         NaN   \n",
       "param.job_name                                               NaN   \n",
       "param.runner                                                 NaN   \n",
       "param.transformed_data_prefix                                NaN   \n",
       "param.exported_data_prefix                                   NaN   \n",
       "param.setup_file                                             NaN   \n",
       "param.transform_artifact_dir                                 NaN   \n",
       "param.temporary_dir                                          NaN   \n",
       "param.raw_data_query                                         NaN   \n",
       "param.gcs_location                                           NaN   \n",
       "metric.val_loss                                              NaN   \n",
       "metric.val_accuracy                                          NaN   \n",
       "\n",
       "                                                               3  \\\n",
       "experiment_name                chicago-taxi-tips-classifier--v01   \n",
       "run_name                                  run-gcp-20240121204205   \n",
       "run_type                                    system.ExperimentRun   \n",
       "state                                                    RUNNING   \n",
       "param.train_data_dir                                         NaN   \n",
       "param.staging_bucket                                         NaN   \n",
       "param.batch_size                                             NaN   \n",
       "param.project                                                NaN   \n",
       "param.num_epochs                                             NaN   \n",
       "param.learning_rate                                          NaN   \n",
       "param.region                                                 NaN   \n",
       "param.tft_output_dir                                         NaN   \n",
       "param.eval_data_dir                                          NaN   \n",
       "param.experiment_name                                        NaN   \n",
       "param.log_dir                                                NaN   \n",
       "param.hidden_units                                           NaN   \n",
       "param.run_name                                               NaN   \n",
       "param.model_dir                                              NaN   \n",
       "param.write_raw_data                                         NaN   \n",
       "param.job_name                                               NaN   \n",
       "param.runner                                                 NaN   \n",
       "param.transformed_data_prefix                                NaN   \n",
       "param.exported_data_prefix                                   NaN   \n",
       "param.setup_file                                             NaN   \n",
       "param.transform_artifact_dir                                 NaN   \n",
       "param.temporary_dir                                          NaN   \n",
       "param.raw_data_query                                         NaN   \n",
       "param.gcs_location                                           NaN   \n",
       "metric.val_loss                                              NaN   \n",
       "metric.val_accuracy                                          NaN   \n",
       "\n",
       "                                                                               4  \\\n",
       "experiment_name                                chicago-taxi-tips-classifier--v01   \n",
       "run_name                                                  run-gcp-20240121200307   \n",
       "run_type                                                    system.ExperimentRun   \n",
       "state                                                                    RUNNING   \n",
       "param.train_data_dir                                                         NaN   \n",
       "param.staging_bucket                                                         NaN   \n",
       "param.batch_size                                                             NaN   \n",
       "param.project                                                 stellar-orb-408015   \n",
       "param.num_epochs                                                             NaN   \n",
       "param.learning_rate                                                          NaN   \n",
       "param.region                                                            us-east1   \n",
       "param.tft_output_dir                                                         NaN   \n",
       "param.eval_data_dir                                                          NaN   \n",
       "param.experiment_name                                                        NaN   \n",
       "param.log_dir                                                                NaN   \n",
       "param.hidden_units                                                           NaN   \n",
       "param.run_name                                                               NaN   \n",
       "param.model_dir                                                              NaN   \n",
       "param.write_raw_data                                                       False   \n",
       "param.job_name                 etl-chicago-taxi-tips-classifier--v01-run-gcp-...   \n",
       "param.runner                                                      DataflowRunner   \n",
       "param.transformed_data_prefix  gs://stellar-orb-408015/chicago-taxi-tips/expe...   \n",
       "param.exported_data_prefix     gs://stellar-orb-408015/chicago-taxi-tips/expe...   \n",
       "param.setup_file                                                      ./setup.py   \n",
       "param.transform_artifact_dir   gs://stellar-orb-408015/chicago-taxi-tips/expe...   \n",
       "param.temporary_dir                gs://stellar-orb-408015/chicago-taxi-tips/tmp   \n",
       "param.raw_data_query           \\n    SELECT \\n        IF(trip_month IS NULL, ...   \n",
       "param.gcs_location              gs://stellar-orb-408015/chicago-taxi-tips/bq_tmp   \n",
       "metric.val_loss                                                              NaN   \n",
       "metric.val_accuracy                                                          NaN   \n",
       "\n",
       "                                                               5  \n",
       "experiment_name                chicago-taxi-tips-classifier--v01  \n",
       "run_name                                  run-gcp-20240121200218  \n",
       "run_type                                    system.ExperimentRun  \n",
       "state                                                    RUNNING  \n",
       "param.train_data_dir                                         NaN  \n",
       "param.staging_bucket                                         NaN  \n",
       "param.batch_size                                             NaN  \n",
       "param.project                                                NaN  \n",
       "param.num_epochs                                             NaN  \n",
       "param.learning_rate                                          NaN  \n",
       "param.region                                                 NaN  \n",
       "param.tft_output_dir                                         NaN  \n",
       "param.eval_data_dir                                          NaN  \n",
       "param.experiment_name                                        NaN  \n",
       "param.log_dir                                                NaN  \n",
       "param.hidden_units                                           NaN  \n",
       "param.run_name                                               NaN  \n",
       "param.model_dir                                              NaN  \n",
       "param.write_raw_data                                         NaN  \n",
       "param.job_name                                               NaN  \n",
       "param.runner                                                 NaN  \n",
       "param.transformed_data_prefix                                NaN  \n",
       "param.exported_data_prefix                                   NaN  \n",
       "param.setup_file                                             NaN  \n",
       "param.transform_artifact_dir                                 NaN  \n",
       "param.temporary_dir                                          NaN  \n",
       "param.raw_data_query                                         NaN  \n",
       "param.gcs_location                                           NaN  \n",
       "metric.val_loss                                              NaN  \n",
       "metric.val_accuracy                                          NaN  "
      ]
     },
     "execution_count": 28,
     "metadata": {},
     "output_type": "execute_result"
    }
   ],
   "source": [
    "experiment_df = vertex_ai.get_experiment_df()\n",
    "experiment_df = experiment_df[experiment_df.experiment_name == EXPERIMENT_NAME]\n",
    "experiment_df.T"
   ]
  },
  {
   "cell_type": "code",
   "execution_count": 29,
   "id": "367183aa",
   "metadata": {},
   "outputs": [
    {
     "name": "stdout",
     "output_type": "stream",
     "text": [
      "Vertex AI Experiments:\n",
      "https://console.cloud.google.com/vertex-ai/locationsus-central1/experiments/chicago-taxi-tips-classifier--v01/metrics?project=stellar-orb-408015\n"
     ]
    }
   ],
   "source": [
    "print(\"Vertex AI Experiments:\")\n",
    "print(\n",
    "    f\"https://console.cloud.google.com/vertex-ai/locations{REGION}/experiments/{EXPERIMENT_NAME}/metrics?project={PROJECT}\"\n",
    ")"
   ]
  },
  {
   "cell_type": "markdown",
   "id": "c96618f6",
   "metadata": {},
   "source": [
    "## 7. Submit a Hyperparameter Tuning Job to Vertex AI\n",
    "\n",
    "For more information about configuring a hyperparameter study, refer to [Vertex AI Hyperparameter job configuration](https://cloud.google.com/vertex-ai/docs/training/using-hyperparameter-tuning)."
   ]
  },
  {
   "cell_type": "markdown",
   "id": "bc1b87cd",
   "metadata": {},
   "source": [
    "### Configure a hyperparameter job"
   ]
  },
  {
   "cell_type": "code",
   "execution_count": null,
   "id": "66ffa249",
   "metadata": {},
   "outputs": [],
   "source": [
    "metric_spec = {\n",
    "    'ACCURACY': 'maximize'\n",
    "}\n",
    "\n",
    "parameter_spec = {\n",
    "    'learning-rate': hp_tuning.DoubleParameterSpec(min=0.0001, max=0.01, scale='log'),\n",
    "    'hidden-units': hp_tuning.CategoricalParameterSpec(values=[\"32,32\", \"64,64\", \"128,128\"])\n",
    "}"
   ]
  },
  {
   "cell_type": "code",
   "execution_count": null,
   "id": "d2454dc5",
   "metadata": {},
   "outputs": [],
   "source": [
    "tuning_job_display_name = f\"hpt_{TRAINER_PACKAGE_NAME}_{run_id}\"\n",
    "\n",
    "hp_tuning_job = vertex_ai.HyperparameterTuningJob(\n",
    "    display_name=tuning_job_display_name,\n",
    "    custom_job=training_job,\n",
    "    metric_spec=metric_spec,\n",
    "    parameter_spec=parameter_spec,\n",
    "    max_trial_count=4,\n",
    "    parallel_trial_count=2,\n",
    "    search_algorithm=None # Bayesian optimization.\n",
    ")"
   ]
  },
  {
   "cell_type": "markdown",
   "id": "b8e4ee22",
   "metadata": {},
   "source": [
    "### Submit the hyperparameter tuning job"
   ]
  },
  {
   "cell_type": "code",
   "execution_count": null,
   "id": "dc5b434d",
   "metadata": {},
   "outputs": [],
   "source": [
    "print(\"Submitting a hyperparameter tunning job...\")\n",
    "\n",
    "hp_tuning_job.run(\n",
    "    service_account=SERVICE_ACCOUNT,\n",
    "    tensorboard=tensorboard_resource_name,\n",
    "    restart_job_on_worker_restart=False,\n",
    "    sync=True,\n",
    ")"
   ]
  },
  {
   "cell_type": "markdown",
   "id": "c4fd20da",
   "metadata": {},
   "source": [
    "### Retrieve trial results"
   ]
  },
  {
   "cell_type": "code",
   "execution_count": null,
   "id": "3f8352e3",
   "metadata": {},
   "outputs": [],
   "source": [
    "hp_tuning_job.trials"
   ]
  },
  {
   "cell_type": "code",
   "execution_count": null,
   "id": "311922be",
   "metadata": {},
   "outputs": [],
   "source": [
    "best_trial = sorted(\n",
    "    hp_tuning_job.trials, \n",
    "    key=lambda trial: trial.final_measurement.metrics[0].value, \n",
    "    reverse=True\n",
    ")[0]\n",
    "\n",
    "print(\"Best trial ID:\", best_trial.id)\n",
    "print(\"Validation Accuracy:\", best_trial.final_measurement.metrics[0].value)\n",
    "print(\"Hyperparameter Values:\")\n",
    "for parameter in best_trial.parameters:\n",
    "    print(f\" - {parameter.parameter_id}:{parameter.value}\")"
   ]
  },
  {
   "cell_type": "code",
   "execution_count": null,
   "id": "3e88555c",
   "metadata": {},
   "outputs": [],
   "source": []
  }
 ],
 "metadata": {
  "environment": {
   "name": "common-cpu.m79",
   "type": "gcloud",
   "uri": "gcr.io/deeplearning-platform-release/base-cpu:m79"
  },
  "kernelspec": {
   "display_name": "Python 3",
   "language": "python",
   "name": "python3"
  },
  "language_info": {
   "codemirror_mode": {
    "name": "ipython",
    "version": 3
   },
   "file_extension": ".py",
   "mimetype": "text/x-python",
   "name": "python",
   "nbconvert_exporter": "python",
   "pygments_lexer": "ipython3",
   "version": "3.7.10"
  }
 },
 "nbformat": 4,
 "nbformat_minor": 5
}
